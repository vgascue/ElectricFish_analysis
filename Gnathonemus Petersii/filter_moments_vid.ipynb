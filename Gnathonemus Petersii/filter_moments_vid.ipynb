{
 "cells": [
  {
   "cell_type": "code",
   "execution_count": 129,
   "metadata": {},
   "outputs": [
    {
     "name": "stdout",
     "output_type": "stream",
     "text": [
      "hay 52 archivos\n"
     ]
    }
   ],
   "source": [
    "import pandas as pd\n",
    "import numpy as np\n",
    "import matplotlib.pyplot as plt\n",
    "import os\n",
    "import glob\n",
    "from scipy.spatial import distance\n",
    "import subprocess\n",
    "\n",
    "folder = r'D:\\datos_GPetersii\\datos_GPetersii\\Fish1\\Object\\raw\\50fps'\n",
    "os.chdir(folder)\n",
    "files = sorted(glob.glob('*clean.h5'))\n",
    "videos = sorted(glob.glob('*.avi'))\n",
    "print('hay ' + str(len(files)) + ' archivos')"
   ]
  },
  {
   "cell_type": "code",
   "execution_count": 152,
   "metadata": {},
   "outputs": [],
   "source": [
    "def get_centroids(track, n_keypoints):\n",
    "\n",
    "    centroids = []\n",
    "\n",
    "    bodyparts = np.array([x for x in track.columns.get_level_values(1)])\n",
    "    xpositions = pd.DataFrame(np.zeros((len(track),n_keypoints)), columns=np.unique(bodyparts))\n",
    "    for i in range(n_keypoints):\n",
    "        xpositions[np.unique(bodyparts)[i]] = (track[track.columns.get_level_values(0)[0], np.unique(bodyparts)[i], 'x'])\n",
    "        \n",
    "    median_xposition = np.median(xpositions, axis=1) #xpos\n",
    "\n",
    "    ypositions = pd.DataFrame(np.zeros((len(track),n_keypoints)), columns=np.unique(bodyparts))\n",
    "    for i in range(n_keypoints):\n",
    "        ypositions[np.unique(bodyparts)[i]] = (track[track.columns.get_level_values(0)[0], np.unique(bodyparts)[i], 'y'])\n",
    "        \n",
    "    median_yposition = np.median(ypositions, axis=1) #ypos\n",
    "\n",
    "    for j in range(len(median_xposition)):\n",
    "        centroids.append([median_xposition[j], median_yposition[j]])\n",
    "\n",
    "    return centroids\n",
    "\n",
    "def calculate_velocity(x, sf, pix_to_cm):\n",
    "    desplazamiento = [abs(distance.euclidean(x,y)/pix_to_cm) for x, y in zip(x[1:], x[:-1])]\n",
    "    dt = 1 / sf\n",
    "    v = [i/dt for i in desplazamiento]\n",
    "    return v\n",
    "def save_moment(file, start, end, track, i):\n",
    "    output_video = file[:24] + '_moment_' + str(i) + '.h5'\n",
    "    start_frame = start - 100 # Start frame index\n",
    "    end_frame = end + 100   # End frame index\n",
    "    k = 'moment_' +str(i)\n",
    "    moment_df = track.iloc[start_frame:end_frame+1, :]\n",
    "    moment_df.to_hdf(output_video, key=k)\n",
    "\n",
    "def extract_frames(input_video, output_video, start_frame, end_frame, fps):\n",
    "    # Construct ffmpeg command\n",
    "\n",
    "    ffmpeg_cmd = [\n",
    "        r'C:\\ffmpeg\\bin', \n",
    "        '-i', input_video,\n",
    "        '-vf', f'select=\\'between(n\\,{start_frame}\\,{end_frame})\\',setpts=PTS-STARTPTS',\n",
    "        '-r', str(fps),\n",
    "        output_video\n",
    "    ]\n",
    "    \n",
    "    # Execute ffmpeg command\n",
    "    print(ffmpeg_cmd)\n",
    "    subprocess.run(ffmpeg_cmd)\n"
   ]
  },
  {
   "cell_type": "code",
   "execution_count": 155,
   "metadata": {},
   "outputs": [
    {
     "name": "stdout",
     "output_type": "stream",
     "text": [
      "D:\\datos_GPetersii\\datos_GPetersii\\Fish1\\Object\\raw\\50fps\n",
      "['C:\\\\ffmpeg\\\\bin', '-i', 'D:\\\\datos_GPetersii\\\\datos_GPetersii\\\\Fish1\\\\Object\\\\raw\\\\50fps\\\\video2023-06-09T16_46_17_50fps.avi', '-vf', \"select='between(n\\\\,1\\\\,17815)',setpts=PTS-STARTPTS\", '-r', '50', 'D:\\\\datos_GPetersii\\\\datos_GPetersii\\\\Fish1\\\\Object\\\\raw\\\\50fps\\\\moments\\\\video2023-06-09T16_46_17_moment_0.mp4']\n"
     ]
    },
    {
     "ename": "PermissionError",
     "evalue": "[WinError 5] Acceso denegado",
     "output_type": "error",
     "traceback": [
      "\u001b[1;31m---------------------------------------------------------------------------\u001b[0m",
      "\u001b[1;31mPermissionError\u001b[0m                           Traceback (most recent call last)",
      "Cell \u001b[1;32mIn[155], line 24\u001b[0m\n\u001b[0;32m     21\u001b[0m \u001b[38;5;28;01mfor\u001b[39;00m i, moment \u001b[38;5;129;01min\u001b[39;00m \u001b[38;5;28menumerate\u001b[39m(frames_moments):\n\u001b[0;32m     22\u001b[0m     \u001b[38;5;66;03m#save_moment(file, start=moment[0], end=moment[1], track=track)\u001b[39;00m\n\u001b[0;32m     23\u001b[0m     output_vid \u001b[38;5;241m=\u001b[39m  folder \u001b[38;5;241m+\u001b[39m \u001b[38;5;124m\"\u001b[39m\u001b[38;5;124m\\\u001b[39m\u001b[38;5;124mmoments\u001b[39m\u001b[38;5;130;01m\\\\\u001b[39;00m\u001b[38;5;124m\"\u001b[39m \u001b[38;5;241m+\u001b[39m vid[:\u001b[38;5;241m24\u001b[39m] \u001b[38;5;241m+\u001b[39m \u001b[38;5;124m'\u001b[39m\u001b[38;5;124m_moment_\u001b[39m\u001b[38;5;124m'\u001b[39m \u001b[38;5;241m+\u001b[39m \u001b[38;5;28mstr\u001b[39m(i) \u001b[38;5;241m+\u001b[39m \u001b[38;5;124m'\u001b[39m\u001b[38;5;124m.mp4\u001b[39m\u001b[38;5;124m'\u001b[39m\n\u001b[1;32m---> 24\u001b[0m     extract_frames(folder \u001b[38;5;241m+\u001b[39m \u001b[38;5;124m\"\u001b[39m\u001b[38;5;130;01m\\\\\u001b[39;00m\u001b[38;5;124m\"\u001b[39m \u001b[38;5;241m+\u001b[39m vid, output_vid, start_frame\u001b[38;5;241m=\u001b[39mmoment[\u001b[38;5;241m0\u001b[39m], end_frame\u001b[38;5;241m=\u001b[39mmoment[\u001b[38;5;241m1\u001b[39m], fps\u001b[38;5;241m=\u001b[39m\u001b[38;5;241m50\u001b[39m)\n",
      "Cell \u001b[1;32mIn[152], line 49\u001b[0m, in \u001b[0;36mextract_frames\u001b[1;34m(input_video, output_video, start_frame, end_frame, fps)\u001b[0m\n\u001b[0;32m     47\u001b[0m \u001b[38;5;66;03m# Execute ffmpeg command\u001b[39;00m\n\u001b[0;32m     48\u001b[0m \u001b[38;5;28mprint\u001b[39m(ffmpeg_cmd)\n\u001b[1;32m---> 49\u001b[0m subprocess\u001b[38;5;241m.\u001b[39mrun(ffmpeg_cmd)\n",
      "File \u001b[1;32mc:\\Users\\Compras\\anaconda3\\Lib\\subprocess.py:548\u001b[0m, in \u001b[0;36mrun\u001b[1;34m(input, capture_output, timeout, check, *popenargs, **kwargs)\u001b[0m\n\u001b[0;32m    545\u001b[0m     kwargs[\u001b[38;5;124m'\u001b[39m\u001b[38;5;124mstdout\u001b[39m\u001b[38;5;124m'\u001b[39m] \u001b[38;5;241m=\u001b[39m PIPE\n\u001b[0;32m    546\u001b[0m     kwargs[\u001b[38;5;124m'\u001b[39m\u001b[38;5;124mstderr\u001b[39m\u001b[38;5;124m'\u001b[39m] \u001b[38;5;241m=\u001b[39m PIPE\n\u001b[1;32m--> 548\u001b[0m \u001b[38;5;28;01mwith\u001b[39;00m Popen(\u001b[38;5;241m*\u001b[39mpopenargs, \u001b[38;5;241m*\u001b[39m\u001b[38;5;241m*\u001b[39mkwargs) \u001b[38;5;28;01mas\u001b[39;00m process:\n\u001b[0;32m    549\u001b[0m     \u001b[38;5;28;01mtry\u001b[39;00m:\n\u001b[0;32m    550\u001b[0m         stdout, stderr \u001b[38;5;241m=\u001b[39m process\u001b[38;5;241m.\u001b[39mcommunicate(\u001b[38;5;28minput\u001b[39m, timeout\u001b[38;5;241m=\u001b[39mtimeout)\n",
      "File \u001b[1;32mc:\\Users\\Compras\\anaconda3\\Lib\\subprocess.py:1026\u001b[0m, in \u001b[0;36mPopen.__init__\u001b[1;34m(self, args, bufsize, executable, stdin, stdout, stderr, preexec_fn, close_fds, shell, cwd, env, universal_newlines, startupinfo, creationflags, restore_signals, start_new_session, pass_fds, user, group, extra_groups, encoding, errors, text, umask, pipesize, process_group)\u001b[0m\n\u001b[0;32m   1022\u001b[0m         \u001b[38;5;28;01mif\u001b[39;00m \u001b[38;5;28mself\u001b[39m\u001b[38;5;241m.\u001b[39mtext_mode:\n\u001b[0;32m   1023\u001b[0m             \u001b[38;5;28mself\u001b[39m\u001b[38;5;241m.\u001b[39mstderr \u001b[38;5;241m=\u001b[39m io\u001b[38;5;241m.\u001b[39mTextIOWrapper(\u001b[38;5;28mself\u001b[39m\u001b[38;5;241m.\u001b[39mstderr,\n\u001b[0;32m   1024\u001b[0m                     encoding\u001b[38;5;241m=\u001b[39mencoding, errors\u001b[38;5;241m=\u001b[39merrors)\n\u001b[1;32m-> 1026\u001b[0m     \u001b[38;5;28mself\u001b[39m\u001b[38;5;241m.\u001b[39m_execute_child(args, executable, preexec_fn, close_fds,\n\u001b[0;32m   1027\u001b[0m                         pass_fds, cwd, env,\n\u001b[0;32m   1028\u001b[0m                         startupinfo, creationflags, shell,\n\u001b[0;32m   1029\u001b[0m                         p2cread, p2cwrite,\n\u001b[0;32m   1030\u001b[0m                         c2pread, c2pwrite,\n\u001b[0;32m   1031\u001b[0m                         errread, errwrite,\n\u001b[0;32m   1032\u001b[0m                         restore_signals,\n\u001b[0;32m   1033\u001b[0m                         gid, gids, uid, umask,\n\u001b[0;32m   1034\u001b[0m                         start_new_session, process_group)\n\u001b[0;32m   1035\u001b[0m \u001b[38;5;28;01mexcept\u001b[39;00m:\n\u001b[0;32m   1036\u001b[0m     \u001b[38;5;66;03m# Cleanup if the child failed starting.\u001b[39;00m\n\u001b[0;32m   1037\u001b[0m     \u001b[38;5;28;01mfor\u001b[39;00m f \u001b[38;5;129;01min\u001b[39;00m \u001b[38;5;28mfilter\u001b[39m(\u001b[38;5;28;01mNone\u001b[39;00m, (\u001b[38;5;28mself\u001b[39m\u001b[38;5;241m.\u001b[39mstdin, \u001b[38;5;28mself\u001b[39m\u001b[38;5;241m.\u001b[39mstdout, \u001b[38;5;28mself\u001b[39m\u001b[38;5;241m.\u001b[39mstderr)):\n",
      "File \u001b[1;32mc:\\Users\\Compras\\anaconda3\\Lib\\subprocess.py:1538\u001b[0m, in \u001b[0;36mPopen._execute_child\u001b[1;34m(self, args, executable, preexec_fn, close_fds, pass_fds, cwd, env, startupinfo, creationflags, shell, p2cread, p2cwrite, c2pread, c2pwrite, errread, errwrite, unused_restore_signals, unused_gid, unused_gids, unused_uid, unused_umask, unused_start_new_session, unused_process_group)\u001b[0m\n\u001b[0;32m   1536\u001b[0m \u001b[38;5;66;03m# Start the process\u001b[39;00m\n\u001b[0;32m   1537\u001b[0m \u001b[38;5;28;01mtry\u001b[39;00m:\n\u001b[1;32m-> 1538\u001b[0m     hp, ht, pid, tid \u001b[38;5;241m=\u001b[39m _winapi\u001b[38;5;241m.\u001b[39mCreateProcess(executable, args,\n\u001b[0;32m   1539\u001b[0m                              \u001b[38;5;66;03m# no special security\u001b[39;00m\n\u001b[0;32m   1540\u001b[0m                              \u001b[38;5;28;01mNone\u001b[39;00m, \u001b[38;5;28;01mNone\u001b[39;00m,\n\u001b[0;32m   1541\u001b[0m                              \u001b[38;5;28mint\u001b[39m(\u001b[38;5;129;01mnot\u001b[39;00m close_fds),\n\u001b[0;32m   1542\u001b[0m                              creationflags,\n\u001b[0;32m   1543\u001b[0m                              env,\n\u001b[0;32m   1544\u001b[0m                              cwd,\n\u001b[0;32m   1545\u001b[0m                              startupinfo)\n\u001b[0;32m   1546\u001b[0m \u001b[38;5;28;01mfinally\u001b[39;00m:\n\u001b[0;32m   1547\u001b[0m     \u001b[38;5;66;03m# Child is launched. Close the parent's copy of those pipe\u001b[39;00m\n\u001b[0;32m   1548\u001b[0m     \u001b[38;5;66;03m# handles that only the child should have open.  You need\u001b[39;00m\n\u001b[1;32m   (...)\u001b[0m\n\u001b[0;32m   1551\u001b[0m     \u001b[38;5;66;03m# pipe will not close when the child process exits and the\u001b[39;00m\n\u001b[0;32m   1552\u001b[0m     \u001b[38;5;66;03m# ReadFile will hang.\u001b[39;00m\n\u001b[0;32m   1553\u001b[0m     \u001b[38;5;28mself\u001b[39m\u001b[38;5;241m.\u001b[39m_close_pipe_fds(p2cread, p2cwrite,\n\u001b[0;32m   1554\u001b[0m                          c2pread, c2pwrite,\n\u001b[0;32m   1555\u001b[0m                          errread, errwrite)\n",
      "\u001b[1;31mPermissionError\u001b[0m: [WinError 5] Acceso denegado"
     ]
    }
   ],
   "source": [
    "for file, vid in zip(files, videos):\n",
    "    os.chdir(folder)\n",
    "    track = pd.read_hdf(file)\n",
    "    centroids = get_centroids(track, n_keypoints=6)\n",
    "    velocity = calculate_velocity(centroids, sf=150, pix_to_cm=12)\n",
    "    vel_per_frame = pd.DataFrame(zip([round(x[0]/12) for x in centroids], [round(y[1]/12) for y in centroids], velocity), columns=['x', 'y', 'v'])\n",
    "    idx_movement = [i for i,x in enumerate(velocity) if x > 10]\n",
    "    duration_moments = [i-j for i,j in zip(idx_movement[1:], idx_movement[:-1])]\n",
    "    single_moments = [1 if i < 50 else 0 for i in duration_moments] \n",
    "\n",
    "    start = [0]\n",
    "    end = []\n",
    "    for i, x in enumerate(single_moments[:-1]):\n",
    "        if (x == 1 and single_moments[i-1] == 0):\n",
    "            start.append(i)\n",
    "        if (x == 1 and single_moments[i+1] == 0):\n",
    "            end.append(i+1)\n",
    "    frames_moments = [(idx_movement[x],idx_movement[y]) for x,y in zip(start, end) if not x==y]\n",
    "    #os.chdir(folder + '\\moments')\n",
    "    print(os.getcwd())\n",
    "    for i, moment in enumerate(frames_moments):\n",
    "        #save_moment(file, start=moment[0], end=moment[1], track=track)\n",
    "        output_vid =  folder + \"\\moments\\\\\" + vid[:24] + '_moment_' + str(i) + '.mp4'\n",
    "        extract_frames(folder + \"\\\\\" + vid, output_vid, start_frame=moment[0], end_frame=moment[1], fps=50)\n",
    "    "
   ]
  },
  {
   "cell_type": "markdown",
   "metadata": {},
   "source": [
    "La siguiente celda plotea la trayectoria para un momento dado. Con el tamano del punto proporcional a la velocidad del pez en ese punto."
   ]
  },
  {
   "cell_type": "code",
   "execution_count": 75,
   "metadata": {},
   "outputs": [],
   "source": [
    "import seaborn as sns\n",
    "def plot_trayectories(vel_per_frame, start_frame, end_frame):\n",
    "    data = vel_per_frame.iloc[start_frame:end_frame+1, :]\n",
    "    #graficamos\n",
    "    fig, ax = plt.subplots()\n",
    "    points = sns.scatterplot(\n",
    "        data=data,\n",
    "        x='x',\n",
    "        y='y',\n",
    "        size='v',\n",
    "        hue='v'\n",
    "    )\n",
    "    ax.plot(data['x'], data['y'], c='pink', linewidth=.5, linestyle='--', alpha=.5)\n",
    "    ax.scatter(x =  439.2/12, y = 207.53/12, c='crimson', s=150, marker='*')\n",
    "    ax.set_ylim([0,63])\n",
    "    ax.set_xlim([0,63])\n",
    "    plt.show()"
   ]
  },
  {
   "cell_type": "code",
   "execution_count": 135,
   "metadata": {},
   "outputs": [
    {
     "data": {
      "text/plain": [
       "[(18561, 19609), (29131, 32429), (1, 17815), (55049, 55130), (36707, 40577)]"
      ]
     },
     "execution_count": 135,
     "metadata": {},
     "output_type": "execute_result"
    }
   ],
   "source": [
    "from random import sample\n",
    "rand_frames_moments = sample(frames_moments, 5)\n",
    "rand_frames_moments"
   ]
  },
  {
   "cell_type": "code",
   "execution_count": null,
   "metadata": {},
   "outputs": [],
   "source": [
    "for moment in rand_frames_moments:\n",
    "    plot_trayectories(vel_per_frame, start_frame=moment[0] - 500, end_frame=moment[1] + 500)"
   ]
  },
  {
   "cell_type": "markdown",
   "metadata": {},
   "source": [
    "Las siguientes celdas generan videos de muestra de las frames seleccionadas. "
   ]
  },
  {
   "cell_type": "code",
   "execution_count": 143,
   "metadata": {},
   "outputs": [],
   "source": [
    "import subprocess\n",
    "\n",
    "def extract_frames(input_video, output_video, start_frame, end_frame, fps):\n",
    "    # Construct ffmpeg command\n",
    "\n",
    "    ffmpeg_cmd = [\n",
    "        r'C:\\ffmpeg', \n",
    "        '-i', input_video,\n",
    "        '-vf', f'select=\\'between(n\\,{start_frame}\\,{end_frame})\\',setpts=PTS-STARTPTS',\n",
    "        '-r', str(fps),\n",
    "        output_video\n",
    "    ]\n",
    "    \n",
    "    # Execute ffmpeg command\n",
    "    subprocess.run(ffmpeg_cmd)"
   ]
  },
  {
   "cell_type": "code",
   "execution_count": 77,
   "metadata": {},
   "outputs": [],
   "source": [
    "vid_folder = 'D:\\datos_GPetersii\\datos_GPetersii\\Fish7\\Object\\raw'\n",
    "videos = sorted(glob.glob(vid_folder+'*.avi'))"
   ]
  },
  {
   "cell_type": "code",
   "execution_count": 136,
   "metadata": {},
   "outputs": [
    {
     "ename": "FileNotFoundError",
     "evalue": "[WinError 2] El sistema no puede encontrar el archivo especificado",
     "output_type": "error",
     "traceback": [
      "\u001b[1;31m---------------------------------------------------------------------------\u001b[0m",
      "\u001b[1;31mFileNotFoundError\u001b[0m                         Traceback (most recent call last)",
      "Cell \u001b[1;32mIn[136], line 11\u001b[0m\n\u001b[0;32m      8\u001b[0m end_frame \u001b[38;5;241m=\u001b[39m moment[\u001b[38;5;241m1\u001b[39m] \u001b[38;5;241m+\u001b[39m \u001b[38;5;241m100\u001b[39m   \u001b[38;5;66;03m# End frame index\u001b[39;00m\n\u001b[0;32m      9\u001b[0m fps \u001b[38;5;241m=\u001b[39m \u001b[38;5;241m50\u001b[39m           \u001b[38;5;66;03m# Desired frames per second for output video\u001b[39;00m\n\u001b[1;32m---> 11\u001b[0m extract_frames(input_video, output_video, start_frame, end_frame, fps)\n",
      "Cell \u001b[1;32mIn[131], line 48\u001b[0m, in \u001b[0;36mextract_frames\u001b[1;34m(input_video, output_video, start_frame, end_frame, fps)\u001b[0m\n\u001b[0;32m     39\u001b[0m ffmpeg_cmd \u001b[38;5;241m=\u001b[39m [\n\u001b[0;32m     40\u001b[0m     \u001b[38;5;124m'\u001b[39m\u001b[38;5;124m/opt/local/bin/ffmpeg\u001b[39m\u001b[38;5;124m'\u001b[39m, \n\u001b[0;32m     41\u001b[0m     \u001b[38;5;124m'\u001b[39m\u001b[38;5;124m-i\u001b[39m\u001b[38;5;124m'\u001b[39m, input_video,\n\u001b[1;32m   (...)\u001b[0m\n\u001b[0;32m     44\u001b[0m     output_video\n\u001b[0;32m     45\u001b[0m ]\n\u001b[0;32m     47\u001b[0m \u001b[38;5;66;03m# Execute ffmpeg command\u001b[39;00m\n\u001b[1;32m---> 48\u001b[0m subprocess\u001b[38;5;241m.\u001b[39mrun(ffmpeg_cmd)\n",
      "File \u001b[1;32mc:\\Users\\Compras\\anaconda3\\Lib\\subprocess.py:548\u001b[0m, in \u001b[0;36mrun\u001b[1;34m(input, capture_output, timeout, check, *popenargs, **kwargs)\u001b[0m\n\u001b[0;32m    545\u001b[0m     kwargs[\u001b[38;5;124m'\u001b[39m\u001b[38;5;124mstdout\u001b[39m\u001b[38;5;124m'\u001b[39m] \u001b[38;5;241m=\u001b[39m PIPE\n\u001b[0;32m    546\u001b[0m     kwargs[\u001b[38;5;124m'\u001b[39m\u001b[38;5;124mstderr\u001b[39m\u001b[38;5;124m'\u001b[39m] \u001b[38;5;241m=\u001b[39m PIPE\n\u001b[1;32m--> 548\u001b[0m \u001b[38;5;28;01mwith\u001b[39;00m Popen(\u001b[38;5;241m*\u001b[39mpopenargs, \u001b[38;5;241m*\u001b[39m\u001b[38;5;241m*\u001b[39mkwargs) \u001b[38;5;28;01mas\u001b[39;00m process:\n\u001b[0;32m    549\u001b[0m     \u001b[38;5;28;01mtry\u001b[39;00m:\n\u001b[0;32m    550\u001b[0m         stdout, stderr \u001b[38;5;241m=\u001b[39m process\u001b[38;5;241m.\u001b[39mcommunicate(\u001b[38;5;28minput\u001b[39m, timeout\u001b[38;5;241m=\u001b[39mtimeout)\n",
      "File \u001b[1;32mc:\\Users\\Compras\\anaconda3\\Lib\\subprocess.py:1026\u001b[0m, in \u001b[0;36mPopen.__init__\u001b[1;34m(self, args, bufsize, executable, stdin, stdout, stderr, preexec_fn, close_fds, shell, cwd, env, universal_newlines, startupinfo, creationflags, restore_signals, start_new_session, pass_fds, user, group, extra_groups, encoding, errors, text, umask, pipesize, process_group)\u001b[0m\n\u001b[0;32m   1022\u001b[0m         \u001b[38;5;28;01mif\u001b[39;00m \u001b[38;5;28mself\u001b[39m\u001b[38;5;241m.\u001b[39mtext_mode:\n\u001b[0;32m   1023\u001b[0m             \u001b[38;5;28mself\u001b[39m\u001b[38;5;241m.\u001b[39mstderr \u001b[38;5;241m=\u001b[39m io\u001b[38;5;241m.\u001b[39mTextIOWrapper(\u001b[38;5;28mself\u001b[39m\u001b[38;5;241m.\u001b[39mstderr,\n\u001b[0;32m   1024\u001b[0m                     encoding\u001b[38;5;241m=\u001b[39mencoding, errors\u001b[38;5;241m=\u001b[39merrors)\n\u001b[1;32m-> 1026\u001b[0m     \u001b[38;5;28mself\u001b[39m\u001b[38;5;241m.\u001b[39m_execute_child(args, executable, preexec_fn, close_fds,\n\u001b[0;32m   1027\u001b[0m                         pass_fds, cwd, env,\n\u001b[0;32m   1028\u001b[0m                         startupinfo, creationflags, shell,\n\u001b[0;32m   1029\u001b[0m                         p2cread, p2cwrite,\n\u001b[0;32m   1030\u001b[0m                         c2pread, c2pwrite,\n\u001b[0;32m   1031\u001b[0m                         errread, errwrite,\n\u001b[0;32m   1032\u001b[0m                         restore_signals,\n\u001b[0;32m   1033\u001b[0m                         gid, gids, uid, umask,\n\u001b[0;32m   1034\u001b[0m                         start_new_session, process_group)\n\u001b[0;32m   1035\u001b[0m \u001b[38;5;28;01mexcept\u001b[39;00m:\n\u001b[0;32m   1036\u001b[0m     \u001b[38;5;66;03m# Cleanup if the child failed starting.\u001b[39;00m\n\u001b[0;32m   1037\u001b[0m     \u001b[38;5;28;01mfor\u001b[39;00m f \u001b[38;5;129;01min\u001b[39;00m \u001b[38;5;28mfilter\u001b[39m(\u001b[38;5;28;01mNone\u001b[39;00m, (\u001b[38;5;28mself\u001b[39m\u001b[38;5;241m.\u001b[39mstdin, \u001b[38;5;28mself\u001b[39m\u001b[38;5;241m.\u001b[39mstdout, \u001b[38;5;28mself\u001b[39m\u001b[38;5;241m.\u001b[39mstderr)):\n",
      "File \u001b[1;32mc:\\Users\\Compras\\anaconda3\\Lib\\subprocess.py:1538\u001b[0m, in \u001b[0;36mPopen._execute_child\u001b[1;34m(self, args, executable, preexec_fn, close_fds, pass_fds, cwd, env, startupinfo, creationflags, shell, p2cread, p2cwrite, c2pread, c2pwrite, errread, errwrite, unused_restore_signals, unused_gid, unused_gids, unused_uid, unused_umask, unused_start_new_session, unused_process_group)\u001b[0m\n\u001b[0;32m   1536\u001b[0m \u001b[38;5;66;03m# Start the process\u001b[39;00m\n\u001b[0;32m   1537\u001b[0m \u001b[38;5;28;01mtry\u001b[39;00m:\n\u001b[1;32m-> 1538\u001b[0m     hp, ht, pid, tid \u001b[38;5;241m=\u001b[39m _winapi\u001b[38;5;241m.\u001b[39mCreateProcess(executable, args,\n\u001b[0;32m   1539\u001b[0m                              \u001b[38;5;66;03m# no special security\u001b[39;00m\n\u001b[0;32m   1540\u001b[0m                              \u001b[38;5;28;01mNone\u001b[39;00m, \u001b[38;5;28;01mNone\u001b[39;00m,\n\u001b[0;32m   1541\u001b[0m                              \u001b[38;5;28mint\u001b[39m(\u001b[38;5;129;01mnot\u001b[39;00m close_fds),\n\u001b[0;32m   1542\u001b[0m                              creationflags,\n\u001b[0;32m   1543\u001b[0m                              env,\n\u001b[0;32m   1544\u001b[0m                              cwd,\n\u001b[0;32m   1545\u001b[0m                              startupinfo)\n\u001b[0;32m   1546\u001b[0m \u001b[38;5;28;01mfinally\u001b[39;00m:\n\u001b[0;32m   1547\u001b[0m     \u001b[38;5;66;03m# Child is launched. Close the parent's copy of those pipe\u001b[39;00m\n\u001b[0;32m   1548\u001b[0m     \u001b[38;5;66;03m# handles that only the child should have open.  You need\u001b[39;00m\n\u001b[1;32m   (...)\u001b[0m\n\u001b[0;32m   1551\u001b[0m     \u001b[38;5;66;03m# pipe will not close when the child process exits and the\u001b[39;00m\n\u001b[0;32m   1552\u001b[0m     \u001b[38;5;66;03m# ReadFile will hang.\u001b[39;00m\n\u001b[0;32m   1553\u001b[0m     \u001b[38;5;28mself\u001b[39m\u001b[38;5;241m.\u001b[39m_close_pipe_fds(p2cread, p2cwrite,\n\u001b[0;32m   1554\u001b[0m                          c2pread, c2pwrite,\n\u001b[0;32m   1555\u001b[0m                          errread, errwrite)\n",
      "\u001b[1;31mFileNotFoundError\u001b[0m: [WinError 2] El sistema no puede encontrar el archivo especificado"
     ]
    }
   ],
   "source": [
    "#vid_folder = '/Volumes/Expansion/datos_GPetersii/datos_GPetersii/Fish1/Object/raw/'\n",
    "#videos = glob.glob(vid_folder+'*.avi')\n",
    "#for vid in videos :\n",
    "input_video = videos[0]\n",
    "for i, moment in enumerate(rand_frames_moments):\n",
    "    output_video = input_video[74:-9] + '_moment_' + str(i) + '.avi'\n",
    "    start_frame = moment[0] - 100 # Start frame index\n",
    "    end_frame = moment[1] + 100   # End frame index\n",
    "    fps = 50           # Desired frames per second for output video\n",
    "\n",
    "    extract_frames(input_video, output_video, start_frame, end_frame, fps)\n"
   ]
  }
 ],
 "metadata": {
  "kernelspec": {
   "display_name": "base",
   "language": "python",
   "name": "python3"
  },
  "language_info": {
   "codemirror_mode": {
    "name": "ipython",
    "version": 3
   },
   "file_extension": ".py",
   "mimetype": "text/x-python",
   "name": "python",
   "nbconvert_exporter": "python",
   "pygments_lexer": "ipython3",
   "version": "3.11.4"
  }
 },
 "nbformat": 4,
 "nbformat_minor": 2
}
