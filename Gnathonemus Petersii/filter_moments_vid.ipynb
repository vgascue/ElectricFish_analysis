{
 "cells": [
  {
   "cell_type": "code",
   "execution_count": null,
   "metadata": {},
   "outputs": [],
   "source": [
    "import pandas as pd\n",
    "import numpy as np\n",
    "import matplotlib.pyplot as plt\n",
    "import os\n",
    "import glob\n",
    "from scipy.spatial import distance\n",
    "import pickle\n",
    "\n",
    "folder = r'D:\\datos_GPetersii\\datos_GPetersii\\Fish4\\Object\\Pose Estimation'\n",
    "os.chdir(folder)\n",
    "files = sorted(glob.glob('*clean.h5'))\n",
    "print('hay ' + str(len(files)) + ' archivos')"
   ]
  },
  {
   "cell_type": "code",
   "execution_count": null,
   "metadata": {},
   "outputs": [],
   "source": [
    "#cargamos el archivo de FB-DOE\n",
    "with open('fish4_FB-DOE.pkl', 'rb') as file:   #cambiar al nombre apropiado de archivo\n",
    "        FB_doe = pickle.load(file)\n"
   ]
  },
  {
   "cell_type": "code",
   "execution_count": null,
   "metadata": {},
   "outputs": [],
   "source": [
    "files[0]"
   ]
  },
  {
   "cell_type": "code",
   "execution_count": null,
   "metadata": {},
   "outputs": [],
   "source": [
    "def get_centroids(track, n_keypoints):\n",
    "    centroids = []\n",
    "\n",
    "    bodyparts = np.array([x for x in track.columns.get_level_values(1)])\n",
    "    xpositions = pd.DataFrame(np.zeros((len(track),n_keypoints)), columns=np.unique(bodyparts))\n",
    "    for i in range(n_keypoints):\n",
    "        xpositions[np.unique(bodyparts)[i]] = (track[track.columns.get_level_values(0)[0], np.unique(bodyparts)[i], 'x'])\n",
    "        \n",
    "    median_xposition = np.median(xpositions, axis=1) #xpos\n",
    "\n",
    "    ypositions = pd.DataFrame(np.zeros((len(track),n_keypoints)), columns=np.unique(bodyparts))\n",
    "    for i in range(n_keypoints):\n",
    "        ypositions[np.unique(bodyparts)[i]] = (track[track.columns.get_level_values(0)[0], np.unique(bodyparts)[i], 'y'])\n",
    "        \n",
    "    median_yposition = np.median(ypositions, axis=1) #ypos\n",
    "\n",
    "    for j in range(len(median_xposition)):\n",
    "        centroids.append([median_xposition[j], median_yposition[j]])\n",
    "\n",
    "    return centroids"
   ]
  },
  {
   "cell_type": "code",
   "execution_count": null,
   "metadata": {},
   "outputs": [],
   "source": [
    "centroids = get_centroids(track, n_keypoints=6)"
   ]
  },
  {
   "cell_type": "code",
   "execution_count": null,
   "metadata": {},
   "outputs": [],
   "source": [
    "def calculate_velocity(centroids, sf, pix_to_cm):\n",
    "    desplazamiento = [distance.euclidean(x,y)*pix_to_cm for x, y in zip(centroids[1:], centroids[:-1])]\n",
    "    dt = len(centroids) / sf\n",
    "    v = [i/dt for i in desplazamiento]\n",
    "\n",
    "    return v"
   ]
  },
  {
   "cell_type": "code",
   "execution_count": null,
   "metadata": {},
   "outputs": [],
   "source": [
    "velocity = calculate_velocity(centroids, sf=150, pix_to_cm=12)"
   ]
  },
  {
   "cell_type": "code",
   "execution_count": null,
   "metadata": {},
   "outputs": [],
   "source": [
    "%matplotlib widget\n",
    "plt.figure()\n",
    "plt.plot(velocity)\n",
    "plt.scatter(range(len(velocity)), velocity)\n",
    "plt.plot(range(len(velocity)), [1 for x in velocity], c='r')"
   ]
  },
  {
   "cell_type": "code",
   "execution_count": null,
   "metadata": {},
   "outputs": [],
   "source": [
    "vel_per_frame = pd.DataFrame(zip([round(x[0]/12) for x in centroids], [round(y[1]/12) for y in centroids], velocity), columns=['x', 'y', 'v'])\n",
    "vel_per_frame"
   ]
  },
  {
   "cell_type": "code",
   "execution_count": null,
   "metadata": {},
   "outputs": [],
   "source": [
    "def plot_map(grid, objCoordinates,cmap, label,filename, vmax=None,vmin=None):\n",
    "    fig, ax = plt.subplots()\n",
    "    plt.imshow(grid, cmap=cmap, vmax=vmax, vmin=vmin, origin='lower')\n",
    "    cbar = plt.colorbar()\n",
    "    cbar.set_label(label)\n",
    "    #plt.scatter(objCoordinates[1]/10, objCoordinates[0]/10, s=100, c='k')\n",
    "    #fig.savefig(filename, format='svg', dpi=1200)"
   ]
  },
  {
   "cell_type": "code",
   "execution_count": null,
   "metadata": {},
   "outputs": [],
   "source": [
    "idx_movement = [i for i,x in enumerate(velocity) if x > 0.1]\n",
    "idx_movement"
   ]
  },
  {
   "cell_type": "code",
   "execution_count": null,
   "metadata": {},
   "outputs": [],
   "source": [
    "duration_moments = [i-j for i,j in zip(idx_movement[1:], idx_movement[:-1])]\n",
    "single_moments = [1 if i < 50 else 0 for i in duration_moments]\n",
    "single_moments"
   ]
  },
  {
   "cell_type": "code",
   "execution_count": null,
   "metadata": {},
   "outputs": [],
   "source": [
    "start = [0]\n",
    "end = []\n",
    "for i, x in enumerate(single_moments[:-1]):\n",
    "    if (x == 1 and single_moments[i-1] == 0):\n",
    "        start.append(i)\n",
    "    if (x == 1 and single_moments[i+1] == 0):\n",
    "        end.append(i+1)\n",
    "\n",
    "frames_moments = [(idx_movement[x],idx_movement[y]) for x,y in zip(start, end) if not x==y]"
   ]
  },
  {
   "cell_type": "code",
   "execution_count": null,
   "metadata": {},
   "outputs": [],
   "source": [
    "frames_moments"
   ]
  },
  {
   "cell_type": "code",
   "execution_count": null,
   "metadata": {},
   "outputs": [],
   "source": [
    "import seaborn as sns\n",
    "def plot_trayectories(vel_per_frame, start_frame, end_frame):\n",
    "    data = vel_per_frame.iloc[start_frame:end_frame+1, :]\n",
    "    #graficamos\n",
    "    fig, ax = plt.subplots()\n",
    "    points = sns.scatterplot(\n",
    "        data=data,\n",
    "        x='x',\n",
    "        y='y',\n",
    "        size='v',\n",
    "        hue='v'\n",
    "    )\n",
    "    ax.plot(data['x'], data['y'], c='pink', linewidth=.5, linestyle='--', alpha=.5)\n",
    "    ax.scatter(x =  439.2/12, y = 207.53/12, c='crimson', s=150, marker='*')\n",
    "    ax.set_ylim([0,63])\n",
    "    ax.set_xlim([0,63])\n",
    "    plt.show()"
   ]
  },
  {
   "cell_type": "code",
   "execution_count": null,
   "metadata": {},
   "outputs": [],
   "source": [
    "import subprocess\n",
    "\n",
    "def extract_frames(input_video, output_video, start_frame, end_frame, fps):\n",
    "    # Construct ffmpeg command\n",
    "\n",
    "    ffmpeg_cmd = [\n",
    "        '/opt/local/bin/ffmpeg', \n",
    "        '-i', input_video,\n",
    "        '-vf', f'select=\\'between(n\\,{start_frame}\\,{end_frame})\\',setpts=PTS-STARTPTS',\n",
    "        '-r', str(fps),\n",
    "        output_video\n",
    "    ]\n",
    "    \n",
    "    # Execute ffmpeg command\n",
    "    subprocess.run(ffmpeg_cmd)"
   ]
  },
  {
   "cell_type": "markdown",
   "metadata": {},
   "source": []
  },
  {
   "cell_type": "code",
   "execution_count": null,
   "metadata": {},
   "outputs": [],
   "source": [
    "vid_folder = '/Volumes/Expansion/datos_GPetersii/datos_GPetersii/Fish1/Object/raw/50fps/'\n",
    "videos = sorted(glob.glob(vid_folder+'*.avi'))"
   ]
  },
  {
   "cell_type": "code",
   "execution_count": null,
   "metadata": {},
   "outputs": [],
   "source": [
    "from random import sample\n",
    "rand_frames_moments = sample(frames_moments, 5)\n",
    "rand_frames_moments"
   ]
  },
  {
   "cell_type": "code",
   "execution_count": null,
   "metadata": {},
   "outputs": [],
   "source": [
    "for moment in rand_frames_moments:\n",
    "    plot_trayectories(vel_per_frame, start_frame=moment[0] - 500, end_frame=moment[1] + 500)"
   ]
  },
  {
   "cell_type": "code",
   "execution_count": null,
   "metadata": {},
   "outputs": [],
   "source": [
    "#vid_folder = '/Volumes/Expansion/datos_GPetersii/datos_GPetersii/Fish1/Object/raw/'\n",
    "#videos = glob.glob(vid_folder+'*.avi')\n",
    "#for vid in videos :\n",
    "input_video = videos[0]\n",
    "for i, moment in enumerate(rand_frames_moments):\n",
    "    output_video = input_video[74:-9] + '_moment_' + str(i) + '.avi'\n",
    "    start_frame = moment[0] - 100 # Start frame index\n",
    "    end_frame = moment[1] + 100   # End frame index\n",
    "    fps = 50           # Desired frames per second for output video\n",
    "\n",
    "    extract_frames(input_video, output_video, start_frame, end_frame, fps)\n"
   ]
  }
 ],
 "metadata": {
  "kernelspec": {
   "display_name": "base",
   "language": "python",
   "name": "python3"
  },
  "language_info": {
   "codemirror_mode": {
    "name": "ipython",
    "version": 3
   },
   "file_extension": ".py",
   "mimetype": "text/x-python",
   "name": "python",
   "nbconvert_exporter": "python",
   "pygments_lexer": "ipython3",
   "version": "undefined.undefined.undefined"
  }
 },
 "nbformat": 4,
 "nbformat_minor": 2
}
