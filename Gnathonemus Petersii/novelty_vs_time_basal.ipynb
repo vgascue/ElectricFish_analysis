{
 "cells": [
  {
   "cell_type": "markdown",
   "metadata": {},
   "source": [
    "Este script genera graficos de frecuencia instantanea de la DOE vs. tiempo durante el estimulo. Superpone cada estimulacion y las separa en sub-plots por hora consecutiva de estimulacion. Tiene la opcion de separar entre el trial de la mañana y la tarde.\n",
    "\n",
    "Toma los archivos .pkl obtenidos de 'EOD_analysis.py' y los .csv registrados con bonsai con los timestamps de los on y off del objeto. Puede ser adaptado para graficar raster-plot, graficar todas las horas de estimulacion en uno y cambiar los rangos de tiempo de interes para plotear. "
   ]
  },
  {
   "cell_type": "code",
   "execution_count": 124,
   "metadata": {},
   "outputs": [],
   "source": [
    "#importamos los paquetes\n",
    "import pandas as pd\n",
    "import numpy as np\n",
    "import matplotlib.pyplot as plt\n",
    "import glob\n",
    "import os\n",
    "import pickle\n",
    "from datetime import datetime, timedelta\n",
    "from scipy.stats import zscore\n",
    "\n",
    "#cambiamos la carpeta de trabajo y cargamos los archivos\n",
    "data_folder = r'D:\\Datos G. omarorum\\Fish5\\Objeto\\Trial 1 y 2\\raw' #cambiar a ruta con archivos .bin\n",
    "os.chdir(data_folder)\n",
    "\n",
    "files_EOD = sorted(glob.glob('*.bin'))\n",
    "#definimos parametros\n",
    "sf = 10000\n"
   ]
  },
  {
   "cell_type": "code",
   "execution_count": 125,
   "metadata": {},
   "outputs": [],
   "source": [
    "#cargamos el archivo de FB-DOE\n",
    "with open('fish5_FB-DOE.pkl', 'rb') as file:   #cambiar al nombre apropiado de archivo\n",
    "        FB_doe = pickle.load(file)"
   ]
  },
  {
   "cell_type": "markdown",
   "metadata": {},
   "source": [
    "A continuacion tenemos algunas celdas que pre-procesan nuestros datos y filtran los archivos para solo utilizar los que contienen registros durante la estimulacion."
   ]
  },
  {
   "cell_type": "code",
   "execution_count": 126,
   "metadata": {},
   "outputs": [
    {
     "name": "stdout",
     "output_type": "stream",
     "text": [
      "[datetime.datetime(2024, 1, 31, 17, 7, 7), datetime.datetime(2024, 1, 31, 17, 27, 7), datetime.datetime(2024, 1, 31, 17, 47, 7), datetime.datetime(2024, 1, 31, 18, 7, 7), datetime.datetime(2024, 1, 31, 18, 27, 7), datetime.datetime(2024, 1, 31, 18, 47, 8), datetime.datetime(2024, 1, 31, 19, 7, 8), datetime.datetime(2024, 1, 31, 19, 27, 8), datetime.datetime(2024, 1, 31, 19, 47, 8), datetime.datetime(2024, 1, 31, 20, 7, 8), datetime.datetime(2024, 1, 31, 20, 27, 8), datetime.datetime(2024, 1, 31, 20, 47, 8), datetime.datetime(2024, 1, 31, 21, 7, 9), datetime.datetime(2024, 1, 31, 21, 27, 9), datetime.datetime(2024, 1, 31, 21, 47, 9), datetime.datetime(2024, 1, 31, 22, 7, 9), datetime.datetime(2024, 1, 31, 22, 27, 9), datetime.datetime(2024, 1, 31, 22, 47, 9), datetime.datetime(2024, 1, 31, 23, 7, 10), datetime.datetime(2024, 1, 31, 23, 27, 10), datetime.datetime(2024, 1, 31, 23, 47, 10), datetime.datetime(2024, 2, 1, 0, 7, 10), datetime.datetime(2024, 2, 1, 0, 27, 10), datetime.datetime(2024, 2, 1, 0, 47, 10), datetime.datetime(2024, 2, 1, 1, 7, 10), datetime.datetime(2024, 2, 1, 1, 27, 11), datetime.datetime(2024, 2, 1, 1, 47, 11), datetime.datetime(2024, 2, 1, 2, 7, 11), datetime.datetime(2024, 2, 1, 2, 27, 11), datetime.datetime(2024, 2, 1, 2, 47, 11), datetime.datetime(2024, 2, 1, 3, 7, 11), datetime.datetime(2024, 2, 1, 3, 27, 11), datetime.datetime(2024, 2, 1, 3, 47, 12), datetime.datetime(2024, 2, 1, 4, 7, 12), datetime.datetime(2024, 2, 1, 4, 27, 12), datetime.datetime(2024, 2, 1, 4, 47, 12), datetime.datetime(2024, 2, 1, 5, 7, 12), datetime.datetime(2024, 2, 1, 5, 27, 12), datetime.datetime(2024, 2, 1, 5, 47, 13), datetime.datetime(2024, 2, 1, 6, 7, 13), datetime.datetime(2024, 2, 1, 6, 27, 13), datetime.datetime(2024, 2, 1, 6, 47, 13), datetime.datetime(2024, 2, 1, 7, 7, 13), datetime.datetime(2024, 2, 1, 7, 27, 13), datetime.datetime(2024, 2, 1, 7, 47, 13), datetime.datetime(2024, 2, 1, 8, 7, 14), datetime.datetime(2024, 2, 1, 8, 27, 14), datetime.datetime(2024, 2, 1, 8, 47, 14), datetime.datetime(2024, 2, 1, 9, 7, 14), datetime.datetime(2024, 2, 1, 9, 27, 14), datetime.datetime(2024, 2, 1, 9, 47, 14), datetime.datetime(2024, 2, 1, 10, 7, 14), datetime.datetime(2024, 2, 1, 10, 27, 15), datetime.datetime(2024, 2, 1, 10, 47, 15)]\n"
     ]
    }
   ],
   "source": [
    "# generamos la lista files_start que contiene las timestamps en formato datetime del comienzo de cada uno de los archivos\n",
    "files_start = [datetime.strptime(key[:-1], '%Y-%m-%dT%H_%M_%S') for key in sorted(FB_doe['FB-DOE'].keys())]\n",
    "print(files_start)"
   ]
  },
  {
   "cell_type": "code",
   "execution_count": 127,
   "metadata": {},
   "outputs": [],
   "source": [
    "from datetime import datetime, timedelta\n",
    "\n",
    "def generate_timestamps(start_date, hour1, delta):\n",
    "    # Define the start and end times\n",
    "    start_time = datetime(start_date.year, start_date.month, start_date.day, hour1, 0, 0)\n",
    "    end_time = start_time + timedelta(hours=delta)  # 8 hours from 9 PM to 5 AM\n",
    "\n",
    "    # Initialize an empty list to store timestamps\n",
    "    timestamps = []\n",
    "\n",
    "    # Generate timestamps at one-minute intervals\n",
    "    current_time = start_time\n",
    "    while current_time <= end_time:\n",
    "        timestamps.append(current_time)\n",
    "        current_time += timedelta(minutes=1)\n",
    "\n",
    "    return timestamps\n",
    "\n",
    "# Generamos las timestamps:\n",
    "given_date = files_start[0] \n",
    "timestamps_obj = generate_timestamps(given_date, 17, 4)\n",
    "timestamps_basal = generate_timestamps(given_date, 21, 8)\n"
   ]
  },
  {
   "cell_type": "code",
   "execution_count": 128,
   "metadata": {},
   "outputs": [],
   "source": [
    "import random\n",
    "from datetime import datetime, timedelta\n",
    "\n",
    "\n",
    "# Function to randomly sample 60 timestamps\n",
    "def sample_random_timestamps(timestamps, seed):\n",
    "    # Ensure that we have at least 60 timestamps available\n",
    "    if len(timestamps) < 60:\n",
    "        raise ValueError(\"Not enough timestamps to sample from.\")\n",
    "\n",
    "    random.seed(seed)\n",
    "    # Sample 60 timestamps randomly\n",
    "    sampled_timestamps = random.sample(timestamps, 60)\n",
    "    return sampled_timestamps\n",
    "\n",
    "# Sample 60 random timestamps\n",
    "random_timestamps_b = sorted(sample_random_timestamps(timestamps_basal, seed=123))\n",
    "random_timestamps_o = sorted(sample_random_timestamps(timestamps_obj, seed=13))\n",
    "del timestamps_basal, timestamps_obj"
   ]
  },
  {
   "cell_type": "code",
   "execution_count": 129,
   "metadata": {},
   "outputs": [],
   "source": [
    "nueve = datetime(given_date.year, given_date.month, given_date.day, 21, 0, 0)\n",
    "cinco = nueve + timedelta(hours=8) \n",
    "\n",
    "keys = [x for i, x in enumerate(sorted(FB_doe['FB-DOE'].keys())) if files_start[i] > nueve and files_start[i] < cinco]\n",
    "k_idx = [i for i, x in enumerate(sorted(FB_doe['FB-DOE'].keys())) if files_start[i] > nueve and files_start[i] < cinco]\n",
    "FB_DOE = {key: FB_doe['FB-DOE'][key] for key in keys}\n",
    "Peak_time = {key: FB_doe['Peak-time'][key] for key in keys}# guardamos los peak-times en otra variable\n",
    "n_files = len(keys)\n",
    "del cinco, nueve"
   ]
  },
  {
   "cell_type": "code",
   "execution_count": 130,
   "metadata": {},
   "outputs": [
    {
     "data": {
      "text/plain": [
       "[datetime.datetime(2024, 1, 31, 21, 7, 9),\n",
       " datetime.datetime(2024, 1, 31, 21, 27, 9),\n",
       " datetime.datetime(2024, 1, 31, 21, 47, 9),\n",
       " datetime.datetime(2024, 1, 31, 22, 7, 9),\n",
       " datetime.datetime(2024, 1, 31, 22, 27, 9),\n",
       " datetime.datetime(2024, 1, 31, 22, 47, 9),\n",
       " datetime.datetime(2024, 1, 31, 23, 7, 10),\n",
       " datetime.datetime(2024, 1, 31, 23, 27, 10),\n",
       " datetime.datetime(2024, 1, 31, 23, 47, 10),\n",
       " datetime.datetime(2024, 2, 1, 0, 7, 10),\n",
       " datetime.datetime(2024, 2, 1, 0, 27, 10),\n",
       " datetime.datetime(2024, 2, 1, 0, 47, 10),\n",
       " datetime.datetime(2024, 2, 1, 1, 7, 10),\n",
       " datetime.datetime(2024, 2, 1, 1, 27, 11),\n",
       " datetime.datetime(2024, 2, 1, 1, 47, 11),\n",
       " datetime.datetime(2024, 2, 1, 2, 7, 11),\n",
       " datetime.datetime(2024, 2, 1, 2, 27, 11),\n",
       " datetime.datetime(2024, 2, 1, 2, 47, 11),\n",
       " datetime.datetime(2024, 2, 1, 3, 7, 11),\n",
       " datetime.datetime(2024, 2, 1, 3, 27, 11),\n",
       " datetime.datetime(2024, 2, 1, 3, 47, 12),\n",
       " datetime.datetime(2024, 2, 1, 4, 7, 12),\n",
       " datetime.datetime(2024, 2, 1, 4, 27, 12),\n",
       " datetime.datetime(2024, 2, 1, 4, 47, 12)]"
      ]
     },
     "execution_count": 130,
     "metadata": {},
     "output_type": "execute_result"
    }
   ],
   "source": [
    "files_start = [files_start[x] for x in k_idx] #nos quedamos solo con los timestamps de los archivos de interes\n",
    "files_start\n"
   ]
  },
  {
   "cell_type": "code",
   "execution_count": 131,
   "metadata": {},
   "outputs": [
    {
     "data": {
      "text/html": [
       "<div>\n",
       "<style scoped>\n",
       "    .dataframe tbody tr th:only-of-type {\n",
       "        vertical-align: middle;\n",
       "    }\n",
       "\n",
       "    .dataframe tbody tr th {\n",
       "        vertical-align: top;\n",
       "    }\n",
       "\n",
       "    .dataframe thead th {\n",
       "        text-align: right;\n",
       "    }\n",
       "</style>\n",
       "<table border=\"1\" class=\"dataframe\">\n",
       "  <thead>\n",
       "    <tr style=\"text-align: right;\">\n",
       "      <th></th>\n",
       "      <th>2024-01-31T21_07_09.</th>\n",
       "      <th>2024-01-31T21_27_09.</th>\n",
       "      <th>2024-01-31T21_47_09.</th>\n",
       "      <th>2024-01-31T22_07_09.</th>\n",
       "      <th>2024-01-31T22_27_09.</th>\n",
       "      <th>2024-01-31T22_47_09.</th>\n",
       "      <th>2024-01-31T23_07_10.</th>\n",
       "      <th>2024-01-31T23_27_10.</th>\n",
       "      <th>2024-01-31T23_47_10.</th>\n",
       "      <th>2024-02-01T00_07_10.</th>\n",
       "      <th>...</th>\n",
       "      <th>2024-02-01T01_07_10.</th>\n",
       "      <th>2024-02-01T01_27_11.</th>\n",
       "      <th>2024-02-01T01_47_11.</th>\n",
       "      <th>2024-02-01T02_27_11.</th>\n",
       "      <th>2024-02-01T02_47_11.</th>\n",
       "      <th>2024-02-01T03_07_11.</th>\n",
       "      <th>2024-02-01T03_27_11.</th>\n",
       "      <th>2024-02-01T03_47_12.</th>\n",
       "      <th>2024-02-01T04_07_12.</th>\n",
       "      <th>2024-02-01T04_27_12.</th>\n",
       "    </tr>\n",
       "  </thead>\n",
       "  <tbody>\n",
       "    <tr>\n",
       "      <th>0</th>\n",
       "      <td>2.0</td>\n",
       "      <td>7.0</td>\n",
       "      <td>10.0</td>\n",
       "      <td>13.0</td>\n",
       "      <td>17.0</td>\n",
       "      <td>18.0</td>\n",
       "      <td>19.0</td>\n",
       "      <td>22.0</td>\n",
       "      <td>25.0</td>\n",
       "      <td>29.0</td>\n",
       "      <td>...</td>\n",
       "      <td>38.0</td>\n",
       "      <td>39.0</td>\n",
       "      <td>41.0</td>\n",
       "      <td>43.0</td>\n",
       "      <td>44.0</td>\n",
       "      <td>45.0</td>\n",
       "      <td>46.0</td>\n",
       "      <td>49.0</td>\n",
       "      <td>51.0</td>\n",
       "      <td>55.0</td>\n",
       "    </tr>\n",
       "    <tr>\n",
       "      <th>1</th>\n",
       "      <td>3.0</td>\n",
       "      <td>8.0</td>\n",
       "      <td>11.0</td>\n",
       "      <td>14.0</td>\n",
       "      <td>NaN</td>\n",
       "      <td>NaN</td>\n",
       "      <td>20.0</td>\n",
       "      <td>23.0</td>\n",
       "      <td>26.0</td>\n",
       "      <td>30.0</td>\n",
       "      <td>...</td>\n",
       "      <td>NaN</td>\n",
       "      <td>40.0</td>\n",
       "      <td>42.0</td>\n",
       "      <td>NaN</td>\n",
       "      <td>NaN</td>\n",
       "      <td>NaN</td>\n",
       "      <td>47.0</td>\n",
       "      <td>50.0</td>\n",
       "      <td>52.0</td>\n",
       "      <td>56.0</td>\n",
       "    </tr>\n",
       "    <tr>\n",
       "      <th>2</th>\n",
       "      <td>4.0</td>\n",
       "      <td>9.0</td>\n",
       "      <td>12.0</td>\n",
       "      <td>15.0</td>\n",
       "      <td>NaN</td>\n",
       "      <td>NaN</td>\n",
       "      <td>21.0</td>\n",
       "      <td>24.0</td>\n",
       "      <td>27.0</td>\n",
       "      <td>NaN</td>\n",
       "      <td>...</td>\n",
       "      <td>NaN</td>\n",
       "      <td>NaN</td>\n",
       "      <td>NaN</td>\n",
       "      <td>NaN</td>\n",
       "      <td>NaN</td>\n",
       "      <td>NaN</td>\n",
       "      <td>48.0</td>\n",
       "      <td>NaN</td>\n",
       "      <td>53.0</td>\n",
       "      <td>57.0</td>\n",
       "    </tr>\n",
       "    <tr>\n",
       "      <th>3</th>\n",
       "      <td>5.0</td>\n",
       "      <td>NaN</td>\n",
       "      <td>NaN</td>\n",
       "      <td>16.0</td>\n",
       "      <td>NaN</td>\n",
       "      <td>NaN</td>\n",
       "      <td>NaN</td>\n",
       "      <td>NaN</td>\n",
       "      <td>28.0</td>\n",
       "      <td>NaN</td>\n",
       "      <td>...</td>\n",
       "      <td>NaN</td>\n",
       "      <td>NaN</td>\n",
       "      <td>NaN</td>\n",
       "      <td>NaN</td>\n",
       "      <td>NaN</td>\n",
       "      <td>NaN</td>\n",
       "      <td>NaN</td>\n",
       "      <td>NaN</td>\n",
       "      <td>54.0</td>\n",
       "      <td>58.0</td>\n",
       "    </tr>\n",
       "    <tr>\n",
       "      <th>4</th>\n",
       "      <td>6.0</td>\n",
       "      <td>NaN</td>\n",
       "      <td>NaN</td>\n",
       "      <td>NaN</td>\n",
       "      <td>NaN</td>\n",
       "      <td>NaN</td>\n",
       "      <td>NaN</td>\n",
       "      <td>NaN</td>\n",
       "      <td>NaN</td>\n",
       "      <td>NaN</td>\n",
       "      <td>...</td>\n",
       "      <td>NaN</td>\n",
       "      <td>NaN</td>\n",
       "      <td>NaN</td>\n",
       "      <td>NaN</td>\n",
       "      <td>NaN</td>\n",
       "      <td>NaN</td>\n",
       "      <td>NaN</td>\n",
       "      <td>NaN</td>\n",
       "      <td>NaN</td>\n",
       "      <td>59.0</td>\n",
       "    </tr>\n",
       "  </tbody>\n",
       "</table>\n",
       "<p>5 rows × 22 columns</p>\n",
       "</div>"
      ],
      "text/plain": [
       "   2024-01-31T21_07_09.  2024-01-31T21_27_09.  2024-01-31T21_47_09.  \\\n",
       "0                   2.0                   7.0                  10.0   \n",
       "1                   3.0                   8.0                  11.0   \n",
       "2                   4.0                   9.0                  12.0   \n",
       "3                   5.0                   NaN                   NaN   \n",
       "4                   6.0                   NaN                   NaN   \n",
       "\n",
       "   2024-01-31T22_07_09.  2024-01-31T22_27_09.  2024-01-31T22_47_09.  \\\n",
       "0                  13.0                  17.0                  18.0   \n",
       "1                  14.0                   NaN                   NaN   \n",
       "2                  15.0                   NaN                   NaN   \n",
       "3                  16.0                   NaN                   NaN   \n",
       "4                   NaN                   NaN                   NaN   \n",
       "\n",
       "   2024-01-31T23_07_10.  2024-01-31T23_27_10.  2024-01-31T23_47_10.  \\\n",
       "0                  19.0                  22.0                  25.0   \n",
       "1                  20.0                  23.0                  26.0   \n",
       "2                  21.0                  24.0                  27.0   \n",
       "3                   NaN                   NaN                  28.0   \n",
       "4                   NaN                   NaN                   NaN   \n",
       "\n",
       "   2024-02-01T00_07_10.  ...  2024-02-01T01_07_10.  2024-02-01T01_27_11.  \\\n",
       "0                  29.0  ...                  38.0                  39.0   \n",
       "1                  30.0  ...                   NaN                  40.0   \n",
       "2                   NaN  ...                   NaN                   NaN   \n",
       "3                   NaN  ...                   NaN                   NaN   \n",
       "4                   NaN  ...                   NaN                   NaN   \n",
       "\n",
       "   2024-02-01T01_47_11.  2024-02-01T02_27_11.  2024-02-01T02_47_11.  \\\n",
       "0                  41.0                  43.0                  44.0   \n",
       "1                  42.0                   NaN                   NaN   \n",
       "2                   NaN                   NaN                   NaN   \n",
       "3                   NaN                   NaN                   NaN   \n",
       "4                   NaN                   NaN                   NaN   \n",
       "\n",
       "   2024-02-01T03_07_11.  2024-02-01T03_27_11.  2024-02-01T03_47_12.  \\\n",
       "0                  45.0                  46.0                  49.0   \n",
       "1                   NaN                  47.0                  50.0   \n",
       "2                   NaN                  48.0                   NaN   \n",
       "3                   NaN                   NaN                   NaN   \n",
       "4                   NaN                   NaN                   NaN   \n",
       "\n",
       "   2024-02-01T04_07_12.  2024-02-01T04_27_12.  \n",
       "0                  51.0                  55.0  \n",
       "1                  52.0                  56.0  \n",
       "2                  53.0                  57.0  \n",
       "3                  54.0                  58.0  \n",
       "4                   NaN                  59.0  \n",
       "\n",
       "[5 rows x 22 columns]"
      ]
     },
     "execution_count": 131,
     "metadata": {},
     "output_type": "execute_result"
    }
   ],
   "source": [
    "#organizamos cada on segun su archivo de registro\n",
    "files = pd.DataFrame(np.zeros(shape=(20, n_files)), columns=sorted(keys))  # Usamos Int64Dtype para que pueda haber nans en columnas de int\n",
    "\n",
    "for i, column in enumerate(files.columns[:-1], start=0):\n",
    "    start = files_start[i]\n",
    "    end = files_start[i+1]\n",
    "    s = 0\n",
    "    for j in range(1,len(random_timestamps_b)):\n",
    "        condition = (start - random_timestamps_b[j]).total_seconds() < 0 and (end - random_timestamps_b[j]).total_seconds() > 0\n",
    "        if condition:\n",
    "            files.loc[s, column] = j\n",
    "            s += 1\n",
    "\n",
    "files = files.dropna(how='all')\n",
    "files.replace(0, np.nan, inplace=True) # como inicializamos con una matriz de 0s, si hay algun archivo con menos de 5 ons vamos a tener 0s donde no deben haber, entonces los convertimos a nan\n",
    "#files.iloc[0, 0] = 0 # el primer objeto tiene que ser un 0\n",
    "files = files.dropna(how='all')\n",
    "files = files.dropna(how='all', axis=1)\n",
    "\n",
    "files"
   ]
  },
  {
   "cell_type": "code",
   "execution_count": 132,
   "metadata": {},
   "outputs": [],
   "source": [
    "#inicializamos las listas\n",
    "EOD_peaks_on = []\n",
    "time_EOD_all  = []\n",
    "time_obj_all = []\n",
    "EOD_f_on = []"
   ]
  },
  {
   "cell_type": "code",
   "execution_count": 133,
   "metadata": {},
   "outputs": [
    {
     "name": "stdout",
     "output_type": "stream",
     "text": [
      "termino archivo 0\n",
      "termino archivo 1\n",
      "termino archivo 2\n",
      "termino archivo 3\n",
      "termino archivo 4\n",
      "termino archivo 5\n",
      "termino archivo 6\n",
      "termino archivo 7\n",
      "termino archivo 8\n",
      "termino archivo 9\n",
      "termino archivo 10\n",
      "termino archivo 11\n",
      "termino archivo 12\n",
      "termino archivo 13\n",
      "termino archivo 14\n",
      "termino archivo 15\n",
      "termino archivo 16\n",
      "termino archivo 17\n",
      "termino archivo 18\n",
      "termino archivo 19\n",
      "termino archivo 20\n",
      "termino archivo 21\n"
     ]
    }
   ],
   "source": [
    "for k, key in enumerate(files.keys()): #loopeamos entre los archivos de interes\n",
    "    midnight = files_start[k].replace(hour=0, minute=0, second=0, microsecond=0) #definimos la media noche para el dia donde se registro ese archivo\n",
    "    start = abs(midnight - files_start[k]).total_seconds() # calculamos el tiempo de inicio del archivo en segundos totales respecto de las 00 para poder compararla\n",
    "    EOD = np.fromfile(files_EOD[k],dtype=np.int16)\n",
    "    time_EOD = np.linspace(start=start, stop=start+len(EOD)/sf, num=len(EOD))\n",
    "    del EOD\n",
    "\n",
    "    EOD_peaks = np.array(Peak_time[key])\n",
    "    EOD_freq = np.array(FB_DOE[key])\n",
    "    time_obj = np.zeros((files.shape[0]+1)) #inicializamos nuestra matriz de tiempo de prendida de obj (cada archivo puede tener maximo 5 ons, por eso las dimensiones)\n",
    "\n",
    "    l=0\n",
    "    for i in files.iloc[:,k]:\n",
    "        if not np.isnan(i):\n",
    "                s = abs(midnight - random_timestamps_b[int(i)]).total_seconds() #calculamos el inicio del on\n",
    "                time_obj[l] = s\n",
    "                time_obj_all.append(s) #guardamos el tiempo de este on en nuestra lista de tiempos de objeto\n",
    "                time_EOD_all.append(time_EOD) #guardamos una copia de time_EOD para cada on \n",
    "                l+=1\n",
    "    \n",
    "    time_peaks = time_EOD[EOD_peaks]\n",
    "    EOD_zscore = np.array(zscore(EOD_freq))\n",
    "    del EOD_freq, time_EOD\n",
    "    for j in range(time_obj.shape[0]):\n",
    "        if not time_obj[j]==0:\n",
    "            range_on = [time_obj[j]-.5, time_obj[j]+10] #definimos el rango de interes: 1/2 segundo antes que sea el on y 2 segundos despues\n",
    "            #con = [range_on[0] <= t and t <= range_on[1] for t in videoTime]\n",
    "            condition = [range_on[0] <= time and time <= range_on[1] for time in time_peaks]\n",
    "\n",
    "            EOD_peaks_on.append(EOD_peaks[condition])\n",
    "            EOD_f_on.append(EOD_zscore[condition[:-1]])\n",
    "    del EOD_peaks, EOD_zscore, FB_DOE[key], Peak_time[key]\n",
    "\n",
    "    print('termino archivo ' + str(k))"
   ]
  },
  {
   "cell_type": "markdown",
   "metadata": {},
   "source": [
    "Las siguientes celdas contienen el codigo para generar las graficas. La primera genera la paleta de colores, la segunda genera el plot para todos los trials juntos y la tercera para los trials 1 y 2 separados"
   ]
  },
  {
   "cell_type": "code",
   "execution_count": 134,
   "metadata": {},
   "outputs": [
    {
     "name": "stderr",
     "output_type": "stream",
     "text": [
      "C:\\Users\\Compras\\AppData\\Local\\Temp\\ipykernel_19256\\1860149869.py:2: MatplotlibDeprecationWarning: The get_cmap function was deprecated in Matplotlib 3.7 and will be removed two minor releases later. Use ``matplotlib.colormaps[name]`` or ``matplotlib.colormaps.get_cmap(obj)`` instead.\n",
      "  colormap = cm.get_cmap('cool')\n"
     ]
    }
   ],
   "source": [
    "import matplotlib.cm as cm\n",
    "colormap = cm.get_cmap('cool')\n",
    "colors = [colormap(i+100) for i in range(len(time_obj_all))]"
   ]
  },
  {
   "cell_type": "code",
   "execution_count": 135,
   "metadata": {},
   "outputs": [
    {
     "data": {
      "application/vnd.jupyter.widget-view+json": {
       "model_id": "30ec0f5d68214fe78cfe16ab24143fd0",
       "version_major": 2,
       "version_minor": 0
      },
      "image/png": "[encoded data removed]",
      "text/html": [
       "\n",
       "            <div style=\"display: inline-block;\">\n",
       "                <div class=\"jupyter-widgets widget-label\" style=\"text-align: center;\">\n",
       "                    Figure\n",
       "                </div>\n",
       "                <img src='data:image/png;base64,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' width=640.0/>\n",
       "            </div>\n",
       "        "
      ],
      "text/plain": [
       "Canvas(toolbar=Toolbar(toolitems=[('Home', 'Reset original view', 'home', 'home'), ('Back', 'Back to previous …"
      ]
     },
     "metadata": {},
     "output_type": "display_data"
    }
   ],
   "source": [
    "%matplotlib widget \n",
    "#plot all trials\n",
    "n_per_on = []\n",
    "t_novelty = []\n",
    "trials = []\n",
    "n_peaks = []\n",
    "fig, ax = plt.subplots()\n",
    "ax2 = ax.twinx()\n",
    "k=0\n",
    "\n",
    "EOD_zscore = EOD_f_on\n",
    "    \n",
    "if len(EOD_zscore)>0 :\n",
    "    for z_score, peak, t, o, c in zip(EOD_zscore, EOD_peaks_on, time_EOD_all,  time_obj_all, colors):\n",
    "        peak = peak[:len(z_score)]\n",
    "        #plt.scatter(t[peak]-o, np.ones(len(peak))*k, color=c, s=1)\n",
    "        i_novel = []\n",
    "        novel = []\n",
    "        for k in np.arange(1,len(z_score)-3):\n",
    "            is_event = z_score[k] > 1.5 and z_score[k+1] > 1.5 and z_score[k+2] > 1.5 and z_score[k-1] < 1.5\n",
    "            if is_event: \n",
    "                    i_novel.append(peak[k])    \n",
    "                    novel.append(z_score[k]) \n",
    "\n",
    "        if len(peak) > 0:\n",
    "            n_per_on.append(len(i_novel))\n",
    "        else:\n",
    "            n_per_on.append(0)\n",
    "\n",
    "        n_peaks.append(len(peak))\n",
    "        t_novelty.append(o)\n",
    "        trials.append(k)\n",
    "        #plt.scatter(t[i_novel]-o, np.ones(len(i_novel))*k, color=c, s=3)\n",
    "        #k += .01\n",
    "\n",
    "        #ax.set_ylabel('Ventanas de 10 s basal')\n",
    "        #ax.set_xlabel('Tiempo (s)')\n",
    "\n",
    "\n",
    "#bar_width = .01\n",
    "#for i, y in zip(trials,n_per_on):\n",
    " #   bar_position = 10 -y +2\n",
    "  #  ax2.barh(i + bar_width*i, y, height=bar_width, color='k', alpha=.5, left=bar_position)  # Bar for each line\n",
    "\n",
    "#hours = [int(trial // 3600) for trial in t_novelty]\n",
    "#minutes = [int(trial % 3600) // 60 for trial in t_novelty]\n",
    "#dates = [datetime.now().replace(hour=hour, minute=minute, second=0, microsecond=0) for hour, minute in zip(hours, minutes)]\n",
    "\n",
    "#ax.set_yticks([])\n",
    "\n",
    "#ax.set_xticks([0,2,4,6,8,10])\n",
    "#ax.set_xticklabels([0, 2,4,6,8,10])\n",
    "#ax2.axvline(x=11, color='b', linestyle='--',alpha=.8, label='Vertical Line')\n",
    "\n",
    "#x_hist = ax.secondary_xaxis('top')\n",
    "#x_hist.set_xticks([11])\n",
    "#x_hist.set_xticklabels(['100%'])\n",
    "#ax2.set_yticks(np.linspace(0,k,len(trials)))\n",
    "#ax2.set_yticklabels([date.strftime(\"%H:%M\") for date in dates], fontsize=8)\n",
    "\n",
    "#ax2.set_ylabel('Tiempo de comienzo de ventana')\n",
    "plt.show()\n"
   ]
  },
  {
   "cell_type": "code",
   "execution_count": 136,
   "metadata": {},
   "outputs": [
    {
     "data": {
      "text/plain": [
       "50370.68965517241"
      ]
     },
     "execution_count": 136,
     "metadata": {},
     "output_type": "execute_result"
    }
   ],
   "source": [
    "p = sum([x*y for x,y in zip(n_per_on, n_peaks)])/len(n_per_on)\n",
    "p*100"
   ]
  },
  {
   "cell_type": "code",
   "execution_count": 137,
   "metadata": {},
   "outputs": [
    {
     "data": {
      "text/plain": [
       "58"
      ]
     },
     "execution_count": 137,
     "metadata": {},
     "output_type": "execute_result"
    }
   ],
   "source": [
    "len(n_per_on)"
   ]
  },
  {
   "cell_type": "code",
   "execution_count": 138,
   "metadata": {},
   "outputs": [
    {
     "data": {
      "text/plain": [
       "29.310344827586203"
      ]
     },
     "execution_count": 138,
     "metadata": {},
     "output_type": "execute_result"
    }
   ],
   "source": [
    "prob = 0\n",
    "for x in n_per_on:\n",
    "    if x >0: \n",
    "        prob += 1\n",
    "\n",
    "prob = prob / len(n_per_on) \n",
    "prob*100"
   ]
  },
  {
   "cell_type": "code",
   "execution_count": null,
   "metadata": {},
   "outputs": [],
   "source": []
  },
  {
   "cell_type": "code",
   "execution_count": null,
   "metadata": {},
   "outputs": [],
   "source": []
  }
 ],
 "metadata": {
  "kernelspec": {
   "display_name": "base",
   "language": "python",
   "name": "python3"
  },
  "language_info": {
   "codemirror_mode": {
    "name": "ipython",
    "version": 3
   },
   "file_extension": ".py",
   "mimetype": "text/x-python",
   "name": "python",
   "nbconvert_exporter": "python",
   "pygments_lexer": "ipython3",
   "version": "3.11.4"
  }
 },
 "nbformat": 4,
 "nbformat_minor": 2
}
