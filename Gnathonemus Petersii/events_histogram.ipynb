{
 "cells": [
  {
   "cell_type": "markdown",
   "metadata": {},
   "source": [
    "Este script genera graficos de frecuencia instantanea de la DOE vs. tiempo durante el estimulo. Superpone cada estimulacion y las separa en sub-plots por hora consecutiva de estimulacion. Tiene la opcion de separar entre el trial de la mañana y la tarde.\n",
    "\n",
    "Toma los archivos .pkl obtenidos de 'EOD_analysis.py' y los .csv registrados con bonsai con los timestamps de los on y off del objeto. Puede ser adaptado para graficar raster-plot, graficar todas las horas de estimulacion en uno y cambiar los rangos de tiempo de interes para plotear. "
   ]
  },
  {
   "cell_type": "code",
   "execution_count": 1,
   "metadata": {},
   "outputs": [],
   "source": [
    "#importamos los paquetes\n",
    "import pandas as pd\n",
    "import numpy as np\n",
    "import matplotlib.pyplot as plt\n",
    "import glob\n",
    "import os\n",
    "import pickle\n",
    "from datetime import datetime, timedelta\n",
    "from scipy.stats import zscore\n",
    "\n",
    "#cambiamos la carpeta de trabajo y cargamos los archivos\n",
    "data_folder = r'D:\\datos_GPetersii\\datos_GPetersii\\Fish1\\Object\\raw' #cambiar a ruta con archivos .bin\n",
    "os.chdir(data_folder)\n",
    "\n",
    "files_vid = sorted(glob.glob('*.h5'))\n",
    "files_EOD = sorted(glob.glob('*.bin'))\n",
    "#definimos parametros\n",
    "sf = 50000\n"
   ]
  },
  {
   "cell_type": "code",
   "execution_count": 2,
   "metadata": {},
   "outputs": [],
   "source": [
    "#cargamos el archivo de FB-DOE\n",
    "with open('fish1_FB-DOE.pkl', 'rb') as file:   #cambiar al nombre apropiado de archivo\n",
    "        FB_doe = pickle.load(file)\n",
    "\n",
    "files_start = [datetime.strptime(key[:-1], '%Y-%m-%dT%H_%M_%S') for key in sorted(FB_doe['FB-DOE'].keys())]"
   ]
  },
  {
   "cell_type": "code",
   "execution_count": 5,
   "metadata": {},
   "outputs": [],
   "source": [
    "#inicializamos las listas\n",
    "EOD_zscore = {}\n",
    "EOD_freq = FB_doe['FB-DOE']\n",
    "EOD_t = FB_doe['Peak-time']\n",
    "hist_bins = []\n",
    "bin_t = []"
   ]
  },
  {
   "cell_type": "code",
   "execution_count": 6,
   "metadata": {},
   "outputs": [],
   "source": [
    "for i,key in enumerate(sorted(EOD_freq.keys()), start=1):\n",
    "    freq = EOD_freq[key]\n",
    "    peak = EOD_t[key]\n",
    "    EOD_zscore[key] = zscore(freq)\n",
    "    \n",
    "    ##creamos el vector t en totalseconds del dia\n",
    "    midnight = files_start[i-1].replace(hour=0, minute=0, second=0, microsecond=0) #definimos la media noche para el dia donde se registro ese archivo\n",
    "    start = abs(midnight - files_start[i-1]).total_seconds() # calculamos el tiempo de inicio del archivo en segundos totales respecto de las 00 para poder compararla\n",
    "    EOD = np.fromfile(files_EOD[i-1],dtype=np.int16)\n",
    "    time_EOD = np.linspace(start=start, stop=start+20*60, num=len(EOD))\n",
    "    del EOD\n",
    "\n",
    "    bin_edges = np.arange(time_EOD[0], time_EOD[-1], 1)\n",
    "    for j, e in enumerate(bin_edges, start=1):\n",
    "        if j < len(bin_edges):\n",
    "            events_bin = 0\n",
    "            range_bin = [e, bin_edges[j]]\n",
    "            zscore_bin = [x for x,y in zip(EOD_zscore[key], time_EOD[peak]) if y > range_bin[0] and y < range_bin[1]]\n",
    "            for k in np.arange(1,len(zscore_bin)-3):\n",
    "                is_event = zscore_bin[k] > 1.5 and zscore_bin[k+1] > 1.5 and zscore_bin[k+2] > 1.5 and zscore_bin[k-1] < 1.5\n",
    "                if is_event: \n",
    "                    events_bin += 1\n",
    "\n",
    "            bin_t.append(range_bin[0])\n",
    "            hist_bins.append(events_bin)\n",
    "    "
   ]
  },
  {
   "cell_type": "code",
   "execution_count": 7,
   "metadata": {},
   "outputs": [
    {
     "data": {
      "text/html": [
       "<div>\n",
       "<style scoped>\n",
       "    .dataframe tbody tr th:only-of-type {\n",
       "        vertical-align: middle;\n",
       "    }\n",
       "\n",
       "    .dataframe tbody tr th {\n",
       "        vertical-align: top;\n",
       "    }\n",
       "\n",
       "    .dataframe thead th {\n",
       "        text-align: right;\n",
       "    }\n",
       "</style>\n",
       "<table border=\"1\" class=\"dataframe\">\n",
       "  <thead>\n",
       "    <tr style=\"text-align: right;\">\n",
       "      <th></th>\n",
       "      <th>Tiempo</th>\n",
       "      <th>Eventos</th>\n",
       "      <th>objeto</th>\n",
       "      <th>color</th>\n",
       "    </tr>\n",
       "  </thead>\n",
       "  <tbody>\n",
       "    <tr>\n",
       "      <th>0</th>\n",
       "      <td>60377.0</td>\n",
       "      <td>0</td>\n",
       "      <td>Basal</td>\n",
       "      <td>k</td>\n",
       "    </tr>\n",
       "    <tr>\n",
       "      <th>1</th>\n",
       "      <td>60378.0</td>\n",
       "      <td>0</td>\n",
       "      <td>Basal</td>\n",
       "      <td>k</td>\n",
       "    </tr>\n",
       "    <tr>\n",
       "      <th>2</th>\n",
       "      <td>60379.0</td>\n",
       "      <td>0</td>\n",
       "      <td>Basal</td>\n",
       "      <td>k</td>\n",
       "    </tr>\n",
       "    <tr>\n",
       "      <th>3</th>\n",
       "      <td>60380.0</td>\n",
       "      <td>0</td>\n",
       "      <td>Basal</td>\n",
       "      <td>k</td>\n",
       "    </tr>\n",
       "    <tr>\n",
       "      <th>4</th>\n",
       "      <td>60381.0</td>\n",
       "      <td>0</td>\n",
       "      <td>Basal</td>\n",
       "      <td>k</td>\n",
       "    </tr>\n",
       "  </tbody>\n",
       "</table>\n",
       "</div>"
      ],
      "text/plain": [
       "    Tiempo  Eventos objeto color\n",
       "0  60377.0        0  Basal     k\n",
       "1  60378.0        0  Basal     k\n",
       "2  60379.0        0  Basal     k\n",
       "3  60380.0        0  Basal     k\n",
       "4  60381.0        0  Basal     k"
      ]
     },
     "execution_count": 7,
     "metadata": {},
     "output_type": "execute_result"
    }
   ],
   "source": [
    "histograma = pd.DataFrame(zip(bin_t, hist_bins), columns=['Tiempo', 'Eventos'])\n",
    "histograma['objeto'] = ['Objeto' if 61200 < x < 75600 else 'Basal' for x in bin_t]\n",
    "histograma['color'] = ['violet' if x == 'Objeto' else 'k' for x in histograma['objeto']]\n",
    "histograma.head()"
   ]
  },
  {
   "cell_type": "code",
   "execution_count": 8,
   "metadata": {},
   "outputs": [],
   "source": [
    "histograma.to_csv(r'C:/Users/Compras/Documents/resultados_petersii/histograma_eventos_GP_p1.csv')"
   ]
  },
  {
   "cell_type": "code",
   "execution_count": 9,
   "metadata": {},
   "outputs": [
    {
     "name": "stdout",
     "output_type": "stream",
     "text": [
      "objeto\n",
      "Basal     0.046578\n",
      "Objeto    0.056170\n",
      "Name: Eventos, dtype: float64\n"
     ]
    }
   ],
   "source": [
    "condicion = histograma.groupby('objeto')\n",
    "print(condicion['Eventos'].mean())"
   ]
  },
  {
   "cell_type": "code",
   "execution_count": 10,
   "metadata": {},
   "outputs": [],
   "source": [
    "xtickslab = ['17', '21', '1 am', '5 am', '9 am']\n",
    "xticks = [0, 480,960,1440,1920]\n"
   ]
  },
  {
   "cell_type": "code",
   "execution_count": 12,
   "metadata": {},
   "outputs": [
    {
     "name": "stderr",
     "output_type": "stream",
     "text": [
      "C:\\Users\\Compras\\AppData\\Local\\Temp\\ipykernel_12832\\3187692277.py:10: UserWarning: FixedFormatter should only be used together with FixedLocator\n",
      "  fig.set_xticklabels(xtickslab)\n"
     ]
    },
    {
     "data": {
      "application/vnd.jupyter.widget-view+json": {
       "model_id": "946b80a9ea0f44829ad32a1206efb4bb",
       "version_major": 2,
       "version_minor": 0
      },
      "image/png": "[encoded data removed]",
      "text/html": [
       "\n",
       "            <div style=\"display: inline-block;\">\n",
       "                <div class=\"jupyter-widgets widget-label\" style=\"text-align: center;\">\n",
       "                    Figure\n",
       "                </div>\n",
       "                <img src='data:image/png;base64,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' width=640.0/>\n",
       "            </div>\n",
       "        "
      ],
      "text/plain": [
       "Canvas(toolbar=Toolbar(toolitems=[('Home', 'Reset original view', 'home', 'home'), ('Back', 'Back to previous …"
      ]
     },
     "metadata": {},
     "output_type": "display_data"
    }
   ],
   "source": [
    "%matplotlib widget\n",
    "ax1, fig = plt.subplots()\n",
    "plt.bar(\n",
    "    x=range(len(histograma)),\n",
    "    height=[x for x in histograma['Eventos']],\n",
    "    color=histograma['color']\n",
    ")\n",
    "fig.set_ylabel('Eventos por segundo')\n",
    "fig.set_xlabel('Tiempo en horas (1 bin = 30s)')\n",
    "fig.set_xticklabels(xtickslab)\n",
    "fig.set_xticks(xticks)\n",
    "plt.show()     \n",
    "ax1.savefig(r'C:/Users/Compras/Documents/resultados_petersii/hist_eventos_GP_P6.svg', format='svg')"
   ]
  },
  {
   "cell_type": "code",
   "execution_count": 124,
   "metadata": {},
   "outputs": [
    {
     "data": {
      "text/plain": [
       "['histograma_eventos_GP_p1.csv',\n",
       " 'histograma_eventos_GP_p2.csv',\n",
       " 'histograma_eventos_GP_p3.csv',\n",
       " 'histograma_eventos_GP_p4.csv',\n",
       " 'histograma_eventos_GP_p5.csv',\n",
       " 'histograma_eventos_GP_p6.csv']"
      ]
     },
     "execution_count": 124,
     "metadata": {},
     "output_type": "execute_result"
    }
   ],
   "source": [
    "folder = r\"C:\\Users\\Compras\\Documents\\resultados_petersii\"\n",
    "os.chdir(folder)\n",
    "histograms = glob.glob(\"*.csv\")\n",
    "histograms"
   ]
  },
  {
   "cell_type": "code",
   "execution_count": 136,
   "metadata": {},
   "outputs": [
    {
     "name": "stderr",
     "output_type": "stream",
     "text": [
      "C:\\Users\\Compras\\AppData\\Local\\Temp\\ipykernel_6756\\2966779512.py:2: FutureWarning: The default value of numeric_only in DataFrameGroupBy.mean is deprecated. In a future version, numeric_only will default to False. Either specify numeric_only or select only columns which should be valid for the function.\n",
      "  h.groupby('objeto').mean()['Eventos']['Basal']\n"
     ]
    },
    {
     "data": {
      "text/plain": [
       "1.501923076923077"
      ]
     },
     "execution_count": 136,
     "metadata": {},
     "output_type": "execute_result"
    }
   ],
   "source": [
    "h = pd.read_csv(histograms[0], header=0)\n",
    "h.groupby('objeto').mean()['Eventos']['Basal']"
   ]
  },
  {
   "cell_type": "code",
   "execution_count": 141,
   "metadata": {},
   "outputs": [
    {
     "name": "stderr",
     "output_type": "stream",
     "text": [
      "C:\\Users\\Compras\\AppData\\Local\\Temp\\ipykernel_6756\\1889160668.py:6: FutureWarning: The default value of numeric_only in DataFrameGroupBy.mean is deprecated. In a future version, numeric_only will default to False. Either specify numeric_only or select only columns which should be valid for the function.\n",
      "  medias_b.append(h.groupby('objeto').mean()['Eventos']['Basal'])\n",
      "C:\\Users\\Compras\\AppData\\Local\\Temp\\ipykernel_6756\\1889160668.py:7: FutureWarning: The default value of numeric_only in DataFrameGroupBy.mean is deprecated. In a future version, numeric_only will default to False. Either specify numeric_only or select only columns which should be valid for the function.\n",
      "  medias_o.append(h.groupby('objeto').mean()['Eventos']['Objeto'])\n",
      "C:\\Users\\Compras\\AppData\\Local\\Temp\\ipykernel_6756\\1889160668.py:9: FutureWarning: The default value of numeric_only in DataFrameGroupBy.std is deprecated. In a future version, numeric_only will default to False. Either specify numeric_only or select only columns which should be valid for the function.\n",
      "  std.append(h.groupby('objeto').std()['Eventos'])\n",
      "C:\\Users\\Compras\\AppData\\Local\\Temp\\ipykernel_6756\\1889160668.py:6: FutureWarning: The default value of numeric_only in DataFrameGroupBy.mean is deprecated. In a future version, numeric_only will default to False. Either specify numeric_only or select only columns which should be valid for the function.\n",
      "  medias_b.append(h.groupby('objeto').mean()['Eventos']['Basal'])\n",
      "C:\\Users\\Compras\\AppData\\Local\\Temp\\ipykernel_6756\\1889160668.py:7: FutureWarning: The default value of numeric_only in DataFrameGroupBy.mean is deprecated. In a future version, numeric_only will default to False. Either specify numeric_only or select only columns which should be valid for the function.\n",
      "  medias_o.append(h.groupby('objeto').mean()['Eventos']['Objeto'])\n",
      "C:\\Users\\Compras\\AppData\\Local\\Temp\\ipykernel_6756\\1889160668.py:9: FutureWarning: The default value of numeric_only in DataFrameGroupBy.std is deprecated. In a future version, numeric_only will default to False. Either specify numeric_only or select only columns which should be valid for the function.\n",
      "  std.append(h.groupby('objeto').std()['Eventos'])\n",
      "C:\\Users\\Compras\\AppData\\Local\\Temp\\ipykernel_6756\\1889160668.py:6: FutureWarning: The default value of numeric_only in DataFrameGroupBy.mean is deprecated. In a future version, numeric_only will default to False. Either specify numeric_only or select only columns which should be valid for the function.\n",
      "  medias_b.append(h.groupby('objeto').mean()['Eventos']['Basal'])\n",
      "C:\\Users\\Compras\\AppData\\Local\\Temp\\ipykernel_6756\\1889160668.py:7: FutureWarning: The default value of numeric_only in DataFrameGroupBy.mean is deprecated. In a future version, numeric_only will default to False. Either specify numeric_only or select only columns which should be valid for the function.\n",
      "  medias_o.append(h.groupby('objeto').mean()['Eventos']['Objeto'])\n",
      "C:\\Users\\Compras\\AppData\\Local\\Temp\\ipykernel_6756\\1889160668.py:9: FutureWarning: The default value of numeric_only in DataFrameGroupBy.std is deprecated. In a future version, numeric_only will default to False. Either specify numeric_only or select only columns which should be valid for the function.\n",
      "  std.append(h.groupby('objeto').std()['Eventos'])\n",
      "C:\\Users\\Compras\\AppData\\Local\\Temp\\ipykernel_6756\\1889160668.py:6: FutureWarning: The default value of numeric_only in DataFrameGroupBy.mean is deprecated. In a future version, numeric_only will default to False. Either specify numeric_only or select only columns which should be valid for the function.\n",
      "  medias_b.append(h.groupby('objeto').mean()['Eventos']['Basal'])\n",
      "C:\\Users\\Compras\\AppData\\Local\\Temp\\ipykernel_6756\\1889160668.py:7: FutureWarning: The default value of numeric_only in DataFrameGroupBy.mean is deprecated. In a future version, numeric_only will default to False. Either specify numeric_only or select only columns which should be valid for the function.\n",
      "  medias_o.append(h.groupby('objeto').mean()['Eventos']['Objeto'])\n",
      "C:\\Users\\Compras\\AppData\\Local\\Temp\\ipykernel_6756\\1889160668.py:9: FutureWarning: The default value of numeric_only in DataFrameGroupBy.std is deprecated. In a future version, numeric_only will default to False. Either specify numeric_only or select only columns which should be valid for the function.\n",
      "  std.append(h.groupby('objeto').std()['Eventos'])\n",
      "C:\\Users\\Compras\\AppData\\Local\\Temp\\ipykernel_6756\\1889160668.py:6: FutureWarning: The default value of numeric_only in DataFrameGroupBy.mean is deprecated. In a future version, numeric_only will default to False. Either specify numeric_only or select only columns which should be valid for the function.\n",
      "  medias_b.append(h.groupby('objeto').mean()['Eventos']['Basal'])\n",
      "C:\\Users\\Compras\\AppData\\Local\\Temp\\ipykernel_6756\\1889160668.py:7: FutureWarning: The default value of numeric_only in DataFrameGroupBy.mean is deprecated. In a future version, numeric_only will default to False. Either specify numeric_only or select only columns which should be valid for the function.\n",
      "  medias_o.append(h.groupby('objeto').mean()['Eventos']['Objeto'])\n",
      "C:\\Users\\Compras\\AppData\\Local\\Temp\\ipykernel_6756\\1889160668.py:9: FutureWarning: The default value of numeric_only in DataFrameGroupBy.std is deprecated. In a future version, numeric_only will default to False. Either specify numeric_only or select only columns which should be valid for the function.\n",
      "  std.append(h.groupby('objeto').std()['Eventos'])\n",
      "C:\\Users\\Compras\\AppData\\Local\\Temp\\ipykernel_6756\\1889160668.py:6: FutureWarning: The default value of numeric_only in DataFrameGroupBy.mean is deprecated. In a future version, numeric_only will default to False. Either specify numeric_only or select only columns which should be valid for the function.\n",
      "  medias_b.append(h.groupby('objeto').mean()['Eventos']['Basal'])\n",
      "C:\\Users\\Compras\\AppData\\Local\\Temp\\ipykernel_6756\\1889160668.py:7: FutureWarning: The default value of numeric_only in DataFrameGroupBy.mean is deprecated. In a future version, numeric_only will default to False. Either specify numeric_only or select only columns which should be valid for the function.\n",
      "  medias_o.append(h.groupby('objeto').mean()['Eventos']['Objeto'])\n",
      "C:\\Users\\Compras\\AppData\\Local\\Temp\\ipykernel_6756\\1889160668.py:9: FutureWarning: The default value of numeric_only in DataFrameGroupBy.std is deprecated. In a future version, numeric_only will default to False. Either specify numeric_only or select only columns which should be valid for the function.\n",
      "  std.append(h.groupby('objeto').std()['Eventos'])\n"
     ]
    }
   ],
   "source": [
    "medias_b = []\n",
    "medias_o = []\n",
    "std = []\n",
    "for histogram in histograms:\n",
    "    h = pd.read_csv(histogram)\n",
    "    medias_b.append(h.groupby('objeto').mean()['Eventos']['Basal'])\n",
    "    medias_o.append(h.groupby('objeto').mean()['Eventos']['Objeto'])\n",
    "\n",
    "    std.append(h.groupby('objeto').std()['Eventos'])"
   ]
  },
  {
   "cell_type": "code",
   "execution_count": 146,
   "metadata": {},
   "outputs": [
    {
     "data": {
      "text/html": [
       "<div>\n",
       "<style scoped>\n",
       "    .dataframe tbody tr th:only-of-type {\n",
       "        vertical-align: middle;\n",
       "    }\n",
       "\n",
       "    .dataframe tbody tr th {\n",
       "        vertical-align: top;\n",
       "    }\n",
       "\n",
       "    .dataframe thead th {\n",
       "        text-align: right;\n",
       "    }\n",
       "</style>\n",
       "<table border=\"1\" class=\"dataframe\">\n",
       "  <thead>\n",
       "    <tr style=\"text-align: right;\">\n",
       "      <th></th>\n",
       "      <th>Objeto</th>\n",
       "      <th>Basal</th>\n",
       "    </tr>\n",
       "  </thead>\n",
       "  <tbody>\n",
       "    <tr>\n",
       "      <th>0</th>\n",
       "      <td>1.779915</td>\n",
       "      <td>1.501923</td>\n",
       "    </tr>\n",
       "    <tr>\n",
       "      <th>1</th>\n",
       "      <td>1.025641</td>\n",
       "      <td>1.198006</td>\n",
       "    </tr>\n",
       "    <tr>\n",
       "      <th>2</th>\n",
       "      <td>0.908120</td>\n",
       "      <td>1.314103</td>\n",
       "    </tr>\n",
       "    <tr>\n",
       "      <th>3</th>\n",
       "      <td>0.717949</td>\n",
       "      <td>1.143162</td>\n",
       "    </tr>\n",
       "    <tr>\n",
       "      <th>4</th>\n",
       "      <td>2.050549</td>\n",
       "      <td>1.594919</td>\n",
       "    </tr>\n",
       "    <tr>\n",
       "      <th>5</th>\n",
       "      <td>0.775641</td>\n",
       "      <td>0.559829</td>\n",
       "    </tr>\n",
       "  </tbody>\n",
       "</table>\n",
       "</div>"
      ],
      "text/plain": [
       "     Objeto     Basal\n",
       "0  1.779915  1.501923\n",
       "1  1.025641  1.198006\n",
       "2  0.908120  1.314103\n",
       "3  0.717949  1.143162\n",
       "4  2.050549  1.594919\n",
       "5  0.775641  0.559829"
      ]
     },
     "execution_count": 146,
     "metadata": {},
     "output_type": "execute_result"
    }
   ],
   "source": [
    "medias_histogramas = pd.DataFrame(zip(medias_o, medias_b), columns=['Objeto', 'Basal'])\n",
    "#medias_histogramas = medias_histogramas.melt()\n",
    "medias_histogramas"
   ]
  },
  {
   "cell_type": "code",
   "execution_count": 145,
   "metadata": {},
   "outputs": [
    {
     "data": {
      "application/vnd.jupyter.widget-view+json": {
       "model_id": "df96fc3834e649bfbd89474ff85c7ef9",
       "version_major": 2,
       "version_minor": 0
      },
      "image/png": "[encoded data removed]",
      "text/html": [
       "\n",
       "            <div style=\"display: inline-block;\">\n",
       "                <div class=\"jupyter-widgets widget-label\" style=\"text-align: center;\">\n",
       "                    Figure\n",
       "                </div>\n",
       "                <img src='data:image/png;base64,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' width=500.0/>\n",
       "            </div>\n",
       "        "
      ],
      "text/plain": [
       "Canvas(toolbar=Toolbar(toolitems=[('Home', 'Reset original view', 'home', 'home'), ('Back', 'Back to previous …"
      ]
     },
     "metadata": {},
     "output_type": "display_data"
    }
   ],
   "source": [
    "%matplotlib widget\n",
    "import seaborn as sns\n",
    "box = sns.catplot(data=medias_histogramas, \n",
    "            x = 'variable',\n",
    "            y = 'value',\n",
    "            kind='box',\n",
    "            errorbar='sd',\n",
    "            estimator='median',\n",
    "            color='white')\n",
    "points = sns.swarmplot(data=medias_histogramas, x='variable', y='value', size=5, color='#9B96E1')\n",
    "\n",
    "box.set(ylabel='Eventos por segundo ')\n",
    "plt.show()"
   ]
  }
 ],
 "metadata": {
  "kernelspec": {
   "display_name": "base",
   "language": "python",
   "name": "python3"
  },
  "language_info": {
   "codemirror_mode": {
    "name": "ipython",
    "version": 3
   },
   "file_extension": ".py",
   "mimetype": "text/x-python",
   "name": "python",
   "nbconvert_exporter": "python",
   "pygments_lexer": "ipython3",
   "version": "3.11.4"
  }
 },
 "nbformat": 4,
 "nbformat_minor": 2
}
