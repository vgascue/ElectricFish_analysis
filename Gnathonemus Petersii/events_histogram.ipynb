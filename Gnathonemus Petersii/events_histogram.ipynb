{
 "cells": [
  {
   "cell_type": "markdown",
   "metadata": {},
   "source": [
    "Este script genera graficos de frecuencia instantanea de la DOE vs. tiempo durante el estimulo. Superpone cada estimulacion y las separa en sub-plots por hora consecutiva de estimulacion. Tiene la opcion de separar entre el trial de la mañana y la tarde.\n",
    "\n",
    "Toma los archivos .pkl obtenidos de 'EOD_analysis.py' y los .csv registrados con bonsai con los timestamps de los on y off del objeto. Puede ser adaptado para graficar raster-plot, graficar todas las horas de estimulacion en uno y cambiar los rangos de tiempo de interes para plotear. "
   ]
  },
  {
   "cell_type": "code",
   "execution_count": 1,
   "metadata": {},
   "outputs": [],
   "source": [
    "#importamos los paquetes\n",
    "import pandas as pd\n",
    "import numpy as np\n",
    "import matplotlib.pyplot as plt\n",
    "import glob\n",
    "import os\n",
    "import pickle\n",
    "from datetime import datetime, timedelta\n",
    "from scipy.stats import zscore\n",
    "\n",
    "#cambiamos la carpeta de trabajo y cargamos los archivos\n",
    "data_folder = r'D:\\datos_GPetersii\\datos_GPetersii\\Fish1\\Object\\raw' #cambiar a ruta con archivos .bin\n",
    "os.chdir(data_folder)\n",
    "\n",
    "files_vid = sorted(glob.glob('*.h5'))\n",
    "files_EOD = sorted(glob.glob('*.bin'))\n",
    "#definimos parametros\n",
    "sf = 50000\n"
   ]
  },
  {
   "cell_type": "code",
   "execution_count": 3,
   "metadata": {},
   "outputs": [],
   "source": [
    "#cargamos el archivo de FB-DOE\n",
    "with open('fish1_FB-DOE.pkl', 'rb') as file:   #cambiar al nombre apropiado de archivo\n",
    "        FB_doe = pickle.load(file)\n",
    "\n",
    "files_start = [datetime.strptime(key[:-1], '%Y-%m-%dT%H_%M_%S') for key in sorted(FB_doe['FB-DOE'].keys())]"
   ]
  },
  {
   "cell_type": "code",
   "execution_count": 4,
   "metadata": {},
   "outputs": [],
   "source": [
    "#inicializamos las listas\n",
    "EOD_zscore = {}\n",
    "EOD_freq = FB_doe['FB-DOE']\n",
    "EOD_t = FB_doe['Peak-time']\n",
    "hist_bins = []\n",
    "bin_t = []"
   ]
  },
  {
   "cell_type": "code",
   "execution_count": 5,
   "metadata": {},
   "outputs": [
    {
     "ename": "KeyboardInterrupt",
     "evalue": "",
     "output_type": "error",
     "traceback": [
      "\u001b[1;31m---------------------------------------------------------------------------\u001b[0m",
      "\u001b[1;31mKeyboardInterrupt\u001b[0m                         Traceback (most recent call last)",
      "Cell \u001b[1;32mIn[5], line 10\u001b[0m\n\u001b[0;32m      8\u001b[0m start \u001b[38;5;241m=\u001b[39m \u001b[38;5;28mabs\u001b[39m(midnight \u001b[38;5;241m-\u001b[39m files_start[i\u001b[38;5;241m-\u001b[39m\u001b[38;5;241m1\u001b[39m])\u001b[38;5;241m.\u001b[39mtotal_seconds() \u001b[38;5;66;03m# calculamos el tiempo de inicio del archivo en segundos totales respecto de las 00 para poder compararla\u001b[39;00m\n\u001b[0;32m      9\u001b[0m EOD \u001b[38;5;241m=\u001b[39m np\u001b[38;5;241m.\u001b[39mfromfile(files_EOD[i\u001b[38;5;241m-\u001b[39m\u001b[38;5;241m1\u001b[39m],dtype\u001b[38;5;241m=\u001b[39mnp\u001b[38;5;241m.\u001b[39mint16)\n\u001b[1;32m---> 10\u001b[0m time_EOD \u001b[38;5;241m=\u001b[39m np\u001b[38;5;241m.\u001b[39mlinspace(start\u001b[38;5;241m=\u001b[39mstart, stop\u001b[38;5;241m=\u001b[39mstart\u001b[38;5;241m+\u001b[39m\u001b[38;5;241m20\u001b[39m\u001b[38;5;241m*\u001b[39m\u001b[38;5;241m60\u001b[39m, num\u001b[38;5;241m=\u001b[39m\u001b[38;5;28mlen\u001b[39m(EOD))\n\u001b[0;32m     11\u001b[0m \u001b[38;5;28;01mdel\u001b[39;00m EOD\n\u001b[0;32m     13\u001b[0m bin_edges \u001b[38;5;241m=\u001b[39m np\u001b[38;5;241m.\u001b[39marange(time_EOD[\u001b[38;5;241m0\u001b[39m], time_EOD[\u001b[38;5;241m-\u001b[39m\u001b[38;5;241m1\u001b[39m], \u001b[38;5;241m1\u001b[39m)\n",
      "File \u001b[1;32m<__array_function__ internals>:200\u001b[0m, in \u001b[0;36mlinspace\u001b[1;34m(*args, **kwargs)\u001b[0m\n",
      "File \u001b[1;32mc:\\Users\\Compras\\anaconda3\\Lib\\site-packages\\numpy\\core\\function_base.py:181\u001b[0m, in \u001b[0;36mlinspace\u001b[1;34m(start, stop, num, endpoint, retstep, dtype, axis)\u001b[0m\n\u001b[0;32m    179\u001b[0m     \u001b[38;5;28;01mreturn\u001b[39;00m y\u001b[38;5;241m.\u001b[39mastype(dtype, copy\u001b[38;5;241m=\u001b[39m\u001b[38;5;28;01mFalse\u001b[39;00m), step\n\u001b[0;32m    180\u001b[0m \u001b[38;5;28;01melse\u001b[39;00m:\n\u001b[1;32m--> 181\u001b[0m     \u001b[38;5;28;01mreturn\u001b[39;00m y\u001b[38;5;241m.\u001b[39mastype(dtype, copy\u001b[38;5;241m=\u001b[39m\u001b[38;5;28;01mFalse\u001b[39;00m)\n",
      "\u001b[1;31mKeyboardInterrupt\u001b[0m: "
     ]
    }
   ],
   "source": [
    "for i,key in enumerate(sorted(EOD_freq.keys()), start=1):\n",
    "    freq = EOD_freq[key]\n",
    "    peak = EOD_t[key]\n",
    "    EOD_zscore[key] = zscore(freq)\n",
    "    \n",
    "    ##creamos el vector t en totalseconds del dia\n",
    "    midnight = files_start[i-1].replace(hour=0, minute=0, second=0, microsecond=0) #definimos la media noche para el dia donde se registro ese archivo\n",
    "    start = abs(midnight - files_start[i-1]).total_seconds() # calculamos el tiempo de inicio del archivo en segundos totales respecto de las 00 para poder compararla\n",
    "    EOD = np.fromfile(files_EOD[i-1],dtype=np.int16)\n",
    "    time_EOD = np.linspace(start=start, stop=start+20*60, num=len(EOD))\n",
    "    del EOD\n",
    "\n",
    "    bin_edges = np.arange(time_EOD[0], time_EOD[-1], 1)\n",
    "    for j, e in enumerate(bin_edges, start=1):\n",
    "        if j < len(bin_edges):\n",
    "            events_bin = 0\n",
    "            range_bin = [e, bin_edges[j]]\n",
    "            zscore_bin = [x for x,y in zip(EOD_zscore[key], time_EOD[peak]) if y > range_bin[0] and y < range_bin[1]]\n",
    "            for k in np.arange(1,len(zscore_bin)-3):\n",
    "                is_event = zscore_bin[k] > 1.5 and zscore_bin[k+1] > 1.5 and zscore_bin[k+2] > 1.5 and zscore_bin[k-1] < 1.5\n",
    "                if is_event: \n",
    "                    events_bin += 1\n",
    "\n",
    "            bin_t.append(range_bin[0])\n",
    "            hist_bins.append(events_bin)\n",
    "    "
   ]
  },
  {
   "cell_type": "code",
   "execution_count": 110,
   "metadata": {},
   "outputs": [
    {
     "data": {
      "text/html": [
       "<div>\n",
       "<style scoped>\n",
       "    .dataframe tbody tr th:only-of-type {\n",
       "        vertical-align: middle;\n",
       "    }\n",
       "\n",
       "    .dataframe tbody tr th {\n",
       "        vertical-align: top;\n",
       "    }\n",
       "\n",
       "    .dataframe thead th {\n",
       "        text-align: right;\n",
       "    }\n",
       "</style>\n",
       "<table border=\"1\" class=\"dataframe\">\n",
       "  <thead>\n",
       "    <tr style=\"text-align: right;\">\n",
       "      <th></th>\n",
       "      <th>Tiempo</th>\n",
       "      <th>Eventos</th>\n",
       "      <th>objeto</th>\n",
       "      <th>color</th>\n",
       "    </tr>\n",
       "  </thead>\n",
       "  <tbody>\n",
       "    <tr>\n",
       "      <th>0</th>\n",
       "      <td>61628.0</td>\n",
       "      <td>16</td>\n",
       "      <td>Objeto</td>\n",
       "      <td>violet</td>\n",
       "    </tr>\n",
       "    <tr>\n",
       "      <th>1</th>\n",
       "      <td>61658.0</td>\n",
       "      <td>10</td>\n",
       "      <td>Objeto</td>\n",
       "      <td>violet</td>\n",
       "    </tr>\n",
       "    <tr>\n",
       "      <th>2</th>\n",
       "      <td>61688.0</td>\n",
       "      <td>38</td>\n",
       "      <td>Objeto</td>\n",
       "      <td>violet</td>\n",
       "    </tr>\n",
       "    <tr>\n",
       "      <th>3</th>\n",
       "      <td>61718.0</td>\n",
       "      <td>8</td>\n",
       "      <td>Objeto</td>\n",
       "      <td>violet</td>\n",
       "    </tr>\n",
       "    <tr>\n",
       "      <th>4</th>\n",
       "      <td>61748.0</td>\n",
       "      <td>0</td>\n",
       "      <td>Objeto</td>\n",
       "      <td>violet</td>\n",
       "    </tr>\n",
       "  </tbody>\n",
       "</table>\n",
       "</div>"
      ],
      "text/plain": [
       "    Tiempo  Eventos  objeto   color\n",
       "0  61628.0       16  Objeto  violet\n",
       "1  61658.0       10  Objeto  violet\n",
       "2  61688.0       38  Objeto  violet\n",
       "3  61718.0        8  Objeto  violet\n",
       "4  61748.0        0  Objeto  violet"
      ]
     },
     "execution_count": 110,
     "metadata": {},
     "output_type": "execute_result"
    }
   ],
   "source": [
    "histograma = pd.DataFrame(zip(bin_t, hist_bins), columns=['Tiempo', 'Eventos'])\n",
    "histograma['objeto'] = ['Objeto' if 61200 < x < 75600 else 'Basal' for x in bin_t]\n",
    "histograma['color'] = ['violet' if x == 'Objeto' else 'k' for x in histograma['objeto']]\n",
    "histograma.head()"
   ]
  },
  {
   "cell_type": "code",
   "execution_count": 111,
   "metadata": {},
   "outputs": [],
   "source": [
    "histograma.to_csv(r'C:/Users/Compras/Documents/resultados_petersii/histograma_eventos_GP_p5.csv')"
   ]
  },
  {
   "cell_type": "code",
   "execution_count": 112,
   "metadata": {},
   "outputs": [
    {
     "name": "stdout",
     "output_type": "stream",
     "text": [
      "objeto\n",
      "Basal     1.594919\n",
      "Objeto    2.050549\n",
      "Name: Eventos, dtype: float64\n"
     ]
    }
   ],
   "source": [
    "condicion = histograma.groupby('objeto')\n",
    "print(condicion['Eventos'].mean())"
   ]
  },
  {
   "cell_type": "code",
   "execution_count": 113,
   "metadata": {},
   "outputs": [],
   "source": [
    "xtickslab = ['17', '21', '1 am', '5 am', '9 am']\n",
    "xticks = [0, 480,960,1440,1920]\n"
   ]
  },
  {
   "cell_type": "code",
   "execution_count": 118,
   "metadata": {},
   "outputs": [
    {
     "name": "stderr",
     "output_type": "stream",
     "text": [
      "C:\\Users\\Compras\\AppData\\Local\\Temp\\ipykernel_6756\\3378346895.py:10: UserWarning: FixedFormatter should only be used together with FixedLocator\n",
      "  fig.set_xticklabels(xtickslab)\n"
     ]
    },
    {
     "data": {
      "application/vnd.jupyter.widget-view+json": {
       "model_id": "a900edea4db74b87ac41e4b5054eec21",
       "version_major": 2,
       "version_minor": 0
      },
      "image/png": "[encoded data removed]",
      "text/html": [
       "\n",
       "            <div style=\"display: inline-block;\">\n",
       "                <div class=\"jupyter-widgets widget-label\" style=\"text-align: center;\">\n",
       "                    Figure\n",
       "                </div>\n",
       "                <img src='data:image/png;base64,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' width=640.0/>\n",
       "            </div>\n",
       "        "
      ],
      "text/plain": [
       "Canvas(toolbar=Toolbar(toolitems=[('Home', 'Reset original view', 'home', 'home'), ('Back', 'Back to previous …"
      ]
     },
     "metadata": {},
     "output_type": "display_data"
    }
   ],
   "source": [
    "%matplotlib widget\n",
    "ax1, fig = plt.subplots()\n",
    "plt.bar(\n",
    "    x=range(len(histograma)),\n",
    "    height=[x/30 for x in histograma['Eventos']],\n",
    "    color=histograma['color']\n",
    ")\n",
    "fig.set_ylabel('Eventos por segundo')\n",
    "fig.set_xlabel('Tiempo en horas (1 bin = 30s)')\n",
    "fig.set_xticklabels(xtickslab)\n",
    "fig.set_xticks(xticks)\n",
    "plt.show()     \n",
    "ax1.savefig(r'C:/Users/Compras/Documents/resultados_petersii/hist_eventos_GP_P6.svg', format='svg')"
   ]
  },
  {
   "cell_type": "code",
   "execution_count": 124,
   "metadata": {},
   "outputs": [
    {
     "data": {
      "text/plain": [
       "['histograma_eventos_GP_p1.csv',\n",
       " 'histograma_eventos_GP_p2.csv',\n",
       " 'histograma_eventos_GP_p3.csv',\n",
       " 'histograma_eventos_GP_p4.csv',\n",
       " 'histograma_eventos_GP_p5.csv',\n",
       " 'histograma_eventos_GP_p6.csv']"
      ]
     },
     "execution_count": 124,
     "metadata": {},
     "output_type": "execute_result"
    }
   ],
   "source": [
    "folder = r\"C:\\Users\\Compras\\Documents\\resultados_petersii\"\n",
    "os.chdir(folder)\n",
    "histograms = glob.glob(\"*.csv\")\n",
    "histograms"
   ]
  },
  {
   "cell_type": "code",
   "execution_count": 136,
   "metadata": {},
   "outputs": [
    {
     "name": "stderr",
     "output_type": "stream",
     "text": [
      "C:\\Users\\Compras\\AppData\\Local\\Temp\\ipykernel_6756\\2966779512.py:2: FutureWarning: The default value of numeric_only in DataFrameGroupBy.mean is deprecated. In a future version, numeric_only will default to False. Either specify numeric_only or select only columns which should be valid for the function.\n",
      "  h.groupby('objeto').mean()['Eventos']['Basal']\n"
     ]
    },
    {
     "data": {
      "text/plain": [
       "1.501923076923077"
      ]
     },
     "execution_count": 136,
     "metadata": {},
     "output_type": "execute_result"
    }
   ],
   "source": [
    "h = pd.read_csv(histograms[0], header=0)\n",
    "h.groupby('objeto').mean()['Eventos']['Basal']"
   ]
  },
  {
   "cell_type": "code",
   "execution_count": 141,
   "metadata": {},
   "outputs": [
    {
     "name": "stderr",
     "output_type": "stream",
     "text": [
      "C:\\Users\\Compras\\AppData\\Local\\Temp\\ipykernel_6756\\1889160668.py:6: FutureWarning: The default value of numeric_only in DataFrameGroupBy.mean is deprecated. In a future version, numeric_only will default to False. Either specify numeric_only or select only columns which should be valid for the function.\n",
      "  medias_b.append(h.groupby('objeto').mean()['Eventos']['Basal'])\n",
      "C:\\Users\\Compras\\AppData\\Local\\Temp\\ipykernel_6756\\1889160668.py:7: FutureWarning: The default value of numeric_only in DataFrameGroupBy.mean is deprecated. In a future version, numeric_only will default to False. Either specify numeric_only or select only columns which should be valid for the function.\n",
      "  medias_o.append(h.groupby('objeto').mean()['Eventos']['Objeto'])\n",
      "C:\\Users\\Compras\\AppData\\Local\\Temp\\ipykernel_6756\\1889160668.py:9: FutureWarning: The default value of numeric_only in DataFrameGroupBy.std is deprecated. In a future version, numeric_only will default to False. Either specify numeric_only or select only columns which should be valid for the function.\n",
      "  std.append(h.groupby('objeto').std()['Eventos'])\n",
      "C:\\Users\\Compras\\AppData\\Local\\Temp\\ipykernel_6756\\1889160668.py:6: FutureWarning: The default value of numeric_only in DataFrameGroupBy.mean is deprecated. In a future version, numeric_only will default to False. Either specify numeric_only or select only columns which should be valid for the function.\n",
      "  medias_b.append(h.groupby('objeto').mean()['Eventos']['Basal'])\n",
      "C:\\Users\\Compras\\AppData\\Local\\Temp\\ipykernel_6756\\1889160668.py:7: FutureWarning: The default value of numeric_only in DataFrameGroupBy.mean is deprecated. In a future version, numeric_only will default to False. Either specify numeric_only or select only columns which should be valid for the function.\n",
      "  medias_o.append(h.groupby('objeto').mean()['Eventos']['Objeto'])\n",
      "C:\\Users\\Compras\\AppData\\Local\\Temp\\ipykernel_6756\\1889160668.py:9: FutureWarning: The default value of numeric_only in DataFrameGroupBy.std is deprecated. In a future version, numeric_only will default to False. Either specify numeric_only or select only columns which should be valid for the function.\n",
      "  std.append(h.groupby('objeto').std()['Eventos'])\n",
      "C:\\Users\\Compras\\AppData\\Local\\Temp\\ipykernel_6756\\1889160668.py:6: FutureWarning: The default value of numeric_only in DataFrameGroupBy.mean is deprecated. In a future version, numeric_only will default to False. Either specify numeric_only or select only columns which should be valid for the function.\n",
      "  medias_b.append(h.groupby('objeto').mean()['Eventos']['Basal'])\n",
      "C:\\Users\\Compras\\AppData\\Local\\Temp\\ipykernel_6756\\1889160668.py:7: FutureWarning: The default value of numeric_only in DataFrameGroupBy.mean is deprecated. In a future version, numeric_only will default to False. Either specify numeric_only or select only columns which should be valid for the function.\n",
      "  medias_o.append(h.groupby('objeto').mean()['Eventos']['Objeto'])\n",
      "C:\\Users\\Compras\\AppData\\Local\\Temp\\ipykernel_6756\\1889160668.py:9: FutureWarning: The default value of numeric_only in DataFrameGroupBy.std is deprecated. In a future version, numeric_only will default to False. Either specify numeric_only or select only columns which should be valid for the function.\n",
      "  std.append(h.groupby('objeto').std()['Eventos'])\n",
      "C:\\Users\\Compras\\AppData\\Local\\Temp\\ipykernel_6756\\1889160668.py:6: FutureWarning: The default value of numeric_only in DataFrameGroupBy.mean is deprecated. In a future version, numeric_only will default to False. Either specify numeric_only or select only columns which should be valid for the function.\n",
      "  medias_b.append(h.groupby('objeto').mean()['Eventos']['Basal'])\n",
      "C:\\Users\\Compras\\AppData\\Local\\Temp\\ipykernel_6756\\1889160668.py:7: FutureWarning: The default value of numeric_only in DataFrameGroupBy.mean is deprecated. In a future version, numeric_only will default to False. Either specify numeric_only or select only columns which should be valid for the function.\n",
      "  medias_o.append(h.groupby('objeto').mean()['Eventos']['Objeto'])\n",
      "C:\\Users\\Compras\\AppData\\Local\\Temp\\ipykernel_6756\\1889160668.py:9: FutureWarning: The default value of numeric_only in DataFrameGroupBy.std is deprecated. In a future version, numeric_only will default to False. Either specify numeric_only or select only columns which should be valid for the function.\n",
      "  std.append(h.groupby('objeto').std()['Eventos'])\n",
      "C:\\Users\\Compras\\AppData\\Local\\Temp\\ipykernel_6756\\1889160668.py:6: FutureWarning: The default value of numeric_only in DataFrameGroupBy.mean is deprecated. In a future version, numeric_only will default to False. Either specify numeric_only or select only columns which should be valid for the function.\n",
      "  medias_b.append(h.groupby('objeto').mean()['Eventos']['Basal'])\n",
      "C:\\Users\\Compras\\AppData\\Local\\Temp\\ipykernel_6756\\1889160668.py:7: FutureWarning: The default value of numeric_only in DataFrameGroupBy.mean is deprecated. In a future version, numeric_only will default to False. Either specify numeric_only or select only columns which should be valid for the function.\n",
      "  medias_o.append(h.groupby('objeto').mean()['Eventos']['Objeto'])\n",
      "C:\\Users\\Compras\\AppData\\Local\\Temp\\ipykernel_6756\\1889160668.py:9: FutureWarning: The default value of numeric_only in DataFrameGroupBy.std is deprecated. In a future version, numeric_only will default to False. Either specify numeric_only or select only columns which should be valid for the function.\n",
      "  std.append(h.groupby('objeto').std()['Eventos'])\n",
      "C:\\Users\\Compras\\AppData\\Local\\Temp\\ipykernel_6756\\1889160668.py:6: FutureWarning: The default value of numeric_only in DataFrameGroupBy.mean is deprecated. In a future version, numeric_only will default to False. Either specify numeric_only or select only columns which should be valid for the function.\n",
      "  medias_b.append(h.groupby('objeto').mean()['Eventos']['Basal'])\n",
      "C:\\Users\\Compras\\AppData\\Local\\Temp\\ipykernel_6756\\1889160668.py:7: FutureWarning: The default value of numeric_only in DataFrameGroupBy.mean is deprecated. In a future version, numeric_only will default to False. Either specify numeric_only or select only columns which should be valid for the function.\n",
      "  medias_o.append(h.groupby('objeto').mean()['Eventos']['Objeto'])\n",
      "C:\\Users\\Compras\\AppData\\Local\\Temp\\ipykernel_6756\\1889160668.py:9: FutureWarning: The default value of numeric_only in DataFrameGroupBy.std is deprecated. In a future version, numeric_only will default to False. Either specify numeric_only or select only columns which should be valid for the function.\n",
      "  std.append(h.groupby('objeto').std()['Eventos'])\n"
     ]
    }
   ],
   "source": [
    "medias_b = []\n",
    "medias_o = []\n",
    "std = []\n",
    "for histogram in histograms:\n",
    "    h = pd.read_csv(histogram)\n",
    "    medias_b.append(h.groupby('objeto').mean()['Eventos']['Basal'])\n",
    "    medias_o.append(h.groupby('objeto').mean()['Eventos']['Objeto'])\n",
    "\n",
    "    std.append(h.groupby('objeto').std()['Eventos'])"
   ]
  },
  {
   "cell_type": "code",
   "execution_count": 146,
   "metadata": {},
   "outputs": [
    {
     "data": {
      "text/html": [
       "<div>\n",
       "<style scoped>\n",
       "    .dataframe tbody tr th:only-of-type {\n",
       "        vertical-align: middle;\n",
       "    }\n",
       "\n",
       "    .dataframe tbody tr th {\n",
       "        vertical-align: top;\n",
       "    }\n",
       "\n",
       "    .dataframe thead th {\n",
       "        text-align: right;\n",
       "    }\n",
       "</style>\n",
       "<table border=\"1\" class=\"dataframe\">\n",
       "  <thead>\n",
       "    <tr style=\"text-align: right;\">\n",
       "      <th></th>\n",
       "      <th>Objeto</th>\n",
       "      <th>Basal</th>\n",
       "    </tr>\n",
       "  </thead>\n",
       "  <tbody>\n",
       "    <tr>\n",
       "      <th>0</th>\n",
       "      <td>1.779915</td>\n",
       "      <td>1.501923</td>\n",
       "    </tr>\n",
       "    <tr>\n",
       "      <th>1</th>\n",
       "      <td>1.025641</td>\n",
       "      <td>1.198006</td>\n",
       "    </tr>\n",
       "    <tr>\n",
       "      <th>2</th>\n",
       "      <td>0.908120</td>\n",
       "      <td>1.314103</td>\n",
       "    </tr>\n",
       "    <tr>\n",
       "      <th>3</th>\n",
       "      <td>0.717949</td>\n",
       "      <td>1.143162</td>\n",
       "    </tr>\n",
       "    <tr>\n",
       "      <th>4</th>\n",
       "      <td>2.050549</td>\n",
       "      <td>1.594919</td>\n",
       "    </tr>\n",
       "    <tr>\n",
       "      <th>5</th>\n",
       "      <td>0.775641</td>\n",
       "      <td>0.559829</td>\n",
       "    </tr>\n",
       "  </tbody>\n",
       "</table>\n",
       "</div>"
      ],
      "text/plain": [
       "     Objeto     Basal\n",
       "0  1.779915  1.501923\n",
       "1  1.025641  1.198006\n",
       "2  0.908120  1.314103\n",
       "3  0.717949  1.143162\n",
       "4  2.050549  1.594919\n",
       "5  0.775641  0.559829"
      ]
     },
     "execution_count": 146,
     "metadata": {},
     "output_type": "execute_result"
    }
   ],
   "source": [
    "medias_histogramas = pd.DataFrame(zip(medias_o, medias_b), columns=['Objeto', 'Basal'])\n",
    "#medias_histogramas = medias_histogramas.melt()\n",
    "medias_histogramas"
   ]
  },
  {
   "cell_type": "code",
   "execution_count": 145,
   "metadata": {},
   "outputs": [
    {
     "data": {
      "application/vnd.jupyter.widget-view+json": {
       "model_id": "df96fc3834e649bfbd89474ff85c7ef9",
       "version_major": 2,
       "version_minor": 0
      },
      "image/png": "[encoded data removed]",
      "text/html": [
       "\n",
       "            <div style=\"display: inline-block;\">\n",
       "                <div class=\"jupyter-widgets widget-label\" style=\"text-align: center;\">\n",
       "                    Figure\n",
       "                </div>\n",
       "                <img src='data:image/png;base64,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' width=500.0/>\n",
       "            </div>\n",
       "        "
      ],
      "text/plain": [
       "Canvas(toolbar=Toolbar(toolitems=[('Home', 'Reset original view', 'home', 'home'), ('Back', 'Back to previous …"
      ]
     },
     "metadata": {},
     "output_type": "display_data"
    }
   ],
   "source": [
    "%matplotlib widget\n",
    "import seaborn as sns\n",
    "box = sns.catplot(data=medias_histogramas, \n",
    "            x = 'variable',\n",
    "            y = 'value',\n",
    "            kind='box',\n",
    "            errorbar='sd',\n",
    "            estimator='median',\n",
    "            color='white')\n",
    "points = sns.swarmplot(data=medias_histogramas, x='variable', y='value', size=5, color='#9B96E1')\n",
    "\n",
    "box.set(ylabel='Eventos por segundo ')\n",
    "plt.show()"
   ]
  }
 ],
 "metadata": {
  "kernelspec": {
   "display_name": "base",
   "language": "python",
   "name": "python3"
  },
  "language_info": {
   "codemirror_mode": {
    "name": "ipython",
    "version": 3
   },
   "file_extension": ".py",
   "mimetype": "text/x-python",
   "name": "python",
   "nbconvert_exporter": "python",
   "pygments_lexer": "ipython3",
   "version": "3.11.4"
  }
 },
 "nbformat": 4,
 "nbformat_minor": 2
}
