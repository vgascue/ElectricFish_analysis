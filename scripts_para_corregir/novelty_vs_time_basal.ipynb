{
 "cells": [
  {
   "cell_type": "markdown",
   "metadata": {},
   "source": [
    "Este script genera graficos de frecuencia instantanea de la DOE vs. tiempo durante el estimulo. Superpone cada estimulacion y las separa en sub-plots por hora consecutiva de estimulacion. Tiene la opcion de separar entre el trial de la mañana y la tarde.\n",
    "\n",
    "Toma los archivos .pkl obtenidos de 'EOD_analysis.py' y los .csv registrados con bonsai con los timestamps de los on y off del objeto. Puede ser adaptado para graficar raster-plot, graficar todas las horas de estimulacion en uno y cambiar los rangos de tiempo de interes para plotear. "
   ]
  },
  {
   "cell_type": "code",
   "execution_count": 23,
   "metadata": {},
   "outputs": [],
   "source": [
    "#importamos los paquetes\n",
    "import pandas as pd\n",
    "import numpy as np\n",
    "import matplotlib.pyplot as plt\n",
    "import glob\n",
    "import os\n",
    "import pickle\n",
    "from datetime import datetime, timedelta\n",
    "from scipy.stats import zscore\n",
    "\n",
    "#cambiamos la carpeta de trabajo y cargamos los archivos\n",
    "data_folder = '/Volumes/Expansion/Datos G. omarorum/Fish1/Objeto/Trial 1 y 2/raw' #cambiar a ruta con archivos .bin\n",
    "os.chdir(data_folder)\n",
    "\n",
    "files_vid = sorted(glob.glob('*.h5'))\n",
    "files_EOD = sorted(glob.glob('*.bin'))\n",
    "obj_coordinates = [291, 213]\n",
    "#definimos parametros\n",
    "sf = 10000\n"
   ]
  },
  {
   "cell_type": "code",
   "execution_count": 24,
   "metadata": {},
   "outputs": [],
   "source": [
    "#cargamos el archivo de FB-DOE\n",
    "with open('fish1_FB-DOE.pkl', 'rb') as file:   #cambiar al nombre apropiado de archivo\n",
    "        FB_doe = pickle.load(file)"
   ]
  },
  {
   "cell_type": "code",
   "execution_count": 26,
   "metadata": {},
   "outputs": [
    {
     "data": {
      "text/plain": [
       "55139"
      ]
     },
     "execution_count": 26,
     "metadata": {},
     "output_type": "execute_result"
    }
   ],
   "source": [
    "len(FB_doe['FB-DOE']['2024-01-05T20_22_51.'])"
   ]
  },
  {
   "cell_type": "markdown",
   "metadata": {},
   "source": [
    "A continuacion tenemos algunas celdas que pre-procesan nuestros datos y filtran los archivos para solo utilizar los que contienen registros durante la estimulacion."
   ]
  },
  {
   "cell_type": "code",
   "execution_count": 10,
   "metadata": {},
   "outputs": [
    {
     "name": "stdout",
     "output_type": "stream",
     "text": [
      "[datetime.datetime(2024, 1, 5, 17, 2, 50), datetime.datetime(2024, 1, 5, 17, 22, 50), datetime.datetime(2024, 1, 5, 17, 42, 50), datetime.datetime(2024, 1, 5, 18, 2, 50), datetime.datetime(2024, 1, 5, 18, 22, 51), datetime.datetime(2024, 1, 5, 18, 42, 51), datetime.datetime(2024, 1, 5, 19, 2, 51), datetime.datetime(2024, 1, 5, 19, 22, 51), datetime.datetime(2024, 1, 5, 19, 42, 51), datetime.datetime(2024, 1, 5, 20, 2, 51), datetime.datetime(2024, 1, 5, 20, 22, 51), datetime.datetime(2024, 1, 5, 20, 42, 52), datetime.datetime(2024, 1, 5, 21, 2, 52), datetime.datetime(2024, 1, 5, 21, 22, 52), datetime.datetime(2024, 1, 5, 21, 42, 52), datetime.datetime(2024, 1, 5, 22, 2, 52), datetime.datetime(2024, 1, 5, 22, 22, 52), datetime.datetime(2024, 1, 5, 22, 42, 52), datetime.datetime(2024, 1, 5, 23, 2, 53), datetime.datetime(2024, 1, 5, 23, 22, 53), datetime.datetime(2024, 1, 5, 23, 42, 53), datetime.datetime(2024, 1, 6, 0, 2, 53), datetime.datetime(2024, 1, 6, 0, 22, 53), datetime.datetime(2024, 1, 6, 0, 42, 53), datetime.datetime(2024, 1, 6, 1, 2, 54), datetime.datetime(2024, 1, 6, 1, 22, 54), datetime.datetime(2024, 1, 6, 1, 42, 54), datetime.datetime(2024, 1, 6, 2, 2, 54), datetime.datetime(2024, 1, 6, 2, 22, 54), datetime.datetime(2024, 1, 6, 2, 42, 54), datetime.datetime(2024, 1, 6, 3, 2, 54), datetime.datetime(2024, 1, 6, 3, 22, 55), datetime.datetime(2024, 1, 6, 3, 42, 55), datetime.datetime(2024, 1, 6, 4, 2, 55), datetime.datetime(2024, 1, 6, 4, 22, 55), datetime.datetime(2024, 1, 6, 4, 42, 55), datetime.datetime(2024, 1, 6, 5, 2, 55), datetime.datetime(2024, 1, 6, 5, 22, 55), datetime.datetime(2024, 1, 6, 5, 42, 56), datetime.datetime(2024, 1, 6, 6, 2, 56), datetime.datetime(2024, 1, 6, 6, 22, 56), datetime.datetime(2024, 1, 6, 6, 42, 56), datetime.datetime(2024, 1, 6, 7, 2, 56), datetime.datetime(2024, 1, 6, 7, 22, 56), datetime.datetime(2024, 1, 6, 7, 42, 57), datetime.datetime(2024, 1, 6, 8, 2, 57), datetime.datetime(2024, 1, 6, 8, 22, 57), datetime.datetime(2024, 1, 6, 8, 42, 57), datetime.datetime(2024, 1, 6, 9, 2, 57), datetime.datetime(2024, 1, 6, 9, 22, 57), datetime.datetime(2024, 1, 6, 9, 42, 57), datetime.datetime(2024, 1, 6, 10, 2, 58), datetime.datetime(2024, 1, 6, 10, 22, 58), datetime.datetime(2024, 1, 6, 10, 42, 58), datetime.datetime(2024, 1, 6, 11, 2, 58)]\n"
     ]
    }
   ],
   "source": [
    "# generamos la lista files_start que contiene las timestamps en formato datetime del comienzo de cada uno de los archivos\n",
    "files_start = [datetime.strptime(key[:-1], '%Y-%m-%dT%H_%M_%S') for key in FB_doe['FB-DOE'].keys()]\n",
    "print(files_start)"
   ]
  },
  {
   "cell_type": "code",
   "execution_count": 11,
   "metadata": {},
   "outputs": [],
   "source": [
    "from datetime import datetime, timedelta\n",
    "\n",
    "def generate_timestamps(start_date):\n",
    "    # Define the start and end times\n",
    "    start_time = datetime(start_date.year, start_date.month, start_date.day, 21, 0, 0)\n",
    "    end_time = start_time + timedelta(hours=8)  # 8 hours from 9 PM to 5 AM\n",
    "\n",
    "    # Initialize an empty list to store timestamps\n",
    "    timestamps = []\n",
    "\n",
    "    # Generate timestamps at one-minute intervals\n",
    "    current_time = start_time\n",
    "    while current_time <= end_time:\n",
    "        timestamps.append(current_time)\n",
    "        current_time += timedelta(minutes=1)\n",
    "\n",
    "    return timestamps\n",
    "\n",
    "# Generamos las timestamps:\n",
    "given_date = files_start[0] \n",
    "timestamps = generate_timestamps(given_date)\n"
   ]
  },
  {
   "cell_type": "code",
   "execution_count": 12,
   "metadata": {},
   "outputs": [],
   "source": [
    "import random\n",
    "from datetime import datetime, timedelta\n",
    "\n",
    "\n",
    "# Function to randomly sample 60 timestamps\n",
    "def sample_random_timestamps(timestamps, seed):\n",
    "    # Ensure that we have at least 60 timestamps available\n",
    "    if len(timestamps) < 60:\n",
    "        raise ValueError(\"Not enough timestamps to sample from.\")\n",
    "\n",
    "    random.seed(seed)\n",
    "    # Sample 60 timestamps randomly\n",
    "    sampled_timestamps = random.sample(timestamps, 60)\n",
    "    return sampled_timestamps\n",
    "\n",
    "# Sample 60 random timestamps\n",
    "random_timestamps = sorted(sample_random_timestamps(timestamps, seed=123))"
   ]
  },
  {
   "cell_type": "code",
   "execution_count": 13,
   "metadata": {},
   "outputs": [
    {
     "name": "stdout",
     "output_type": "stream",
     "text": [
      "55 55\n"
     ]
    }
   ],
   "source": [
    "print(len(files_start), len(FB_doe['FB-DOE'].keys()))"
   ]
  },
  {
   "cell_type": "code",
   "execution_count": 14,
   "metadata": {},
   "outputs": [],
   "source": [
    "nueve = datetime(given_date.year, given_date.month, given_date.day, 21, 0, 0)\n",
    "cinco = nueve + timedelta(hours=8) \n",
    "\n",
    "keys = [x for i, x in enumerate(FB_doe['FB-DOE'].keys()) if files_start[i] > nueve and files_start[i] < cinco]\n",
    "k_idx = [i for i, x in enumerate(FB_doe['FB-DOE'].keys()) if files_start[i] > nueve and files_start[i] < cinco]\n",
    "FB_DOE = {key: FB_doe['FB-DOE'][key] for key in keys}\n",
    "Peak_time = {key: FB_doe['Peak-time'][key] for key in keys}# guardamos los peak-times en otra variable\n",
    "n_files = len(keys)"
   ]
  },
  {
   "cell_type": "code",
   "execution_count": 15,
   "metadata": {},
   "outputs": [
    {
     "data": {
      "text/plain": [
       "[datetime.datetime(2024, 1, 5, 21, 2, 52),\n",
       " datetime.datetime(2024, 1, 5, 21, 22, 52),\n",
       " datetime.datetime(2024, 1, 5, 21, 42, 52),\n",
       " datetime.datetime(2024, 1, 5, 22, 2, 52),\n",
       " datetime.datetime(2024, 1, 5, 22, 22, 52),\n",
       " datetime.datetime(2024, 1, 5, 22, 42, 52),\n",
       " datetime.datetime(2024, 1, 5, 23, 2, 53),\n",
       " datetime.datetime(2024, 1, 5, 23, 22, 53),\n",
       " datetime.datetime(2024, 1, 5, 23, 42, 53),\n",
       " datetime.datetime(2024, 1, 6, 0, 2, 53),\n",
       " datetime.datetime(2024, 1, 6, 0, 22, 53),\n",
       " datetime.datetime(2024, 1, 6, 0, 42, 53),\n",
       " datetime.datetime(2024, 1, 6, 1, 2, 54),\n",
       " datetime.datetime(2024, 1, 6, 1, 22, 54),\n",
       " datetime.datetime(2024, 1, 6, 1, 42, 54),\n",
       " datetime.datetime(2024, 1, 6, 2, 2, 54),\n",
       " datetime.datetime(2024, 1, 6, 2, 22, 54),\n",
       " datetime.datetime(2024, 1, 6, 2, 42, 54),\n",
       " datetime.datetime(2024, 1, 6, 3, 2, 54),\n",
       " datetime.datetime(2024, 1, 6, 3, 22, 55),\n",
       " datetime.datetime(2024, 1, 6, 3, 42, 55),\n",
       " datetime.datetime(2024, 1, 6, 4, 2, 55),\n",
       " datetime.datetime(2024, 1, 6, 4, 22, 55),\n",
       " datetime.datetime(2024, 1, 6, 4, 42, 55)]"
      ]
     },
     "execution_count": 15,
     "metadata": {},
     "output_type": "execute_result"
    }
   ],
   "source": [
    "files_start = [files_start[x] for x in k_idx] #nos quedamos solo con los timestamps de los archivos de interes\n",
    "files_start\n"
   ]
  },
  {
   "cell_type": "code",
   "execution_count": 16,
   "metadata": {},
   "outputs": [
    {
     "data": {
      "text/html": [
       "<div>\n",
       "<style scoped>\n",
       "    .dataframe tbody tr th:only-of-type {\n",
       "        vertical-align: middle;\n",
       "    }\n",
       "\n",
       "    .dataframe tbody tr th {\n",
       "        vertical-align: top;\n",
       "    }\n",
       "\n",
       "    .dataframe thead th {\n",
       "        text-align: right;\n",
       "    }\n",
       "</style>\n",
       "<table border=\"1\" class=\"dataframe\">\n",
       "  <thead>\n",
       "    <tr style=\"text-align: right;\">\n",
       "      <th></th>\n",
       "      <th>2024-01-05T21_02_52.</th>\n",
       "      <th>2024-01-05T21_22_52.</th>\n",
       "      <th>2024-01-05T21_42_52.</th>\n",
       "      <th>2024-01-05T22_02_52.</th>\n",
       "      <th>2024-01-05T22_22_52.</th>\n",
       "      <th>2024-01-05T22_42_52.</th>\n",
       "      <th>2024-01-05T23_02_53.</th>\n",
       "      <th>2024-01-05T23_22_53.</th>\n",
       "      <th>2024-01-05T23_42_53.</th>\n",
       "      <th>2024-01-06T00_02_53.</th>\n",
       "      <th>...</th>\n",
       "      <th>2024-01-06T01_42_54.</th>\n",
       "      <th>2024-01-06T02_02_54.</th>\n",
       "      <th>2024-01-06T02_22_54.</th>\n",
       "      <th>2024-01-06T02_42_54.</th>\n",
       "      <th>2024-01-06T03_02_54.</th>\n",
       "      <th>2024-01-06T03_22_55.</th>\n",
       "      <th>2024-01-06T03_42_55.</th>\n",
       "      <th>2024-01-06T04_02_55.</th>\n",
       "      <th>2024-01-06T04_22_55.</th>\n",
       "      <th>2024-01-06T04_42_55.</th>\n",
       "    </tr>\n",
       "  </thead>\n",
       "  <tbody>\n",
       "    <tr>\n",
       "      <th>0</th>\n",
       "      <td>0.0</td>\n",
       "      <td>6.0</td>\n",
       "      <td>8.0</td>\n",
       "      <td>12.0</td>\n",
       "      <td>16.0</td>\n",
       "      <td>17.0</td>\n",
       "      <td>18.0</td>\n",
       "      <td>22.0</td>\n",
       "      <td>25.0</td>\n",
       "      <td>29.0</td>\n",
       "      <td>...</td>\n",
       "      <td>40.0</td>\n",
       "      <td>42.0</td>\n",
       "      <td>43.0</td>\n",
       "      <td>44.0</td>\n",
       "      <td>45.0</td>\n",
       "      <td>46.0</td>\n",
       "      <td>48.0</td>\n",
       "      <td>51.0</td>\n",
       "      <td>54.0</td>\n",
       "      <td>NaN</td>\n",
       "    </tr>\n",
       "    <tr>\n",
       "      <th>1</th>\n",
       "      <td>2.0</td>\n",
       "      <td>7.0</td>\n",
       "      <td>9.0</td>\n",
       "      <td>13.0</td>\n",
       "      <td>NaN</td>\n",
       "      <td>NaN</td>\n",
       "      <td>19.0</td>\n",
       "      <td>23.0</td>\n",
       "      <td>26.0</td>\n",
       "      <td>30.0</td>\n",
       "      <td>...</td>\n",
       "      <td>41.0</td>\n",
       "      <td>NaN</td>\n",
       "      <td>NaN</td>\n",
       "      <td>NaN</td>\n",
       "      <td>NaN</td>\n",
       "      <td>47.0</td>\n",
       "      <td>49.0</td>\n",
       "      <td>52.0</td>\n",
       "      <td>55.0</td>\n",
       "      <td>NaN</td>\n",
       "    </tr>\n",
       "    <tr>\n",
       "      <th>2</th>\n",
       "      <td>3.0</td>\n",
       "      <td>NaN</td>\n",
       "      <td>10.0</td>\n",
       "      <td>14.0</td>\n",
       "      <td>NaN</td>\n",
       "      <td>NaN</td>\n",
       "      <td>20.0</td>\n",
       "      <td>24.0</td>\n",
       "      <td>27.0</td>\n",
       "      <td>NaN</td>\n",
       "      <td>...</td>\n",
       "      <td>NaN</td>\n",
       "      <td>NaN</td>\n",
       "      <td>NaN</td>\n",
       "      <td>NaN</td>\n",
       "      <td>NaN</td>\n",
       "      <td>NaN</td>\n",
       "      <td>50.0</td>\n",
       "      <td>53.0</td>\n",
       "      <td>56.0</td>\n",
       "      <td>NaN</td>\n",
       "    </tr>\n",
       "    <tr>\n",
       "      <th>3</th>\n",
       "      <td>4.0</td>\n",
       "      <td>NaN</td>\n",
       "      <td>11.0</td>\n",
       "      <td>15.0</td>\n",
       "      <td>NaN</td>\n",
       "      <td>NaN</td>\n",
       "      <td>21.0</td>\n",
       "      <td>NaN</td>\n",
       "      <td>28.0</td>\n",
       "      <td>NaN</td>\n",
       "      <td>...</td>\n",
       "      <td>NaN</td>\n",
       "      <td>NaN</td>\n",
       "      <td>NaN</td>\n",
       "      <td>NaN</td>\n",
       "      <td>NaN</td>\n",
       "      <td>NaN</td>\n",
       "      <td>NaN</td>\n",
       "      <td>NaN</td>\n",
       "      <td>NaN</td>\n",
       "      <td>NaN</td>\n",
       "    </tr>\n",
       "    <tr>\n",
       "      <th>4</th>\n",
       "      <td>5.0</td>\n",
       "      <td>NaN</td>\n",
       "      <td>NaN</td>\n",
       "      <td>NaN</td>\n",
       "      <td>NaN</td>\n",
       "      <td>NaN</td>\n",
       "      <td>NaN</td>\n",
       "      <td>NaN</td>\n",
       "      <td>NaN</td>\n",
       "      <td>NaN</td>\n",
       "      <td>...</td>\n",
       "      <td>NaN</td>\n",
       "      <td>NaN</td>\n",
       "      <td>NaN</td>\n",
       "      <td>NaN</td>\n",
       "      <td>NaN</td>\n",
       "      <td>NaN</td>\n",
       "      <td>NaN</td>\n",
       "      <td>NaN</td>\n",
       "      <td>NaN</td>\n",
       "      <td>NaN</td>\n",
       "    </tr>\n",
       "  </tbody>\n",
       "</table>\n",
       "<p>5 rows × 24 columns</p>\n",
       "</div>"
      ],
      "text/plain": [
       "   2024-01-05T21_02_52.  2024-01-05T21_22_52.  2024-01-05T21_42_52.  \\\n",
       "0                   0.0                   6.0                   8.0   \n",
       "1                   2.0                   7.0                   9.0   \n",
       "2                   3.0                   NaN                  10.0   \n",
       "3                   4.0                   NaN                  11.0   \n",
       "4                   5.0                   NaN                   NaN   \n",
       "\n",
       "   2024-01-05T22_02_52.  2024-01-05T22_22_52.  2024-01-05T22_42_52.  \\\n",
       "0                  12.0                  16.0                  17.0   \n",
       "1                  13.0                   NaN                   NaN   \n",
       "2                  14.0                   NaN                   NaN   \n",
       "3                  15.0                   NaN                   NaN   \n",
       "4                   NaN                   NaN                   NaN   \n",
       "\n",
       "   2024-01-05T23_02_53.  2024-01-05T23_22_53.  2024-01-05T23_42_53.  \\\n",
       "0                  18.0                  22.0                  25.0   \n",
       "1                  19.0                  23.0                  26.0   \n",
       "2                  20.0                  24.0                  27.0   \n",
       "3                  21.0                   NaN                  28.0   \n",
       "4                   NaN                   NaN                   NaN   \n",
       "\n",
       "   2024-01-06T00_02_53.  ...  2024-01-06T01_42_54.  2024-01-06T02_02_54.  \\\n",
       "0                  29.0  ...                  40.0                  42.0   \n",
       "1                  30.0  ...                  41.0                   NaN   \n",
       "2                   NaN  ...                   NaN                   NaN   \n",
       "3                   NaN  ...                   NaN                   NaN   \n",
       "4                   NaN  ...                   NaN                   NaN   \n",
       "\n",
       "   2024-01-06T02_22_54.  2024-01-06T02_42_54.  2024-01-06T03_02_54.  \\\n",
       "0                  43.0                  44.0                  45.0   \n",
       "1                   NaN                   NaN                   NaN   \n",
       "2                   NaN                   NaN                   NaN   \n",
       "3                   NaN                   NaN                   NaN   \n",
       "4                   NaN                   NaN                   NaN   \n",
       "\n",
       "   2024-01-06T03_22_55.  2024-01-06T03_42_55.  2024-01-06T04_02_55.  \\\n",
       "0                  46.0                  48.0                  51.0   \n",
       "1                  47.0                  49.0                  52.0   \n",
       "2                   NaN                  50.0                  53.0   \n",
       "3                   NaN                   NaN                   NaN   \n",
       "4                   NaN                   NaN                   NaN   \n",
       "\n",
       "   2024-01-06T04_22_55.  2024-01-06T04_42_55.  \n",
       "0                  54.0                   NaN  \n",
       "1                  55.0                   NaN  \n",
       "2                  56.0                   NaN  \n",
       "3                   NaN                   NaN  \n",
       "4                   NaN                   NaN  \n",
       "\n",
       "[5 rows x 24 columns]"
      ]
     },
     "execution_count": 16,
     "metadata": {},
     "output_type": "execute_result"
    }
   ],
   "source": [
    "#organizamos cada on segun su archivo de registro\n",
    "files = pd.DataFrame(np.zeros(shape=(20, n_files)), columns=FB_DOE.keys())  # Usamos Int64Dtype para que pueda haber nans en columnas de int\n",
    "\n",
    "for i, column in enumerate(files.columns[:-1], start=0):\n",
    "    start = files_start[i]\n",
    "    end = files_start[i+1]\n",
    "    s = 0\n",
    "    for j in range(len(random_timestamps)):\n",
    "        condition = (start - random_timestamps[j]).total_seconds() < 0 and (end - random_timestamps[j]).total_seconds() > 0\n",
    "        if condition:\n",
    "            files.loc[s, column] = j\n",
    "            s += 1\n",
    "\n",
    "files = files.dropna(how='all')\n",
    "files.replace(0, np.nan, inplace=True) # como inicializamos con una matriz de 0s, si hay algun archivo con menos de 5 ons vamos a tener 0s donde no deben haber, entonces los convertimos a nan\n",
    "files.iloc[0, 0] = 0 # el primer objeto tiene que ser un 0\n",
    "files = files.dropna(how='all')\n",
    "\n",
    "files"
   ]
  },
  {
   "cell_type": "code",
   "execution_count": 17,
   "metadata": {},
   "outputs": [],
   "source": [
    "#inicializamos las listas\n",
    "EOD_peaks_on = []\n",
    "time_EOD_all  = []\n",
    "time_obj_all = []\n",
    "EOD_f_on = []"
   ]
  },
  {
   "cell_type": "code",
   "execution_count": 18,
   "metadata": {},
   "outputs": [
    {
     "name": "stdout",
     "output_type": "stream",
     "text": [
      "termino archivo 0\n",
      "termino archivo 1\n",
      "termino archivo 2\n",
      "termino archivo 3\n",
      "termino archivo 4\n",
      "termino archivo 5\n",
      "termino archivo 6\n",
      "termino archivo 7\n",
      "termino archivo 8\n",
      "termino archivo 9\n",
      "termino archivo 10\n",
      "termino archivo 11\n",
      "termino archivo 12\n",
      "termino archivo 13\n",
      "termino archivo 14\n",
      "termino archivo 15\n",
      "termino archivo 16\n",
      "termino archivo 17\n",
      "termino archivo 18\n",
      "termino archivo 19\n",
      "termino archivo 20\n",
      "termino archivo 21\n",
      "termino archivo 22\n",
      "termino archivo 23\n"
     ]
    }
   ],
   "source": [
    "for k, key in enumerate(files.keys()): #loopeamos entre los archivos de interes\n",
    "    midnight = files_start[k].replace(hour=0, minute=0, second=0, microsecond=0) #definimos la media noche para el dia donde se registro ese archivo\n",
    "    start = abs(midnight - files_start[k]).total_seconds() # calculamos el tiempo de inicio del archivo en segundos totales respecto de las 00 para poder compararla\n",
    "    EOD = np.fromfile(files_EOD[k],dtype=np.int16)\n",
    "    time_EOD = np.linspace(start=start, stop=start+len(EOD)/sf, num=len(EOD))\n",
    "    del EOD\n",
    "\n",
    "    EOD_peaks = np.array(Peak_time[key])\n",
    "    EOD_freq = np.array(FB_DOE[key])\n",
    "    time_obj = np.zeros((20)) #inicializamos nuestra matriz de tiempo de prendida de obj (cada archivo puede tener maximo 5 ons, por eso las dimensiones)\n",
    "\n",
    "    l=0\n",
    "    for i in files.iloc[:,k]:\n",
    "        if not np.isnan(i):\n",
    "                s = abs(midnight - random_timestamps[int(i)]).total_seconds() #calculamos el inicio del on\n",
    "                time_obj[l] = s\n",
    "                time_obj_all.append(s) #guardamos el tiempo de este on en nuestra lista de tiempos de objeto\n",
    "                time_EOD_all.append(time_EOD) #guardamos una copia de time_EOD para cada on \n",
    "                l+=1\n",
    "        \n",
    "    time_peaks = time_EOD[EOD_peaks]\n",
    "    EOD_zscore = zscore(EOD_freq)\n",
    "    for j in range(time_obj.shape[0]):\n",
    "        if not time_obj[j]==0:\n",
    "            range_on = [time_obj[j]-10, time_obj[j]+10] #definimos el rango de interes: 1/2 segundo antes que sea el on y 2 segundos despues\n",
    "            #con = [range_on[0] <= t and t <= range_on[1] for t in videoTime]\n",
    "            condition = [range_on[0] <= time and time <= range_on[1] for time in time_peaks]\n",
    "\n",
    "            EOD_peaks_on.append(EOD_peaks[condition])\n",
    "            EOD_f_on.append(EOD_zscore[condition[:-1]])\n",
    "\n",
    "\n",
    "    print('termino archivo ' + str(k))"
   ]
  },
  {
   "cell_type": "markdown",
   "metadata": {},
   "source": [
    "Las siguientes celdas contienen el codigo para generar las graficas. La primera genera la paleta de colores, la segunda genera el plot para todos los trials juntos y la tercera para los trials 1 y 2 separados"
   ]
  },
  {
   "cell_type": "code",
   "execution_count": 19,
   "metadata": {},
   "outputs": [
    {
     "name": "stderr",
     "output_type": "stream",
     "text": [
      "/var/folders/dk/0fvz37fn27l9149spycxsyf80000gp/T/ipykernel_1300/1860149869.py:2: MatplotlibDeprecationWarning: The get_cmap function was deprecated in Matplotlib 3.7 and will be removed two minor releases later. Use ``matplotlib.colormaps[name]`` or ``matplotlib.colormaps.get_cmap(obj)`` instead.\n",
      "  colormap = cm.get_cmap('cool')\n"
     ]
    }
   ],
   "source": [
    "import matplotlib.cm as cm\n",
    "colormap = cm.get_cmap('cool')\n",
    "colors = [colormap(i+100) for i in range(len(time_obj_all))]"
   ]
  },
  {
   "cell_type": "code",
   "execution_count": 22,
   "metadata": {},
   "outputs": [
    {
     "data": {
      "application/vnd.jupyter.widget-view+json": {
       "model_id": "470558ee4b8847f9ae2bb95cc9561232",
       "version_major": 2,
       "version_minor": 0
      },
      "image/png": "[encoded data removed]",
      "text/html": [
       "\n",
       "            <div style=\"display: inline-block;\">\n",
       "                <div class=\"jupyter-widgets widget-label\" style=\"text-align: center;\">\n",
       "                    Figure\n",
       "                </div>\n",
       "                <img src='data:image/png;base64,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' width=640.0/>\n",
       "            </div>\n",
       "        "
      ],
      "text/plain": [
       "Canvas(toolbar=Toolbar(toolitems=[('Home', 'Reset original view', 'home', 'home'), ('Back', 'Back to previous …"
      ]
     },
     "metadata": {},
     "output_type": "display_data"
    }
   ],
   "source": [
    "%matplotlib widget \n",
    "#plot all trials\n",
    "n_per_on = []\n",
    "t_novelty = []\n",
    "trials = []\n",
    "n_peaks = []\n",
    "fig, ax = plt.subplots()\n",
    "ax2 = ax.twinx()\n",
    "k=0\n",
    "\n",
    "EOD_zscore = EOD_f_on\n",
    "    \n",
    "if len(EOD_zscore)>0 :\n",
    "    for z_score, peak, t, o, c in zip(EOD_zscore, EOD_peaks_on, time_EOD_all,  time_obj_all, colors):\n",
    "        peak = peak[:len(z_score)]\n",
    "        #plt.scatter(t[peak]-o, np.ones(len(peak))*k, color=c, s=1)\n",
    "            \n",
    "        i_novel = peak[z_score > 1.2]\n",
    "        novel = [i for i in z_score if i >1.2]\n",
    "        if len(peak) > 0:\n",
    "            n_per_on.append(len(i_novel)/ len(peak))\n",
    "        else:\n",
    "            n_per_on.append(0)\n",
    "        n_peaks.append(len(peak))\n",
    "        t_novelty.append(o)\n",
    "        trials.append(k)\n",
    "        plt.scatter(t[i_novel]-o, np.ones(len(i_novel))*k, color=c, s=3)\n",
    "        k += .01\n",
    "\n",
    "        ax.set_ylabel('Ventanas de 10 s basal')\n",
    "        ax.set_xlabel('Tiempo (s)')\n",
    "\n",
    "\n",
    "bar_width = .01\n",
    "for i, y in zip(trials,n_per_on):\n",
    "    bar_position = 10 -y +2\n",
    "    ax2.barh(i + bar_width*i, y, height=bar_width, color='k', alpha=.5, left=bar_position)  # Bar for each line\n",
    "\n",
    "hours = [int(trial // 3600) for trial in t_novelty]\n",
    "minutes = [int(trial % 3600) // 60 for trial in t_novelty]\n",
    "dates = [datetime.now().replace(hour=hour, minute=minute, second=0, microsecond=0) for hour, minute in zip(hours, minutes)]\n",
    "\n",
    "ax.set_yticks([])\n",
    "\n",
    "ax.set_xticks([0,2,4,6,8,10])\n",
    "ax.set_xticklabels([0, 2,4,6,8,10])\n",
    "ax2.axvline(x=11, color='b', linestyle='--',alpha=.8, label='Vertical Line')\n",
    "\n",
    "x_hist = ax.secondary_xaxis('top')\n",
    "x_hist.set_xticks([11])\n",
    "x_hist.set_xticklabels(['100%'])\n",
    "ax2.set_yticks(np.linspace(0,k,len(trials)))\n",
    "ax2.set_yticklabels([date.strftime(\"%H:%M\") for date in dates], fontsize=8)\n",
    "\n",
    "ax2.set_ylabel('Tiempo de comienzo de ventana')\n",
    "plt.show()\n"
   ]
  },
  {
   "cell_type": "code",
   "execution_count": 21,
   "metadata": {},
   "outputs": [
    {
     "data": {
      "text/plain": [
       "2.716666666666667"
      ]
     },
     "execution_count": 21,
     "metadata": {},
     "output_type": "execute_result"
    }
   ],
   "source": [
    "p = sum([x*y for x,y in zip(n_per_on, n_peaks)])/1200\n",
    "p"
   ]
  },
  {
   "cell_type": "code",
   "execution_count": null,
   "metadata": {},
   "outputs": [],
   "source": []
  }
 ],
 "metadata": {
  "kernelspec": {
   "display_name": "base",
   "language": "python",
   "name": "python3"
  },
  "language_info": {
   "codemirror_mode": {
    "name": "ipython",
    "version": 3
   },
   "file_extension": ".py",
   "mimetype": "text/x-python",
   "name": "python",
   "nbconvert_exporter": "python",
   "pygments_lexer": "ipython3",
   "version": "3.11.7"
  }
 },
 "nbformat": 4,
 "nbformat_minor": 2
}
