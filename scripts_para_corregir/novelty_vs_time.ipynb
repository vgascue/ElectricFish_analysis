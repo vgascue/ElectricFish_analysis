{
 "cells": [
  {
   "cell_type": "markdown",
   "metadata": {},
   "source": [
    "Este script genera graficos de frecuencia instantanea de la DOE vs. tiempo durante el estimulo. Superpone cada estimulacion y las separa en sub-plots por hora consecutiva de estimulacion. Tiene la opcion de separar entre el trial de la mañana y la tarde.\n",
    "\n",
    "Toma los archivos .pkl obtenidos de 'EOD_analysis.py' y los .csv registrados con bonsai con los timestamps de los on y off del objeto. Puede ser adaptado para graficar raster-plot, graficar todas las horas de estimulacion en uno y cambiar los rangos de tiempo de interes para plotear. "
   ]
  },
  {
   "cell_type": "code",
   "execution_count": 113,
   "metadata": {},
   "outputs": [],
   "source": [
    "#importamos los paquetes\n",
    "import pandas as pd\n",
    "import numpy as np\n",
    "import matplotlib.pyplot as plt\n",
    "import glob\n",
    "import os\n",
    "import pickle\n",
    "from datetime import datetime, timedelta\n",
    "from scipy.stats import zscore\n",
    "\n",
    "#cambiamos la carpeta de trabajo y cargamos los archivos\n",
    "data_folder = r'D:\\Datos G. omarorum\\Fish6\\Objeto\\Trial 1 y 2\\raw' #cambiar a ruta con archivos .bin\n",
    "os.chdir(data_folder)\n",
    "\n",
    "files_vid = sorted(glob.glob('*.h5'))\n",
    "on_off1 = pd.read_csv(os.path.join(data_folder, 'on_off_trial1.csv'), header=None) #asegurarse de terner los .csv en la misma carpeta que el pkl\n",
    "on_off2 = pd.read_csv(os.path.join(data_folder, 'on_off_trial2.csv'), header=None)\n",
    "files_EOD = sorted(glob.glob('*.bin'))\n",
    "obj_coordinates = [291, 213]\n",
    "#definimos parametros\n",
    "sf = 10000\n"
   ]
  },
  {
   "cell_type": "code",
   "execution_count": 114,
   "metadata": {},
   "outputs": [],
   "source": [
    "#cargamos el archivo de FB-DOE\n",
    "with open('fish6_FB-DOE.pkl', 'rb') as file:   #cambiar al nombre apropiado de archivo\n",
    "        FB_doe = pickle.load(file)"
   ]
  },
  {
   "cell_type": "markdown",
   "metadata": {},
   "source": [
    "A continuacion tenemos algunas celdas que pre-procesan nuestros datos y filtran los archivos para solo utilizar los que contienen registros durante la estimulacion."
   ]
  },
  {
   "cell_type": "code",
   "execution_count": 115,
   "metadata": {},
   "outputs": [
    {
     "name": "stdout",
     "output_type": "stream",
     "text": [
      "[datetime.datetime(2024, 2, 2, 17, 1, 11), datetime.datetime(2024, 2, 2, 17, 21, 12), datetime.datetime(2024, 2, 2, 17, 41, 12), datetime.datetime(2024, 2, 2, 18, 1, 12), datetime.datetime(2024, 2, 2, 18, 21, 12), datetime.datetime(2024, 2, 2, 18, 41, 12), datetime.datetime(2024, 2, 2, 19, 1, 12), datetime.datetime(2024, 2, 2, 19, 21, 12), datetime.datetime(2024, 2, 2, 19, 41, 13), datetime.datetime(2024, 2, 2, 20, 1, 13), datetime.datetime(2024, 2, 2, 20, 21, 13), datetime.datetime(2024, 2, 2, 20, 41, 13), datetime.datetime(2024, 2, 2, 21, 1, 13), datetime.datetime(2024, 2, 2, 21, 21, 13), datetime.datetime(2024, 2, 2, 21, 41, 13), datetime.datetime(2024, 2, 2, 22, 1, 14), datetime.datetime(2024, 2, 2, 22, 21, 14), datetime.datetime(2024, 2, 2, 22, 41, 14), datetime.datetime(2024, 2, 2, 23, 1, 14), datetime.datetime(2024, 2, 2, 23, 21, 14), datetime.datetime(2024, 2, 2, 23, 41, 14), datetime.datetime(2024, 2, 3, 0, 1, 15), datetime.datetime(2024, 2, 3, 0, 21, 15), datetime.datetime(2024, 2, 3, 0, 41, 15), datetime.datetime(2024, 2, 3, 1, 1, 15), datetime.datetime(2024, 2, 3, 1, 21, 15), datetime.datetime(2024, 2, 3, 1, 41, 15), datetime.datetime(2024, 2, 3, 2, 1, 15), datetime.datetime(2024, 2, 3, 2, 21, 16), datetime.datetime(2024, 2, 3, 2, 41, 16), datetime.datetime(2024, 2, 3, 3, 1, 16), datetime.datetime(2024, 2, 3, 3, 21, 16), datetime.datetime(2024, 2, 3, 3, 41, 16), datetime.datetime(2024, 2, 3, 4, 1, 16), datetime.datetime(2024, 2, 3, 4, 21, 16), datetime.datetime(2024, 2, 3, 4, 41, 17), datetime.datetime(2024, 2, 3, 5, 1, 17), datetime.datetime(2024, 2, 3, 5, 21, 17), datetime.datetime(2024, 2, 3, 5, 41, 17), datetime.datetime(2024, 2, 3, 6, 1, 17), datetime.datetime(2024, 2, 3, 6, 21, 17), datetime.datetime(2024, 2, 3, 6, 41, 18), datetime.datetime(2024, 2, 3, 7, 1, 18), datetime.datetime(2024, 2, 3, 7, 21, 18), datetime.datetime(2024, 2, 3, 7, 41, 18), datetime.datetime(2024, 2, 3, 8, 1, 18), datetime.datetime(2024, 2, 3, 8, 21, 18), datetime.datetime(2024, 2, 3, 8, 41, 18), datetime.datetime(2024, 2, 3, 9, 1, 19), datetime.datetime(2024, 2, 3, 9, 21, 19), datetime.datetime(2024, 2, 3, 9, 41, 19), datetime.datetime(2024, 2, 3, 10, 1, 19), datetime.datetime(2024, 2, 3, 10, 21, 19), datetime.datetime(2024, 2, 3, 10, 41, 19), datetime.datetime(2024, 2, 3, 11, 1, 19)]\n"
     ]
    }
   ],
   "source": [
    "# generamos la lista files_start que contiene las timestamps en formato datetime del comienzo de cada uno de los archivos\n",
    "files_start = [datetime.strptime(key[:-1], '%Y-%m-%dT%H_%M_%S') for key in FB_doe['FB-DOE'].keys()]\n",
    "print(files_start)# convertimos on_off1 a formato datetime\n",
    "on_off1[0] = on_off1[0].apply(lambda x: datetime.fromisoformat(x[:-6]))\n",
    "\n",
    "# ahora pasamos on_off1 a formato dataframe y nos quedamos solo con la columna de tiempo de on \n",
    "on_off = pd.DataFrame(np.zeros(shape=(len(on_off1), 2)), columns=['Trial 1', 'Trial 2'])\n",
    "on_off['Trial 1'] = on_off1.drop(on_off1.columns[[1, 2]], axis=1)\n",
    "\n",
    "# hacemos lo mismo con on_off2 y lo agregamos al dataframe on_off\n",
    "on_off2[0] = on_off2[0].apply(lambda x: datetime.fromisoformat(x[:-6]))\n",
    "on_off['Trial 2'] = on_off2.drop(on_off2.columns[[1, 2]], axis=1)"
   ]
  },
  {
   "cell_type": "code",
   "execution_count": 116,
   "metadata": {},
   "outputs": [],
   "source": [
    "# guardamos algunos tiempos de referencia para filtrar los archivos \n",
    "trial1_last = on_off['Trial 1'].iloc[-1]\n",
    "trial2_last = on_off['Trial 2'].iloc[-1]\n",
    "trial2_first = on_off['Trial 2'].iloc[0]\n",
    "\n",
    "# generamos n_trial1 y n_trial2 que contiene los indices de los archivos que nos interesan para cada trial\n",
    "n_trial1 = [i for i, start in enumerate(files_start) if (start - trial1_last).total_seconds() < 0]\n",
    "n_trial2 = [i for i, start in enumerate(files_start) if (start - trial2_last).total_seconds() < 0 and (start - trial2_first).total_seconds() > 0]\n",
    "\n",
    "# Achatamos on_off y lo ordenamos\n",
    "on_off = pd.DataFrame(on_off.values.flatten(), columns=['On_off']).sort_values(by='On_off')\n",
    "on_off.reset_index(inplace=True)"
   ]
  },
  {
   "cell_type": "code",
   "execution_count": 117,
   "metadata": {},
   "outputs": [],
   "source": [
    "files_start = [files_start[x] for x in n_trial1 + n_trial2] #nos quedamos solo con los timestamps de los archivos de interes\n",
    "\n",
    "FB_DOE = FB_doe['FB-DOE'] #guardamos las frequencias en una variable\n",
    "Peak_time = FB_doe['Peak-time'] # guardamos los peak-times en otra variable\n",
    "\n",
    "keys1 = [list(FB_DOE.keys())[i] for i in n_trial1] #guardamos las keys del trial 1\n",
    "keys2 = [list(FB_DOE.keys())[i] for i in n_trial2] #guardamos las keys del trial 2\n",
    "\n",
    "FB_DOE_T1 = {key: FB_DOE.get(key) for key in keys1} # guardamos las frecuencias del trial 1 \n",
    "Peaks_T1 = {key: Peak_time.get(key) for key in keys1}  #guardamos los peak-times del trial 1\n",
    "FB_DOE_T2 = {key: FB_DOE.get(key) for key in keys2}  #guardamos las frecuencias del trial 2\n",
    "Peaks_T2 = {key: Peak_time.get(key) for key in keys2} #guardamos los peak-times del trial 2\n",
    "\n",
    "n_files = len(FB_DOE_T1) + len(FB_DOE_T2) #guardamos el numero de files con el que estamos trabajando para usar despues"
   ]
  },
  {
   "cell_type": "code",
   "execution_count": 118,
   "metadata": {},
   "outputs": [
    {
     "data": {
      "text/plain": [
       "datetime.datetime(2024, 2, 2, 17, 21, 12)"
      ]
     },
     "execution_count": 118,
     "metadata": {},
     "output_type": "execute_result"
    }
   ],
   "source": [
    "files_start[1]"
   ]
  },
  {
   "cell_type": "code",
   "execution_count": 119,
   "metadata": {},
   "outputs": [
    {
     "data": {
      "text/html": [
       "<div>\n",
       "<style scoped>\n",
       "    .dataframe tbody tr th:only-of-type {\n",
       "        vertical-align: middle;\n",
       "    }\n",
       "\n",
       "    .dataframe tbody tr th {\n",
       "        vertical-align: top;\n",
       "    }\n",
       "\n",
       "    .dataframe thead th {\n",
       "        text-align: right;\n",
       "    }\n",
       "</style>\n",
       "<table border=\"1\" class=\"dataframe\">\n",
       "  <thead>\n",
       "    <tr style=\"text-align: right;\">\n",
       "      <th></th>\n",
       "      <th>2024-02-02T17_01_11.</th>\n",
       "      <th>2024-02-02T17_21_12.</th>\n",
       "      <th>2024-02-02T17_41_12.</th>\n",
       "      <th>2024-02-02T18_01_12.</th>\n",
       "      <th>2024-02-02T18_21_12.</th>\n",
       "      <th>2024-02-02T18_41_12.</th>\n",
       "      <th>2024-02-02T19_01_12.</th>\n",
       "      <th>2024-02-02T19_21_12.</th>\n",
       "      <th>2024-02-02T19_41_13.</th>\n",
       "      <th>2024-02-02T20_01_13.</th>\n",
       "      <th>...</th>\n",
       "      <th>2024-02-03T06_01_17.</th>\n",
       "      <th>2024-02-03T06_21_17.</th>\n",
       "      <th>2024-02-03T06_41_18.</th>\n",
       "      <th>2024-02-03T07_01_18.</th>\n",
       "      <th>2024-02-03T07_21_18.</th>\n",
       "      <th>2024-02-03T07_41_18.</th>\n",
       "      <th>2024-02-03T08_01_18.</th>\n",
       "      <th>2024-02-03T08_21_18.</th>\n",
       "      <th>2024-02-03T08_41_18.</th>\n",
       "      <th>2024-02-03T09_01_19.</th>\n",
       "    </tr>\n",
       "  </thead>\n",
       "  <tbody>\n",
       "    <tr>\n",
       "      <th>0</th>\n",
       "      <td>0.0</td>\n",
       "      <td>5.0</td>\n",
       "      <td>10.0</td>\n",
       "      <td>15.0</td>\n",
       "      <td>20.0</td>\n",
       "      <td>25.0</td>\n",
       "      <td>30.0</td>\n",
       "      <td>35.0</td>\n",
       "      <td>40.0</td>\n",
       "      <td>45.0</td>\n",
       "      <td>...</td>\n",
       "      <td>75.0</td>\n",
       "      <td>80.0</td>\n",
       "      <td>85.0</td>\n",
       "      <td>90.0</td>\n",
       "      <td>95.0</td>\n",
       "      <td>100.0</td>\n",
       "      <td>105.0</td>\n",
       "      <td>109.0</td>\n",
       "      <td>114.0</td>\n",
       "      <td>NaN</td>\n",
       "    </tr>\n",
       "    <tr>\n",
       "      <th>1</th>\n",
       "      <td>1.0</td>\n",
       "      <td>6.0</td>\n",
       "      <td>11.0</td>\n",
       "      <td>16.0</td>\n",
       "      <td>21.0</td>\n",
       "      <td>26.0</td>\n",
       "      <td>31.0</td>\n",
       "      <td>36.0</td>\n",
       "      <td>41.0</td>\n",
       "      <td>46.0</td>\n",
       "      <td>...</td>\n",
       "      <td>76.0</td>\n",
       "      <td>81.0</td>\n",
       "      <td>86.0</td>\n",
       "      <td>91.0</td>\n",
       "      <td>96.0</td>\n",
       "      <td>101.0</td>\n",
       "      <td>106.0</td>\n",
       "      <td>110.0</td>\n",
       "      <td>115.0</td>\n",
       "      <td>NaN</td>\n",
       "    </tr>\n",
       "    <tr>\n",
       "      <th>2</th>\n",
       "      <td>2.0</td>\n",
       "      <td>7.0</td>\n",
       "      <td>12.0</td>\n",
       "      <td>17.0</td>\n",
       "      <td>22.0</td>\n",
       "      <td>27.0</td>\n",
       "      <td>32.0</td>\n",
       "      <td>37.0</td>\n",
       "      <td>42.0</td>\n",
       "      <td>47.0</td>\n",
       "      <td>...</td>\n",
       "      <td>77.0</td>\n",
       "      <td>82.0</td>\n",
       "      <td>87.0</td>\n",
       "      <td>92.0</td>\n",
       "      <td>97.0</td>\n",
       "      <td>102.0</td>\n",
       "      <td>107.0</td>\n",
       "      <td>111.0</td>\n",
       "      <td>116.0</td>\n",
       "      <td>NaN</td>\n",
       "    </tr>\n",
       "    <tr>\n",
       "      <th>3</th>\n",
       "      <td>3.0</td>\n",
       "      <td>8.0</td>\n",
       "      <td>13.0</td>\n",
       "      <td>18.0</td>\n",
       "      <td>23.0</td>\n",
       "      <td>28.0</td>\n",
       "      <td>33.0</td>\n",
       "      <td>38.0</td>\n",
       "      <td>43.0</td>\n",
       "      <td>48.0</td>\n",
       "      <td>...</td>\n",
       "      <td>78.0</td>\n",
       "      <td>83.0</td>\n",
       "      <td>88.0</td>\n",
       "      <td>93.0</td>\n",
       "      <td>98.0</td>\n",
       "      <td>103.0</td>\n",
       "      <td>108.0</td>\n",
       "      <td>112.0</td>\n",
       "      <td>117.0</td>\n",
       "      <td>NaN</td>\n",
       "    </tr>\n",
       "    <tr>\n",
       "      <th>4</th>\n",
       "      <td>4.0</td>\n",
       "      <td>9.0</td>\n",
       "      <td>14.0</td>\n",
       "      <td>19.0</td>\n",
       "      <td>24.0</td>\n",
       "      <td>29.0</td>\n",
       "      <td>34.0</td>\n",
       "      <td>39.0</td>\n",
       "      <td>44.0</td>\n",
       "      <td>NaN</td>\n",
       "      <td>...</td>\n",
       "      <td>79.0</td>\n",
       "      <td>84.0</td>\n",
       "      <td>89.0</td>\n",
       "      <td>94.0</td>\n",
       "      <td>99.0</td>\n",
       "      <td>104.0</td>\n",
       "      <td>NaN</td>\n",
       "      <td>113.0</td>\n",
       "      <td>118.0</td>\n",
       "      <td>NaN</td>\n",
       "    </tr>\n",
       "    <tr>\n",
       "      <th>5</th>\n",
       "      <td>NaN</td>\n",
       "      <td>NaN</td>\n",
       "      <td>NaN</td>\n",
       "      <td>NaN</td>\n",
       "      <td>NaN</td>\n",
       "      <td>NaN</td>\n",
       "      <td>NaN</td>\n",
       "      <td>NaN</td>\n",
       "      <td>NaN</td>\n",
       "      <td>NaN</td>\n",
       "      <td>...</td>\n",
       "      <td>NaN</td>\n",
       "      <td>NaN</td>\n",
       "      <td>NaN</td>\n",
       "      <td>NaN</td>\n",
       "      <td>NaN</td>\n",
       "      <td>NaN</td>\n",
       "      <td>NaN</td>\n",
       "      <td>NaN</td>\n",
       "      <td>NaN</td>\n",
       "      <td>NaN</td>\n",
       "    </tr>\n",
       "  </tbody>\n",
       "</table>\n",
       "<p>6 rows × 25 columns</p>\n",
       "</div>"
      ],
      "text/plain": [
       "   2024-02-02T17_01_11.  2024-02-02T17_21_12.  2024-02-02T17_41_12.  \\\n",
       "0                   0.0                   5.0                  10.0   \n",
       "1                   1.0                   6.0                  11.0   \n",
       "2                   2.0                   7.0                  12.0   \n",
       "3                   3.0                   8.0                  13.0   \n",
       "4                   4.0                   9.0                  14.0   \n",
       "5                   NaN                   NaN                   NaN   \n",
       "\n",
       "   2024-02-02T18_01_12.  2024-02-02T18_21_12.  2024-02-02T18_41_12.  \\\n",
       "0                  15.0                  20.0                  25.0   \n",
       "1                  16.0                  21.0                  26.0   \n",
       "2                  17.0                  22.0                  27.0   \n",
       "3                  18.0                  23.0                  28.0   \n",
       "4                  19.0                  24.0                  29.0   \n",
       "5                   NaN                   NaN                   NaN   \n",
       "\n",
       "   2024-02-02T19_01_12.  2024-02-02T19_21_12.  2024-02-02T19_41_13.  \\\n",
       "0                  30.0                  35.0                  40.0   \n",
       "1                  31.0                  36.0                  41.0   \n",
       "2                  32.0                  37.0                  42.0   \n",
       "3                  33.0                  38.0                  43.0   \n",
       "4                  34.0                  39.0                  44.0   \n",
       "5                   NaN                   NaN                   NaN   \n",
       "\n",
       "   2024-02-02T20_01_13.  ...  2024-02-03T06_01_17.  2024-02-03T06_21_17.  \\\n",
       "0                  45.0  ...                  75.0                  80.0   \n",
       "1                  46.0  ...                  76.0                  81.0   \n",
       "2                  47.0  ...                  77.0                  82.0   \n",
       "3                  48.0  ...                  78.0                  83.0   \n",
       "4                   NaN  ...                  79.0                  84.0   \n",
       "5                   NaN  ...                   NaN                   NaN   \n",
       "\n",
       "   2024-02-03T06_41_18.  2024-02-03T07_01_18.  2024-02-03T07_21_18.  \\\n",
       "0                  85.0                  90.0                  95.0   \n",
       "1                  86.0                  91.0                  96.0   \n",
       "2                  87.0                  92.0                  97.0   \n",
       "3                  88.0                  93.0                  98.0   \n",
       "4                  89.0                  94.0                  99.0   \n",
       "5                   NaN                   NaN                   NaN   \n",
       "\n",
       "   2024-02-03T07_41_18.  2024-02-03T08_01_18.  2024-02-03T08_21_18.  \\\n",
       "0                 100.0                 105.0                 109.0   \n",
       "1                 101.0                 106.0                 110.0   \n",
       "2                 102.0                 107.0                 111.0   \n",
       "3                 103.0                 108.0                 112.0   \n",
       "4                 104.0                   NaN                 113.0   \n",
       "5                   NaN                   NaN                   NaN   \n",
       "\n",
       "   2024-02-03T08_41_18.  2024-02-03T09_01_19.  \n",
       "0                 114.0                   NaN  \n",
       "1                 115.0                   NaN  \n",
       "2                 116.0                   NaN  \n",
       "3                 117.0                   NaN  \n",
       "4                 118.0                   NaN  \n",
       "5                   NaN                   NaN  \n",
       "\n",
       "[6 rows x 25 columns]"
      ]
     },
     "execution_count": 119,
     "metadata": {},
     "output_type": "execute_result"
    }
   ],
   "source": [
    "#organizamos cada on segun su archivo de registro\n",
    "files = pd.DataFrame(np.zeros(shape=(4, n_files)), columns=list(FB_DOE_T1.keys()) + list(FB_DOE_T2.keys()))  # Usamos Int64Dtype para que pueda haber nans en columnas de int\n",
    "\n",
    "for i, column in enumerate(files.columns[:-1], start=0):\n",
    "    start = files_start[i]\n",
    "    end = files_start[i+1]\n",
    "    s = 0\n",
    "    for j in range(len(on_off)):\n",
    "        condition = (start - on_off['On_off'][j]).total_seconds() < 0 and (end - on_off['On_off'][j]).total_seconds() > 0\n",
    "        if condition:\n",
    "            files.loc[s, column] = j\n",
    "            s += 1\n",
    "\n",
    "files = files.dropna(how='all')\n",
    "files.replace(0, np.nan, inplace=True) # como inicializamos con una matriz de 0s, si hay algun archivo con menos de 5 ons vamos a tener 0s donde no deben haber, entonces los convertimos a nan\n",
    "files.iloc[0, 0] = 0 # el primer objeto tiene que ser un 0\n",
    "files = files.dropna(how='all')\n",
    "\n",
    "files"
   ]
  },
  {
   "cell_type": "code",
   "execution_count": 120,
   "metadata": {},
   "outputs": [],
   "source": [
    "#inicializamos las listas\n",
    "EOD_peaks_on = {'Trial 1': [], 'Trial 2': []}\n",
    "time_EOD_all  = {'Trial 1': [], 'Trial 2': []}\n",
    "time_obj_all = {'Trial 1': [], 'Trial 2': []}\n",
    "EOD_f_on = {'Trial 1': [], 'Trial 2': []}\n",
    "distancia = {'Trial 1': [], 'Trial 2': [], 'Trial 2T' : [], 'Trial 1T': []}"
   ]
  },
  {
   "cell_type": "code",
   "execution_count": 121,
   "metadata": {},
   "outputs": [
    {
     "name": "stdout",
     "output_type": "stream",
     "text": [
      "termino archivo 0\n",
      "termino archivo 1\n",
      "termino archivo 2\n",
      "termino archivo 3\n",
      "termino archivo 4\n",
      "termino archivo 5\n",
      "termino archivo 6\n",
      "termino archivo 7\n",
      "termino archivo 8\n",
      "termino archivo 9\n",
      "termino archivo 10\n",
      "termino archivo 11\n",
      "termino archivo 12\n",
      "termino archivo 13\n",
      "termino archivo 14\n",
      "termino archivo 15\n",
      "termino archivo 16\n",
      "termino archivo 17\n",
      "termino archivo 18\n",
      "termino archivo 19\n",
      "termino archivo 20\n",
      "termino archivo 21\n",
      "termino archivo 22\n",
      "termino archivo 23\n"
     ]
    }
   ],
   "source": [
    "for k in range(len(files.keys())-1): #loopeamos entre los archivos de interes\n",
    "    midnight = files_start[k].replace(hour=0, minute=0, second=0, microsecond=0) #definimos la media noche para el dia donde se registro ese archivo\n",
    "    start = abs(midnight - files_start[k]).total_seconds() # calculamos el tiempo de inicio del archivo en segundos totales respecto de las 00 para poder compararla\n",
    "    EOD = np.fromfile(files_EOD[k],dtype=np.int16)\n",
    "    time_EOD = np.linspace(start=start, stop=start+len(EOD)/sf, num=len(EOD))\n",
    "    del EOD\n",
    "    #vid = pd.read_hdf(files_vid[k])\n",
    "    #mouth = vid.iloc[:, 0:2]\n",
    "    #Calculate chin to object distance for each frame\n",
    "    #fishdistance = np.array([distance.euclidean(obj_coordinates,[mouth.iloc[i, 0], mouth.iloc[i, 1]]) for i in range(len(mouth))])\n",
    "    #durationVideo = len(vid)/50 \n",
    "    #videoTime = np.linspace(start=start, stop=start+durationVideo, num=round(durationVideo*50))\n",
    " \n",
    "    time_obj = np.zeros((6)) #inicializamos nuestra matriz de tiempo de prendida de obj (cada archivo puede tener maximo 5 ons, por eso las dimensiones)\n",
    "    \n",
    "    if k < len(n_trial1):\n",
    "        key = 'Trial 1'\n",
    "        EOD_peaks = np.array(Peaks_T1[list(Peaks_T1.keys())[k]])\n",
    "        EOD_freq = np.array(FB_DOE_T1[list(FB_DOE_T1.keys())[k]])\n",
    "    \n",
    "    else:\n",
    "        key = 'Trial 2'\n",
    "        EOD_peaks = np.array(Peaks_T2[list(Peaks_T2.keys())[k-len(n_trial1)]])\n",
    "        EOD_freq = np.array(FB_DOE_T2[list(FB_DOE_T2.keys())[k-len(n_trial1)]])\n",
    "        \n",
    "    l=0\n",
    "    for i in files.iloc[:,k]:\n",
    "        if not np.isnan(i):\n",
    "                s = abs(midnight - on_off['On_off'][int(i)]).total_seconds() #calculamos el inicio del on\n",
    "                time_obj[l] = s\n",
    "                time_obj_all[key].append(s) #guardamos el tiempo de este on en nuestra lista de tiempos de objeto\n",
    "                time_EOD_all[key].append(time_EOD) #guardamos una copia de time_EOD para cada on \n",
    "                l+=1\n",
    "    \n",
    "    time_peaks = time_EOD[EOD_peaks]\n",
    "    EOD_zscore = zscore(EOD_freq)\n",
    "    for j in range(time_obj.shape[0]):\n",
    "        if not time_obj[j]==0:\n",
    "            range_on = [time_obj[j]-5, time_obj[j]+10] #definimos el rango de interes: 1/2 segundo antes que sea el on y 2 segundos despues\n",
    "            #con = [range_on[0] <= t and t <= range_on[1] for t in videoTime]\n",
    "            condition = [range_on[0] <= time and time <= range_on[1] for time in time_peaks]\n",
    "\n",
    "            EOD_peaks_on[key].append(EOD_peaks[condition])\n",
    "            EOD_f_on[key].append(EOD_zscore[condition[:-1]])\n",
    "\n",
    "\n",
    "    print('termino archivo ' + str(k))"
   ]
  },
  {
   "cell_type": "code",
   "execution_count": 124,
   "metadata": {},
   "outputs": [
    {
     "name": "stdout",
     "output_type": "stream",
     "text": [
      "58 54\n"
     ]
    }
   ],
   "source": [
    "print(len(EOD_peaks_on['Trial 1']), len(EOD_peaks_on['Trial 2']))"
   ]
  },
  {
   "cell_type": "markdown",
   "metadata": {},
   "source": [
    "Como en algunos archivos hay menos de 5 ons, debemos eliminar las listas vacias generadas en nuestros diccionarios"
   ]
  },
  {
   "cell_type": "code",
   "execution_count": 123,
   "metadata": {},
   "outputs": [],
   "source": [
    "for key in ['Trial 1', 'Trial 2']:\n",
    "    EOD_peaks_on[key] = [sublist for sublist in EOD_peaks_on[key] if len(sublist) > 0]\n",
    "    EOD_f_on[key] = [sublist for sublist in EOD_f_on[key] if len(sublist) > 0]"
   ]
  },
  {
   "cell_type": "markdown",
   "metadata": {},
   "source": [
    "Las siguientes celdas calculan las medianas por trial y en total a traves del tiempo. Como cada serie temporal es FB-DOE vs tiempo, estas no estan alineadas. Para resolver eso y calcular la FB-DOE media vs tiempo generamos ventanas temporales de 100 ms a las cuales redondear. "
   ]
  },
  {
   "cell_type": "markdown",
   "metadata": {},
   "source": [
    "Las siguientes celdas contienen el codigo para generar las graficas. La primera genera la paleta de colores, la segunda genera el plot para todos los trials juntos y la tercera para los trials 1 y 2 separados"
   ]
  },
  {
   "cell_type": "code",
   "execution_count": 125,
   "metadata": {},
   "outputs": [
    {
     "name": "stderr",
     "output_type": "stream",
     "text": [
      "C:\\Users\\Compras\\AppData\\Local\\Temp\\ipykernel_13292\\537094389.py:2: MatplotlibDeprecationWarning: The get_cmap function was deprecated in Matplotlib 3.7 and will be removed two minor releases later. Use ``matplotlib.colormaps[name]`` or ``matplotlib.colormaps.get_cmap(obj)`` instead.\n",
      "  colormap = cm.get_cmap('cool')\n",
      "C:\\Users\\Compras\\AppData\\Local\\Temp\\ipykernel_13292\\537094389.py:4: MatplotlibDeprecationWarning: The get_cmap function was deprecated in Matplotlib 3.7 and will be removed two minor releases later. Use ``matplotlib.colormaps[name]`` or ``matplotlib.colormaps.get_cmap(obj)`` instead.\n",
      "  colormap = cm.get_cmap('cool')\n"
     ]
    }
   ],
   "source": [
    "import matplotlib.cm as cm\n",
    "colormap = cm.get_cmap('cool')\n",
    "colors1 = [colormap(i+100) for i in range(len(time_obj_all['Trial 1']))]\n",
    "colormap = cm.get_cmap('cool')\n",
    "colors2 = [colormap(i+100) for i in range(len(time_obj_all['Trial 2']))]\n",
    "colors = {'Trial 1': colors1, 'Trial 2':  colors2}\n"
   ]
  },
  {
   "cell_type": "code",
   "execution_count": 126,
   "metadata": {},
   "outputs": [
    {
     "data": {
      "application/vnd.jupyter.widget-view+json": {
       "model_id": "05ceaa984c344a1da8bade0ef93e0f40",
       "version_major": 2,
       "version_minor": 0
      },
      "image/png": "[encoded data removed]",
      "text/html": [
       "\n",
       "            <div style=\"display: inline-block;\">\n",
       "                <div class=\"jupyter-widgets widget-label\" style=\"text-align: center;\">\n",
       "                    Figure\n",
       "                </div>\n",
       "                <img src='data:image/png;base64,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' width=640.0/>\n",
       "            </div>\n",
       "        "
      ],
      "text/plain": [
       "Canvas(toolbar=Toolbar(toolitems=[('Home', 'Reset original view', 'home', 'home'), ('Back', 'Back to previous …"
      ]
     },
     "metadata": {},
     "output_type": "display_data"
    }
   ],
   "source": [
    "%matplotlib widget \n",
    "#plot all trials\n",
    "n_per_on = []\n",
    "t_novelty = []\n",
    "trials = []\n",
    "n_peaks = []\n",
    "day_switch = len(EOD_peaks_on['Trial 1'])\n",
    "fig, ax = plt.subplots()\n",
    "ax2 = ax.twinx()\n",
    "k=0\n",
    "for key in EOD_peaks_on.keys():\n",
    "    time = time_EOD_all[key]\n",
    "    obj = time_obj_all[key]\n",
    "    EOD_zscore = EOD_f_on[key]\n",
    "    peaks = EOD_peaks_on[key]\n",
    "\n",
    "    \n",
    "    if len(EOD_zscore)>0 :\n",
    "        for z_score, peak, t, o, c in zip(EOD_zscore, peaks, time,  obj, colors[key]):\n",
    "            peak = peak[:len(z_score)]\n",
    "            #plt.scatter(t[peak]-o, np.ones(len(peak))*k, color='k', s=.5, alpha=.5)\n",
    "            if len(z_score)>0:\n",
    "                events =[]\n",
    "                for k in np.arange(1,len(z_score)-3):\n",
    "                    is_event = z_score[k] > 2 and z_score[k+1] > 2 and z_score[k+2] > 2 and z_score[k-1] < 2\n",
    "                    if is_event: \n",
    "                        events.append(k) \n",
    "                i_novel = peak[[k for k in events]]\n",
    "                novel = z_score[events]\n",
    "                n_per_on.append(len(i_novel)/len(peak))\n",
    "                n_peaks.append(len(peak))\n",
    "                t_novelty.append(o)\n",
    "                trials.append(k)\n",
    "                plt.scatter(t[i_novel]-o, np.ones(len(i_novel))*k, color=c, s=3)\n",
    "            k += .01\n",
    "        #ax.plot(np.linspace(-.5, 10, len(medians_all_trials['all'])), medians_all_trials['all'], color='k')\n",
    "        #ax.plot(np.linspace(-.5, 10, len(medians_all_trials[key])), medians_all_trials[key], color='k', linestyle='--')\n",
    "\n",
    "        #ax.set_ylim([-.5, 2])\n",
    "        ax.set_ylabel('Trials')\n",
    "        ax.set_xlabel('Tiempo respecto a estimulo (s)')\n",
    "\n",
    "\n",
    "bar_width = .01\n",
    "for i, y in zip(trials,n_per_on):\n",
    "    bar_position = 10 -(y) +2\n",
    "    ax2.barh(i + bar_width*i, y, height=bar_width, color='k', alpha=.5, left=bar_position)  # Bar for each line\n",
    "\n",
    "hours = [int(trial // 3600) for trial in t_novelty]\n",
    "minutes = [int(trial % 3600) // 60 for trial in t_novelty]\n",
    "dates = [datetime.now().replace(hour=hour, minute=minute, second=0, microsecond=0) for hour, minute in zip(hours, minutes)]\n",
    "\n",
    "#ax2.fill_between(x = range(-10,11),y2=0, y1=trials[day_switch], alpha=.1)\n",
    "ax.set_yticks([])\n",
    "\n",
    "ax.set_xticks([-10,-8,-6,-4,-2,0,2,4,6,8,10])\n",
    "ax.set_xticklabels([-10,-8,-6,-4,-2,'0 (on)',2,4,6,8,10])\n",
    "ax.axvline(x=0, color='k', linestyle='-', label='Vertical Line')\n",
    "ax.axvline(x=5, color='k', linestyle='-', label='Vertical Line')\n",
    "ax2.axvline(x=11, color='b', linestyle='--',alpha=.8, label='Vertical Line')\n",
    "\n",
    "x_hist = ax.secondary_xaxis('top')\n",
    "x_hist.set_xticks([11])\n",
    "x_hist.set_xticklabels(['100%'])\n",
    "#ax2.set_yticks(np.linspace(0,k,len(trials)))\n",
    "#ax2.set_yticklabels([date.strftime(\"%H:%M\") for date in dates], fontsize=8)\n",
    "\n",
    "ax2.set_ylabel('Tiempo de prendido del estimulo')\n",
    "plt.show()\n"
   ]
  },
  {
   "cell_type": "code",
   "execution_count": 129,
   "metadata": {},
   "outputs": [
    {
     "data": {
      "text/plain": [
       "48.148148148148145"
      ]
     },
     "execution_count": 129,
     "metadata": {},
     "output_type": "execute_result"
    }
   ],
   "source": [
    "count = 0\n",
    "for i in n_per_on[58:]:\n",
    "    if i>0:\n",
    "        count+=1 \n",
    "(count/len(n_per_on[58:]))*100"
   ]
  },
  {
   "cell_type": "code",
   "execution_count": 40,
   "metadata": {},
   "outputs": [
    {
     "data": {
      "text/plain": [
       "114"
      ]
     },
     "execution_count": 40,
     "metadata": {},
     "output_type": "execute_result"
    }
   ],
   "source": [
    "len(n_per_on)"
   ]
  },
  {
   "cell_type": "code",
   "execution_count": 33,
   "metadata": {},
   "outputs": [],
   "source": [
    "p = []\n",
    "p.append(sum([x*y for x,y in zip(n_per_on, n_peaks)])/1200)\n"
   ]
  },
  {
   "cell_type": "code",
   "execution_count": 19,
   "metadata": {},
   "outputs": [
    {
     "data": {
      "text/plain": [
       "[9.405]"
      ]
     },
     "execution_count": 19,
     "metadata": {},
     "output_type": "execute_result"
    }
   ],
   "source": [
    "p"
   ]
  },
  {
   "cell_type": "code",
   "execution_count": null,
   "metadata": {},
   "outputs": [],
   "source": []
  }
 ],
 "metadata": {
  "kernelspec": {
   "display_name": "base",
   "language": "python",
   "name": "python3"
  },
  "language_info": {
   "codemirror_mode": {
    "name": "ipython",
    "version": 3
   },
   "file_extension": ".py",
   "mimetype": "text/x-python",
   "name": "python",
   "nbconvert_exporter": "python",
   "pygments_lexer": "ipython3",
   "version": "3.11.4"
  }
 },
 "nbformat": 4,
 "nbformat_minor": 2
}
