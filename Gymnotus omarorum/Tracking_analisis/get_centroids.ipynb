{
 "cells": [
  {
   "cell_type": "code",
   "execution_count": 1,
   "metadata": {},
   "outputs": [],
   "source": [
    "import pandas as pd\n",
    "import numpy as np\n",
    "import matplotlib.pyplot as plt\n",
    "import glob\n",
    "import os\n",
    "import pickle\n",
    "from datetime import datetime, timedelta\n",
    "from scipy.spatial import distance\n",
    "\n",
    "data_folder = '/Volumes/Expansion/Datos G. omarorum/Fish2/Objeto/Trial 1  y 2/pose-estimation/' #cambiar a ruta con archivos .h5\n",
    "os.chdir(data_folder)\n",
    "files_vid = sorted(glob.glob('*.h5'))\n"
   ]
  },
  {
   "cell_type": "code",
   "execution_count": 6,
   "metadata": {},
   "outputs": [],
   "source": [
    "centroids = {}\n",
    "\n",
    "for k in range(len(files_vid)):\n",
    "    track = pd.read_hdf(files_vid[k]) #cargamos el tracking\n",
    "\n",
    "    bodyparts = np.array([x for x in track.columns.get_level_values(1)])\n",
    "    xpositions = pd.DataFrame(np.zeros((len(track),5)), columns=np.unique(bodyparts))\n",
    "    for i in range(5):\n",
    "        xpositions[np.unique(bodyparts)[i]] = (track[track.columns.get_level_values(0)[0], np.unique(bodyparts)[i], 'x'])\n",
    "        \n",
    "    median_xposition = np.median(xpositions, axis=1) #xpos\n",
    "\n",
    "    ypositions = pd.DataFrame(np.zeros((len(track),5)), columns=np.unique(bodyparts))\n",
    "    for i in range(5):\n",
    "        ypositions[np.unique(bodyparts)[i]] = (track[track.columns.get_level_values(0)[0], np.unique(bodyparts)[i], 'y'])\n",
    "        \n",
    "    median_yposition = np.median(ypositions, axis=1) #ypos\n",
    "\n",
    "    centroids_l = []\n",
    "    for j in range(len(median_xposition)):\n",
    "        centroids_l.append([median_xposition[j], median_yposition[j]])\n",
    "\n",
    "    centroids[files_vid[k]] = centroids_l\n"
   ]
  },
  {
   "cell_type": "code",
   "execution_count": 17,
   "metadata": {},
   "outputs": [],
   "source": [
    "with open('centroids.pkl', 'wb') as fp: #cambiar nombre a nombre deseado del archivo a guardar\n",
    "    pickle.dump(centroids, fp)"
   ]
  },
  {
   "cell_type": "code",
   "execution_count": null,
   "metadata": {},
   "outputs": [],
   "source": []
  }
 ],
 "metadata": {
  "kernelspec": {
   "display_name": "base",
   "language": "python",
   "name": "python3"
  },
  "language_info": {
   "codemirror_mode": {
    "name": "ipython",
    "version": 3
   },
   "file_extension": ".py",
   "mimetype": "text/x-python",
   "name": "python",
   "nbconvert_exporter": "python",
   "pygments_lexer": "ipython3",
   "version": "3.11.7"
  }
 },
 "nbformat": 4,
 "nbformat_minor": 2
}
