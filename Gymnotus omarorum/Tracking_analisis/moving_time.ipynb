{
 "cells": [
  {
   "cell_type": "code",
   "execution_count": 74,
   "metadata": {},
   "outputs": [
    {
     "name": "stdout",
     "output_type": "stream",
     "text": [
      "hay 48 archivos\n"
     ]
    }
   ],
   "source": [
    "import pandas as pd\n",
    "import numpy as np\n",
    "import matplotlib.pyplot as plt\n",
    "import os\n",
    "import glob\n",
    "import pickle\n",
    "from scipy.spatial import distance\n",
    "\n",
    "def get_centroids(track, n_keypoints):\n",
    "\n",
    "    centroids = []\n",
    "\n",
    "    bodyparts = np.array([x for x in track.columns.get_level_values(1)])\n",
    "    xpositions = pd.DataFrame(np.zeros((len(track),n_keypoints)), columns=np.unique(bodyparts))\n",
    "    for i in range(n_keypoints):\n",
    "        xpositions[np.unique(bodyparts)[i]] = (track[track.columns.get_level_values(0)[0], np.unique(bodyparts)[i], 'x'])\n",
    "        \n",
    "    median_xposition = np.median(xpositions, axis=1) #xpos\n",
    "\n",
    "    ypositions = pd.DataFrame(np.zeros((len(track),n_keypoints)), columns=np.unique(bodyparts))\n",
    "    for i in range(n_keypoints):\n",
    "        ypositions[np.unique(bodyparts)[i]] = (track[track.columns.get_level_values(0)[0], np.unique(bodyparts)[i], 'y'])\n",
    "        \n",
    "    median_yposition = np.median(ypositions, axis=1) #ypos\n",
    "\n",
    "    for j in range(len(median_xposition)):\n",
    "        centroids.append([median_xposition[j], median_yposition[j]])\n",
    "\n",
    "    return centroids\n",
    "\n",
    "def calculate_velocity(x, sf, pix_to_cm):\n",
    "    desplazamiento = [abs(distance.euclidean(x,y)/pix_to_cm) for x, y in zip(x[1:], x[:-1])]\n",
    "    dt = 1 / sf\n",
    "    v = [i/dt for i in desplazamiento]\n",
    "    return v\n",
    "\n",
    "\n",
    "folder =  r'D:\\datos_GPetersii\\datos_GPetersii\\Fish7\\Object\\raw'\n",
    "os.chdir(folder)\n",
    "files = sorted(glob.glob('*clean.h5'))\n",
    "print('hay ' + str(len(files)) + ' archivos')\n",
    "\n",
    "def calc_time_moving(files):\n",
    "    movement = 0\n",
    "    total = 0 \n",
    "    for file in files:\n",
    "            track = pd.read_hdf(file)\n",
    "\n",
    "            centroids = get_centroids(track, n_keypoints=6)\n",
    "            velocity = calculate_velocity(centroids, sf=50, pix_to_cm=12)\n",
    "\n",
    "            idx_movement = [i for i,x in enumerate(velocity) if x > 10] #filtramos frames con mas de 10cm/s de v\n",
    "\n",
    "            movement += len(idx_movement)\n",
    "\n",
    "            total += len(track)\n",
    "\n",
    "    time_moving = (movement * 100 / total)\n",
    "    print(time_moving)\n"
   ]
  },
  {
   "cell_type": "code",
   "execution_count": 75,
   "metadata": {},
   "outputs": [
    {
     "data": {
      "text/plain": [
       "'video2023-08-13T07_25_13DLC_resnet50_test2Jun21shuffle1_200000_clean.h5'"
      ]
     },
     "execution_count": 75,
     "metadata": {},
     "output_type": "execute_result"
    }
   ],
   "source": [
    "files[43]"
   ]
  },
  {
   "cell_type": "code",
   "execution_count": 76,
   "metadata": {},
   "outputs": [
    {
     "name": "stdout",
     "output_type": "stream",
     "text": [
      "4.677615506423984\n",
      "1.0860343250062383\n",
      "4.644418227768082\n",
      "5.364426730690902\n",
      "0.4990700661101481\n"
     ]
    }
   ],
   "source": [
    "calc_time_moving(files)\n",
    "calc_time_moving(files[:6])\n",
    "calc_time_moving(files[:12])\n",
    "calc_time_moving(files[12:43])\n",
    "#calc_time_moving(files[36:43])\n",
    "calc_time_moving(files[43:])\n",
    "#calc_time_moving(files[48:])\n",
    "\n"
   ]
  },
  {
   "cell_type": "code",
   "execution_count": null,
   "metadata": {},
   "outputs": [],
   "source": []
  }
 ],
 "metadata": {
  "kernelspec": {
   "display_name": "base",
   "language": "python",
   "name": "python3"
  },
  "language_info": {
   "codemirror_mode": {
    "name": "ipython",
    "version": 3
   },
   "file_extension": ".py",
   "mimetype": "text/x-python",
   "name": "python",
   "nbconvert_exporter": "python",
   "pygments_lexer": "ipython3",
   "version": "3.11.4"
  }
 },
 "nbformat": 4,
 "nbformat_minor": 2
}
