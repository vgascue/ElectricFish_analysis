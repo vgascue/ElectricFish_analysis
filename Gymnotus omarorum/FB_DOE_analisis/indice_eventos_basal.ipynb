{
 "cells": [
  {
   "cell_type": "markdown",
   "metadata": {},
   "source": [
    "Este script genera graficos de frecuencia instantanea de la DOE vs. tiempo durante el estimulo. Superpone cada estimulacion y las separa en sub-plots por hora consecutiva de estimulacion. Tiene la opcion de separar entre el trial de la mañana y la tarde.\n",
    "\n",
    "Toma los archivos .pkl obtenidos de 'EOD_analysis.py' y los .csv registrados con bonsai con los timestamps de los on y off del objeto. Puede ser adaptado para graficar raster-plot, graficar todas las horas de estimulacion en uno y cambiar los rangos de tiempo de interes para plotear. "
   ]
  },
  {
   "cell_type": "code",
   "execution_count": 203,
   "metadata": {},
   "outputs": [],
   "source": [
    "#importamos los paquetes\n",
    "import pandas as pd\n",
    "import numpy as np\n",
    "import matplotlib.pyplot as plt\n",
    "import glob\n",
    "import os\n",
    "import pickle\n",
    "from datetime import datetime, timedelta\n",
    "from scipy.stats import zscore\n",
    "\n",
    "#cambiamos la carpeta de trabajo y cargamos los archivos\n",
    "data_folder = r'D:\\Datos G. omarorum\\Fish6\\Objeto\\Trial 1 y 2\\raw' #cambiar a ruta con archivos .bin\n",
    "os.chdir(data_folder)\n",
    "\n",
    "files_vid = sorted(glob.glob('*.h5'))\n",
    "files_EOD = sorted(glob.glob('*.bin'))\n",
    "obj_coordinates = [291, 213]\n",
    "#definimos parametros\n",
    "sf = 10000\n"
   ]
  },
  {
   "cell_type": "code",
   "execution_count": 204,
   "metadata": {},
   "outputs": [],
   "source": [
    "#cargamos el archivo de FB-DOE\n",
    "with open('fish6_FB-DOE.pkl', 'rb') as file:   #cambiar al nombre apropiado de archivo\n",
    "        FB_doe = pickle.load(file)"
   ]
  },
  {
   "cell_type": "markdown",
   "metadata": {},
   "source": [
    "A continuacion tenemos algunas celdas que pre-procesan nuestros datos y filtran los archivos para solo utilizar los que contienen registros durante la estimulacion."
   ]
  },
  {
   "cell_type": "code",
   "execution_count": 205,
   "metadata": {},
   "outputs": [
    {
     "name": "stdout",
     "output_type": "stream",
     "text": [
      "[datetime.datetime(2024, 2, 2, 17, 1, 11), datetime.datetime(2024, 2, 2, 17, 21, 12), datetime.datetime(2024, 2, 2, 17, 41, 12), datetime.datetime(2024, 2, 2, 18, 1, 12), datetime.datetime(2024, 2, 2, 18, 21, 12), datetime.datetime(2024, 2, 2, 18, 41, 12), datetime.datetime(2024, 2, 2, 19, 1, 12), datetime.datetime(2024, 2, 2, 19, 21, 12), datetime.datetime(2024, 2, 2, 19, 41, 13), datetime.datetime(2024, 2, 2, 20, 1, 13), datetime.datetime(2024, 2, 2, 20, 21, 13), datetime.datetime(2024, 2, 2, 20, 41, 13), datetime.datetime(2024, 2, 2, 21, 1, 13), datetime.datetime(2024, 2, 2, 21, 21, 13), datetime.datetime(2024, 2, 2, 21, 41, 13), datetime.datetime(2024, 2, 2, 22, 1, 14), datetime.datetime(2024, 2, 2, 22, 21, 14), datetime.datetime(2024, 2, 2, 22, 41, 14), datetime.datetime(2024, 2, 2, 23, 1, 14), datetime.datetime(2024, 2, 2, 23, 21, 14), datetime.datetime(2024, 2, 2, 23, 41, 14), datetime.datetime(2024, 2, 3, 0, 1, 15), datetime.datetime(2024, 2, 3, 0, 21, 15), datetime.datetime(2024, 2, 3, 0, 41, 15), datetime.datetime(2024, 2, 3, 1, 1, 15), datetime.datetime(2024, 2, 3, 1, 21, 15), datetime.datetime(2024, 2, 3, 1, 41, 15), datetime.datetime(2024, 2, 3, 2, 1, 15), datetime.datetime(2024, 2, 3, 2, 21, 16), datetime.datetime(2024, 2, 3, 2, 41, 16), datetime.datetime(2024, 2, 3, 3, 1, 16), datetime.datetime(2024, 2, 3, 3, 21, 16), datetime.datetime(2024, 2, 3, 3, 41, 16), datetime.datetime(2024, 2, 3, 4, 1, 16), datetime.datetime(2024, 2, 3, 4, 21, 16), datetime.datetime(2024, 2, 3, 4, 41, 17), datetime.datetime(2024, 2, 3, 5, 1, 17), datetime.datetime(2024, 2, 3, 5, 21, 17), datetime.datetime(2024, 2, 3, 5, 41, 17), datetime.datetime(2024, 2, 3, 6, 1, 17), datetime.datetime(2024, 2, 3, 6, 21, 17), datetime.datetime(2024, 2, 3, 6, 41, 18), datetime.datetime(2024, 2, 3, 7, 1, 18), datetime.datetime(2024, 2, 3, 7, 21, 18), datetime.datetime(2024, 2, 3, 7, 41, 18), datetime.datetime(2024, 2, 3, 8, 1, 18), datetime.datetime(2024, 2, 3, 8, 21, 18), datetime.datetime(2024, 2, 3, 8, 41, 18), datetime.datetime(2024, 2, 3, 9, 1, 19), datetime.datetime(2024, 2, 3, 9, 21, 19), datetime.datetime(2024, 2, 3, 9, 41, 19), datetime.datetime(2024, 2, 3, 10, 1, 19), datetime.datetime(2024, 2, 3, 10, 21, 19), datetime.datetime(2024, 2, 3, 10, 41, 19), datetime.datetime(2024, 2, 3, 11, 1, 19)]\n"
     ]
    }
   ],
   "source": [
    "# generamos la lista files_start que contiene las timestamps en formato datetime del comienzo de cada uno de los archivos\n",
    "files_start = [datetime.strptime(key[:-1], '%Y-%m-%dT%H_%M_%S') for key in FB_doe['FB-DOE'].keys()]\n",
    "\n",
    "print(files_start)"
   ]
  },
  {
   "cell_type": "code",
   "execution_count": 206,
   "metadata": {},
   "outputs": [],
   "source": [
    "from datetime import datetime, timedelta\n",
    "\n",
    "def generate_timestamps(start_date, start_time, hours):\n",
    "    # Define the start and end times\n",
    "    start_time = datetime(start_date.year, start_date.month, start_date.day, start_time, 0, 0)\n",
    "    end_time = start_time + timedelta(hours=hours)  # 8 hours from 9 PM to 5 AM\n",
    "\n",
    "    # Initialize an empty list to store timestamps\n",
    "    timestamps = []\n",
    "\n",
    "    # Generate timestamps at one-minute intervals\n",
    "    current_time = start_time\n",
    "    while current_time <= end_time:\n",
    "        timestamps.append(current_time)\n",
    "        current_time += timedelta(minutes=1)\n",
    "\n",
    "    return timestamps\n",
    "\n",
    "# Generamos las timestamps:\n",
    "given_date = files_start[48] \n",
    "timestamps = generate_timestamps(given_date, start_time=9, hours=2)\n"
   ]
  },
  {
   "cell_type": "code",
   "execution_count": 207,
   "metadata": {},
   "outputs": [],
   "source": [
    "import random\n",
    "from datetime import datetime, timedelta\n",
    "\n",
    "# Function to randomly sample 60 timestamps\n",
    "def sample_random_timestamps(timestamps, seed):\n",
    "    # Ensure that we have at least 60 timestamps available\n",
    "    if len(timestamps) < 60:\n",
    "        raise ValueError(\"Not enough timestamps to sample from.\")\n",
    "\n",
    "    random.seed(seed)\n",
    "    # Sample 60 timestamps randomly\n",
    "    sampled_timestamps = random.sample(timestamps, 60)\n",
    "    return sampled_timestamps\n",
    "\n",
    "# Sample 60 random timestamps\n",
    "random_timestamps = sorted(sample_random_timestamps(timestamps, seed=13))"
   ]
  },
  {
   "cell_type": "code",
   "execution_count": 208,
   "metadata": {},
   "outputs": [
    {
     "name": "stdout",
     "output_type": "stream",
     "text": [
      "55 55\n"
     ]
    }
   ],
   "source": [
    "print(len(files_start), len(FB_doe['FB-DOE'].keys()))"
   ]
  },
  {
   "cell_type": "code",
   "execution_count": 209,
   "metadata": {},
   "outputs": [],
   "source": [
    "nueve = datetime(given_date.year, given_date.month, given_date.day, 9, 0, 0)\n",
    "once = nueve + timedelta(hours=2) \n",
    "\n",
    "keys = [x for i, x in enumerate(FB_doe['FB-DOE'].keys()) if files_start[i] > nueve and files_start[i] < once]\n",
    "k_idx = [i for i, x in enumerate(FB_doe['FB-DOE'].keys()) if files_start[i] > nueve and files_start[i] < once]\n",
    "FB_DOE = {key: FB_doe['FB-DOE'][key] for key in keys}\n",
    "Peak_time = {key: FB_doe['Peak-time'][key] for key in keys}# guardamos los peak-times en otra variable\n",
    "n_files = len(keys)"
   ]
  },
  {
   "cell_type": "code",
   "execution_count": 210,
   "metadata": {},
   "outputs": [
    {
     "data": {
      "text/plain": [
       "[datetime.datetime(2024, 2, 3, 9, 1, 19),\n",
       " datetime.datetime(2024, 2, 3, 9, 21, 19),\n",
       " datetime.datetime(2024, 2, 3, 9, 41, 19),\n",
       " datetime.datetime(2024, 2, 3, 10, 1, 19),\n",
       " datetime.datetime(2024, 2, 3, 10, 21, 19),\n",
       " datetime.datetime(2024, 2, 3, 10, 41, 19)]"
      ]
     },
     "execution_count": 210,
     "metadata": {},
     "output_type": "execute_result"
    }
   ],
   "source": [
    "files_start = [files_start[x] for x in k_idx] #nos quedamos solo con los timestamps de los archivos de interes\n",
    "files_start\n"
   ]
  },
  {
   "cell_type": "code",
   "execution_count": 211,
   "metadata": {},
   "outputs": [
    {
     "data": {
      "text/html": [
       "<div>\n",
       "<style scoped>\n",
       "    .dataframe tbody tr th:only-of-type {\n",
       "        vertical-align: middle;\n",
       "    }\n",
       "\n",
       "    .dataframe tbody tr th {\n",
       "        vertical-align: top;\n",
       "    }\n",
       "\n",
       "    .dataframe thead th {\n",
       "        text-align: right;\n",
       "    }\n",
       "</style>\n",
       "<table border=\"1\" class=\"dataframe\">\n",
       "  <thead>\n",
       "    <tr style=\"text-align: right;\">\n",
       "      <th></th>\n",
       "      <th>2024-02-03T09_01_19.</th>\n",
       "      <th>2024-02-03T09_21_19.</th>\n",
       "      <th>2024-02-03T09_41_19.</th>\n",
       "      <th>2024-02-03T10_01_19.</th>\n",
       "      <th>2024-02-03T10_21_19.</th>\n",
       "      <th>2024-02-03T10_41_19.</th>\n",
       "    </tr>\n",
       "  </thead>\n",
       "  <tbody>\n",
       "    <tr>\n",
       "      <th>0</th>\n",
       "      <td>0.0</td>\n",
       "      <td>8.0</td>\n",
       "      <td>19.0</td>\n",
       "      <td>26.0</td>\n",
       "      <td>35.0</td>\n",
       "      <td>NaN</td>\n",
       "    </tr>\n",
       "    <tr>\n",
       "      <th>1</th>\n",
       "      <td>2.0</td>\n",
       "      <td>9.0</td>\n",
       "      <td>20.0</td>\n",
       "      <td>27.0</td>\n",
       "      <td>36.0</td>\n",
       "      <td>NaN</td>\n",
       "    </tr>\n",
       "    <tr>\n",
       "      <th>2</th>\n",
       "      <td>3.0</td>\n",
       "      <td>10.0</td>\n",
       "      <td>21.0</td>\n",
       "      <td>28.0</td>\n",
       "      <td>37.0</td>\n",
       "      <td>NaN</td>\n",
       "    </tr>\n",
       "    <tr>\n",
       "      <th>3</th>\n",
       "      <td>4.0</td>\n",
       "      <td>11.0</td>\n",
       "      <td>22.0</td>\n",
       "      <td>29.0</td>\n",
       "      <td>38.0</td>\n",
       "      <td>NaN</td>\n",
       "    </tr>\n",
       "    <tr>\n",
       "      <th>4</th>\n",
       "      <td>5.0</td>\n",
       "      <td>12.0</td>\n",
       "      <td>23.0</td>\n",
       "      <td>30.0</td>\n",
       "      <td>39.0</td>\n",
       "      <td>NaN</td>\n",
       "    </tr>\n",
       "    <tr>\n",
       "      <th>5</th>\n",
       "      <td>6.0</td>\n",
       "      <td>13.0</td>\n",
       "      <td>24.0</td>\n",
       "      <td>31.0</td>\n",
       "      <td>40.0</td>\n",
       "      <td>NaN</td>\n",
       "    </tr>\n",
       "    <tr>\n",
       "      <th>6</th>\n",
       "      <td>7.0</td>\n",
       "      <td>14.0</td>\n",
       "      <td>25.0</td>\n",
       "      <td>32.0</td>\n",
       "      <td>41.0</td>\n",
       "      <td>NaN</td>\n",
       "    </tr>\n",
       "    <tr>\n",
       "      <th>7</th>\n",
       "      <td>NaN</td>\n",
       "      <td>15.0</td>\n",
       "      <td>NaN</td>\n",
       "      <td>33.0</td>\n",
       "      <td>42.0</td>\n",
       "      <td>NaN</td>\n",
       "    </tr>\n",
       "    <tr>\n",
       "      <th>8</th>\n",
       "      <td>NaN</td>\n",
       "      <td>16.0</td>\n",
       "      <td>NaN</td>\n",
       "      <td>34.0</td>\n",
       "      <td>43.0</td>\n",
       "      <td>NaN</td>\n",
       "    </tr>\n",
       "    <tr>\n",
       "      <th>9</th>\n",
       "      <td>NaN</td>\n",
       "      <td>17.0</td>\n",
       "      <td>NaN</td>\n",
       "      <td>NaN</td>\n",
       "      <td>44.0</td>\n",
       "      <td>NaN</td>\n",
       "    </tr>\n",
       "    <tr>\n",
       "      <th>10</th>\n",
       "      <td>NaN</td>\n",
       "      <td>18.0</td>\n",
       "      <td>NaN</td>\n",
       "      <td>NaN</td>\n",
       "      <td>45.0</td>\n",
       "      <td>NaN</td>\n",
       "    </tr>\n",
       "    <tr>\n",
       "      <th>11</th>\n",
       "      <td>NaN</td>\n",
       "      <td>NaN</td>\n",
       "      <td>NaN</td>\n",
       "      <td>NaN</td>\n",
       "      <td>46.0</td>\n",
       "      <td>NaN</td>\n",
       "    </tr>\n",
       "  </tbody>\n",
       "</table>\n",
       "</div>"
      ],
      "text/plain": [
       "    2024-02-03T09_01_19.  2024-02-03T09_21_19.  2024-02-03T09_41_19.  \\\n",
       "0                    0.0                   8.0                  19.0   \n",
       "1                    2.0                   9.0                  20.0   \n",
       "2                    3.0                  10.0                  21.0   \n",
       "3                    4.0                  11.0                  22.0   \n",
       "4                    5.0                  12.0                  23.0   \n",
       "5                    6.0                  13.0                  24.0   \n",
       "6                    7.0                  14.0                  25.0   \n",
       "7                    NaN                  15.0                   NaN   \n",
       "8                    NaN                  16.0                   NaN   \n",
       "9                    NaN                  17.0                   NaN   \n",
       "10                   NaN                  18.0                   NaN   \n",
       "11                   NaN                   NaN                   NaN   \n",
       "\n",
       "    2024-02-03T10_01_19.  2024-02-03T10_21_19.  2024-02-03T10_41_19.  \n",
       "0                   26.0                  35.0                   NaN  \n",
       "1                   27.0                  36.0                   NaN  \n",
       "2                   28.0                  37.0                   NaN  \n",
       "3                   29.0                  38.0                   NaN  \n",
       "4                   30.0                  39.0                   NaN  \n",
       "5                   31.0                  40.0                   NaN  \n",
       "6                   32.0                  41.0                   NaN  \n",
       "7                   33.0                  42.0                   NaN  \n",
       "8                   34.0                  43.0                   NaN  \n",
       "9                    NaN                  44.0                   NaN  \n",
       "10                   NaN                  45.0                   NaN  \n",
       "11                   NaN                  46.0                   NaN  "
      ]
     },
     "execution_count": 211,
     "metadata": {},
     "output_type": "execute_result"
    }
   ],
   "source": [
    "#organizamos cada on segun su archivo de registro\n",
    "files = pd.DataFrame(np.zeros(shape=(20, n_files)), columns=FB_DOE.keys())  # Usamos Int64Dtype para que pueda haber nans en columnas de int\n",
    "\n",
    "for i, column in enumerate(files.columns[:-1], start=0):\n",
    "    start = files_start[i]\n",
    "    end = files_start[i+1]\n",
    "    s = 0\n",
    "    for j in range(len(random_timestamps)):\n",
    "        condition = (start - random_timestamps[j]).total_seconds() < 0 and (end - random_timestamps[j]).total_seconds() > 0\n",
    "        if condition:\n",
    "            files.loc[s, column] = j\n",
    "            s += 1\n",
    "\n",
    "files = files.dropna(how='all')\n",
    "files.replace(0, np.nan, inplace=True) # como inicializamos con una matriz de 0s, si hay algun archivo con menos de 5 ons vamos a tener 0s donde no deben haber, entonces los convertimos a nan\n",
    "files.iloc[0, 0] = 0 # el primer objeto tiene que ser un 0\n",
    "files = files.dropna(how='all')\n",
    "\n",
    "files"
   ]
  },
  {
   "cell_type": "code",
   "execution_count": 212,
   "metadata": {},
   "outputs": [],
   "source": [
    "#inicializamos las listas\n",
    "EOD_peaks_on = []\n",
    "time_EOD_all  = []\n",
    "time_obj_all = []\n",
    "EOD_f_on = []"
   ]
  },
  {
   "cell_type": "code",
   "execution_count": 213,
   "metadata": {},
   "outputs": [
    {
     "name": "stdout",
     "output_type": "stream",
     "text": [
      "termino archivo 0\n",
      "termino archivo 1\n",
      "termino archivo 2\n",
      "termino archivo 3\n",
      "termino archivo 4\n",
      "termino archivo 5\n"
     ]
    }
   ],
   "source": [
    "for k, key in enumerate(files.keys()): #loopeamos entre los archivos de interes\n",
    "    midnight = files_start[k].replace(hour=0, minute=0, second=0, microsecond=0) #definimos la media noche para el dia donde se registro ese archivo\n",
    "    start = abs(midnight - files_start[k]).total_seconds() # calculamos el tiempo de inicio del archivo en segundos totales respecto de las 00 para poder compararla\n",
    "    EOD = np.fromfile(files_EOD[k],dtype=np.int16)\n",
    "    time_EOD = np.linspace(start=start, stop=start+len(EOD)/sf, num=len(EOD))\n",
    "    del EOD\n",
    "\n",
    "    EOD_peaks = np.array(Peak_time[key])\n",
    "    EOD_freq = np.array(FB_DOE[key])\n",
    "    time_obj = np.zeros((20)) #inicializamos nuestra matriz de tiempo de prendida de obj (cada archivo puede tener maximo 5 ons, por eso las dimensiones)\n",
    "\n",
    "    l=0\n",
    "    for i in files.iloc[:,k]:\n",
    "        if not np.isnan(i):\n",
    "                s = abs(midnight - random_timestamps[int(i)]).total_seconds() #calculamos el inicio del on\n",
    "                time_obj[l] = s\n",
    "                time_obj_all.append(s) #guardamos el tiempo de este on en nuestra lista de tiempos de objeto\n",
    "                time_EOD_all.append(time_EOD) #guardamos una copia de time_EOD para cada on \n",
    "                l+=1\n",
    "        \n",
    "    time_peaks = time_EOD[EOD_peaks]\n",
    "    EOD_zscore = zscore(EOD_freq)\n",
    "    for j in range(time_obj.shape[0]):\n",
    "        if not time_obj[j]==0:\n",
    "            range_on = [time_obj[j]-.5, time_obj[j]+10] #definimos el rango de interes: 1/2 segundo antes que sea el on y 2 segundos despues\n",
    "            #con = [range_on[0] <= t and t <= range_on[1] for t in videoTime]\n",
    "            condition = [range_on[0] <= time and time <= range_on[1] for time in time_peaks]\n",
    "\n",
    "            EOD_peaks_on.append(EOD_peaks[condition])\n",
    "            EOD_f_on.append(EOD_zscore[condition[:-1]])\n",
    "\n",
    "\n",
    "    print('termino archivo ' + str(k))"
   ]
  },
  {
   "cell_type": "code",
   "execution_count": 214,
   "metadata": {},
   "outputs": [
    {
     "data": {
      "text/plain": [
       "46365"
      ]
     },
     "execution_count": 214,
     "metadata": {},
     "output_type": "execute_result"
    }
   ],
   "source": [
    "len(EOD_zscore)"
   ]
  },
  {
   "cell_type": "code",
   "execution_count": 215,
   "metadata": {},
   "outputs": [
    {
     "name": "stdout",
     "output_type": "stream",
     "text": [
      "20.454545454545457\n"
     ]
    }
   ],
   "source": [
    "\n",
    "EOD_zscore = EOD_f_on\n",
    "peaks = EOD_peaks_on\n",
    "n_per_on = []\n",
    "if len(EOD_zscore)>0 :\n",
    "    for z_score, peak in zip(EOD_zscore, peaks):\n",
    "        peak = peak[:len(z_score)]\n",
    "        if len(z_score)>0:\n",
    "            events =[]\n",
    "            for k in np.arange(1,len(z_score)-3):\n",
    "                is_event = z_score[k] > 1.5 and z_score[k+1] > 1.5 and z_score[k+2] > 1.5 and z_score[k-1] < 1.5\n",
    "                if is_event: \n",
    "                    events.append(k) \n",
    "            i_novel = peak[[k for k in events]]\n",
    "            novel = z_score[events]\n",
    "            n_per_on.append(len(i_novel)/len(peak))\n",
    "            \n",
    "count = 0\n",
    "for i in n_per_on:\n",
    "    if i>0:\n",
    "        count+=1 \n",
    "\n",
    "print((count/len(n_per_on))*100)"
   ]
  },
  {
   "cell_type": "code",
   "execution_count": 58,
   "metadata": {},
   "outputs": [
    {
     "data": {
      "text/plain": [
       "49"
      ]
     },
     "execution_count": 58,
     "metadata": {},
     "output_type": "execute_result"
    }
   ],
   "source": [
    "len(n_per_on)"
   ]
  },
  {
   "cell_type": "code",
   "execution_count": null,
   "metadata": {},
   "outputs": [],
   "source": []
  }
 ],
 "metadata": {
  "kernelspec": {
   "display_name": "base",
   "language": "python",
   "name": "python3"
  },
  "language_info": {
   "codemirror_mode": {
    "name": "ipython",
    "version": 3
   },
   "file_extension": ".py",
   "mimetype": "text/x-python",
   "name": "python",
   "nbconvert_exporter": "python",
   "pygments_lexer": "ipython3",
   "version": "3.11.9"
  }
 },
 "nbformat": 4,
 "nbformat_minor": 2
}
