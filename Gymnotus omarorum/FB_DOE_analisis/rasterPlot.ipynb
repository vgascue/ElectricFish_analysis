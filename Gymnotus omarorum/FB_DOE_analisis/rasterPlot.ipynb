{
 "cells": [
  {
   "cell_type": "markdown",
   "metadata": {},
   "source": [
    "Este script genera una raster plot para un trial dado. En el raster plot se dibujan las DOEs en cada linea una prendida del objeto 1 segundo antes de prender y los 5 segundos de prendido del objeto.\n",
    "\n",
    "Toma los archivos .bin de las DOEs y el csv que registra las timestamps de los prendidos. "
   ]
  },
  {
   "cell_type": "code",
   "execution_count": 179,
   "metadata": {},
   "outputs": [],
   "source": [
    "import pandas as pd\n",
    "import numpy as np\n",
    "import matplotlib.pyplot as plt\n",
    "import glob\n",
    "import os\n",
    "import pickle\n",
    "from scipy.stats import zscore\n",
    "from scipy.signal import find_peaks, butter, sosfilt\n",
    "from datetime import datetime, timedelta\n",
    "\n",
    "data_folder = '/Volumes/Expansion/Datos G. omarorum/Fish2/Objeto/Trial 1  y 2/raw/' #cambiar a ruta con archivos .bin\n",
    "os.chdir(data_folder)\n",
    "files = glob.glob( '*.bin')\n",
    "on_off = pd.read_csv(\"/Volumes/Expansion/Datos G. omarorum/Fish2/Objeto/Trial 1  y 2/raw/on_off_trial1.csv\", header=None) #archivo csv con las timestamps del objeto\n",
    "n_channels = 2 #nro de canales\n",
    "sf= 10000 #frecuencia de muestreo"
   ]
  },
  {
   "cell_type": "markdown",
   "metadata": {},
   "source": [
    "La siguiente celda genera la lista 'files_start' que guarda los timestamps de los comienzos de cada archivo de DOEs en la carpeta. "
   ]
  },
  {
   "cell_type": "code",
   "execution_count": 180,
   "metadata": {},
   "outputs": [],
   "source": [
    "files_start = []\n",
    "for i in range(len(files)):\n",
    "    files_start.append(datetime.strptime(files[i][10:-4], '%Y-%m-%dT%H_%M_%S'))"
   ]
  },
  {
   "cell_type": "markdown",
   "metadata": {},
   "source": [
    "La siguiente celda convierte los tiempos de on-off a timestamps  "
   ]
  },
  {
   "cell_type": "code",
   "execution_count": 181,
   "metadata": {},
   "outputs": [],
   "source": [
    "for i in range(on_off.shape[0]):\n",
    "    on_off.iloc[i,0] = datetime.fromisoformat(on_off.iloc[i,0][:-6])  # Removing the microseconds for compatibility\n",
    "\n",
    "on_off = on_off.drop(on_off.columns[[1,2]], axis=1)"
   ]
  },
  {
   "cell_type": "markdown",
   "metadata": {},
   "source": [
    "A continuacion seleccionamos los archivos durante los cuales se enciende el objeto"
   ]
  },
  {
   "cell_type": "code",
   "execution_count": 182,
   "metadata": {},
   "outputs": [
    {
     "data": {
      "text/plain": [
       "['EOD_Tank2_2024-01-05T17_02_50.bin',\n",
       " 'EOD_Tank2_2024-01-05T17_22_50.bin',\n",
       " 'EOD_Tank2_2024-01-05T17_42_50.bin',\n",
       " 'EOD_Tank2_2024-01-05T18_02_50.bin',\n",
       " 'EOD_Tank2_2024-01-05T18_22_51.bin',\n",
       " 'EOD_Tank2_2024-01-05T18_42_51.bin',\n",
       " 'EOD_Tank2_2024-01-05T19_02_51.bin',\n",
       " 'EOD_Tank2_2024-01-05T19_22_51.bin',\n",
       " 'EOD_Tank2_2024-01-05T19_42_51.bin',\n",
       " 'EOD_Tank2_2024-01-05T20_02_51.bin',\n",
       " 'EOD_Tank2_2024-01-05T20_22_51.bin',\n",
       " 'EOD_Tank2_2024-01-05T20_42_52.bin']"
      ]
     },
     "execution_count": 182,
     "metadata": {},
     "output_type": "execute_result"
    }
   ],
   "source": [
    "n=0\n",
    "for i in range(len(files_start)):\n",
    "    delta = (files_start[i] - on_off.iloc[-1,0]).total_seconds()\n",
    "    if delta < 0:\n",
    "        n += 1\n",
    "\n",
    "files = files[:n-1]\n",
    "files"
   ]
  },
  {
   "cell_type": "markdown",
   "metadata": {},
   "source": [
    "La siguiente celda reformula la lista de archivos a un Dataframe cuyas columnas son el numero (indice) de on que se prende en cada archivo "
   ]
  },
  {
   "cell_type": "code",
   "execution_count": 183,
   "metadata": {},
   "outputs": [
    {
     "data": {
      "text/plain": [
       "datetime.datetime(2024, 1, 6, 9, 22, 57)"
      ]
     },
     "execution_count": 183,
     "metadata": {},
     "output_type": "execute_result"
    }
   ],
   "source": [
    "files_start[49]"
   ]
  },
  {
   "cell_type": "code",
   "execution_count": 184,
   "metadata": {},
   "outputs": [
    {
     "data": {
      "text/html": [
       "<div>\n",
       "<style scoped>\n",
       "    .dataframe tbody tr th:only-of-type {\n",
       "        vertical-align: middle;\n",
       "    }\n",
       "\n",
       "    .dataframe tbody tr th {\n",
       "        vertical-align: top;\n",
       "    }\n",
       "\n",
       "    .dataframe thead th {\n",
       "        text-align: right;\n",
       "    }\n",
       "</style>\n",
       "<table border=\"1\" class=\"dataframe\">\n",
       "  <thead>\n",
       "    <tr style=\"text-align: right;\">\n",
       "      <th></th>\n",
       "      <th>EOD_Tank2_2024-01-05T17_02_50.bin</th>\n",
       "      <th>EOD_Tank2_2024-01-05T17_22_50.bin</th>\n",
       "      <th>EOD_Tank2_2024-01-05T17_42_50.bin</th>\n",
       "      <th>EOD_Tank2_2024-01-05T18_02_50.bin</th>\n",
       "      <th>EOD_Tank2_2024-01-05T18_22_51.bin</th>\n",
       "      <th>EOD_Tank2_2024-01-05T18_42_51.bin</th>\n",
       "      <th>EOD_Tank2_2024-01-05T19_02_51.bin</th>\n",
       "      <th>EOD_Tank2_2024-01-05T19_22_51.bin</th>\n",
       "      <th>EOD_Tank2_2024-01-05T19_42_51.bin</th>\n",
       "      <th>EOD_Tank2_2024-01-05T20_02_51.bin</th>\n",
       "      <th>EOD_Tank2_2024-01-05T20_22_51.bin</th>\n",
       "      <th>EOD_Tank2_2024-01-05T20_42_52.bin</th>\n",
       "    </tr>\n",
       "  </thead>\n",
       "  <tbody>\n",
       "    <tr>\n",
       "      <th>0</th>\n",
       "      <td>0.0</td>\n",
       "      <td>5.0</td>\n",
       "      <td>10.0</td>\n",
       "      <td>15.0</td>\n",
       "      <td>20.0</td>\n",
       "      <td>25.0</td>\n",
       "      <td>30.0</td>\n",
       "      <td>35.0</td>\n",
       "      <td>40.0</td>\n",
       "      <td>45.0</td>\n",
       "      <td>49.0</td>\n",
       "      <td>54.0</td>\n",
       "    </tr>\n",
       "    <tr>\n",
       "      <th>1</th>\n",
       "      <td>1.0</td>\n",
       "      <td>6.0</td>\n",
       "      <td>11.0</td>\n",
       "      <td>16.0</td>\n",
       "      <td>21.0</td>\n",
       "      <td>26.0</td>\n",
       "      <td>31.0</td>\n",
       "      <td>36.0</td>\n",
       "      <td>41.0</td>\n",
       "      <td>46.0</td>\n",
       "      <td>50.0</td>\n",
       "      <td>55.0</td>\n",
       "    </tr>\n",
       "    <tr>\n",
       "      <th>2</th>\n",
       "      <td>2.0</td>\n",
       "      <td>7.0</td>\n",
       "      <td>12.0</td>\n",
       "      <td>17.0</td>\n",
       "      <td>22.0</td>\n",
       "      <td>27.0</td>\n",
       "      <td>32.0</td>\n",
       "      <td>37.0</td>\n",
       "      <td>42.0</td>\n",
       "      <td>47.0</td>\n",
       "      <td>51.0</td>\n",
       "      <td>56.0</td>\n",
       "    </tr>\n",
       "    <tr>\n",
       "      <th>3</th>\n",
       "      <td>3.0</td>\n",
       "      <td>8.0</td>\n",
       "      <td>13.0</td>\n",
       "      <td>18.0</td>\n",
       "      <td>23.0</td>\n",
       "      <td>28.0</td>\n",
       "      <td>33.0</td>\n",
       "      <td>38.0</td>\n",
       "      <td>43.0</td>\n",
       "      <td>48.0</td>\n",
       "      <td>52.0</td>\n",
       "      <td>57.0</td>\n",
       "    </tr>\n",
       "    <tr>\n",
       "      <th>4</th>\n",
       "      <td>4.0</td>\n",
       "      <td>9.0</td>\n",
       "      <td>14.0</td>\n",
       "      <td>19.0</td>\n",
       "      <td>24.0</td>\n",
       "      <td>29.0</td>\n",
       "      <td>34.0</td>\n",
       "      <td>39.0</td>\n",
       "      <td>44.0</td>\n",
       "      <td>NaN</td>\n",
       "      <td>53.0</td>\n",
       "      <td>58.0</td>\n",
       "    </tr>\n",
       "  </tbody>\n",
       "</table>\n",
       "</div>"
      ],
      "text/plain": [
       "   EOD_Tank2_2024-01-05T17_02_50.bin  EOD_Tank2_2024-01-05T17_22_50.bin  \\\n",
       "0                                0.0                                5.0   \n",
       "1                                1.0                                6.0   \n",
       "2                                2.0                                7.0   \n",
       "3                                3.0                                8.0   \n",
       "4                                4.0                                9.0   \n",
       "\n",
       "   EOD_Tank2_2024-01-05T17_42_50.bin  EOD_Tank2_2024-01-05T18_02_50.bin  \\\n",
       "0                               10.0                               15.0   \n",
       "1                               11.0                               16.0   \n",
       "2                               12.0                               17.0   \n",
       "3                               13.0                               18.0   \n",
       "4                               14.0                               19.0   \n",
       "\n",
       "   EOD_Tank2_2024-01-05T18_22_51.bin  EOD_Tank2_2024-01-05T18_42_51.bin  \\\n",
       "0                               20.0                               25.0   \n",
       "1                               21.0                               26.0   \n",
       "2                               22.0                               27.0   \n",
       "3                               23.0                               28.0   \n",
       "4                               24.0                               29.0   \n",
       "\n",
       "   EOD_Tank2_2024-01-05T19_02_51.bin  EOD_Tank2_2024-01-05T19_22_51.bin  \\\n",
       "0                               30.0                               35.0   \n",
       "1                               31.0                               36.0   \n",
       "2                               32.0                               37.0   \n",
       "3                               33.0                               38.0   \n",
       "4                               34.0                               39.0   \n",
       "\n",
       "   EOD_Tank2_2024-01-05T19_42_51.bin  EOD_Tank2_2024-01-05T20_02_51.bin  \\\n",
       "0                               40.0                               45.0   \n",
       "1                               41.0                               46.0   \n",
       "2                               42.0                               47.0   \n",
       "3                               43.0                               48.0   \n",
       "4                               44.0                                NaN   \n",
       "\n",
       "   EOD_Tank2_2024-01-05T20_22_51.bin  EOD_Tank2_2024-01-05T20_42_52.bin  \n",
       "0                               49.0                               54.0  \n",
       "1                               50.0                               55.0  \n",
       "2                               51.0                               56.0  \n",
       "3                               52.0                               57.0  \n",
       "4                               53.0                               58.0  "
      ]
     },
     "execution_count": 184,
     "metadata": {},
     "output_type": "execute_result"
    }
   ],
   "source": [
    "files = pd.DataFrame(np.zeros(shape=(5,len(files))), columns=files)\n",
    "for i in range(n-1):\n",
    "    start = files_start[i]\n",
    "    e = i+1\n",
    "    end = files_start[e]\n",
    "    for j in range(len(on_off)):        \n",
    "        condicion = (start - on_off[0][j]).total_seconds() < 0 and (end - on_off[0][j]).total_seconds() > 0 \n",
    "        if condicion:\n",
    "            files.iloc[j-(5*i), i] = j\n",
    "\n",
    "files.replace(0, np.nan, inplace=True) # como inicializamos con una matriz de 0s, si hay algun archivo con menos de 5 ons vamos a tener 0s donde no deben haber, entonces los convertimos a nan\n",
    "files.iloc[0,0] = 0 # el primer objeto tiene que ser un 0\n",
    "for col in list(files.keys()): #este codigo es para asegurarnos que hayan quedado los numeros de on en orden\n",
    "    files[col] = sorted(files[col])\n",
    "files"
   ]
  },
  {
   "cell_type": "markdown",
   "metadata": {},
   "source": [
    "La finalidad de la siguiente celda es generar tres listas: time_EOD_all, time_obj_all y EOD_peaks_on. Estas listas contienen en cada elemento el tiempo de la EOD, el tiempo donde el obj esta prendido y los picos de la DOE, respectivamente, para cada prendida de objeto. "
   ]
  },
  {
   "cell_type": "code",
   "execution_count": 185,
   "metadata": {},
   "outputs": [],
   "source": [
    "EOD_peaks_on = []\n",
    "time_EOD_all  = []\n",
    "time_obj_all = []\n",
    "\n",
    "for k in range(len(files.keys())): #loopeamos entre los archivos de interes\n",
    "    EOD = np.fromfile(files.keys()[k],dtype=np.int16) #En esta linea se carga uno de los archivos, para eso hay que indicar el indice del archivo que queremos cargar\n",
    "    EOD_ch = EOD.reshape((int(EOD.shape[0]/n_channels), n_channels)) #cambiamos la forma de nuestros datos de vector a una matriz donde cada colmna es un canal\n",
    "\n",
    "    midnight = files_start[k].replace(hour=0, minute=0, second=0, microsecond=0) #definimos la media noche para el dia donde se registro ese archivo\n",
    "    start = abs(midnight - files_start[k]).total_seconds() # calculamos el tiempo de inicio del archivo en segundos totales respecto de las 00 para poder compararla\n",
    "    time_EOD = np.linspace(start=start, stop=(start + EOD_ch.shape[0]/sf), num=EOD_ch.shape[0]) #generamos el vector de tiempo (en segundos totales del dia) para ese archivo. \n",
    "     \n",
    "    time_obj = np.zeros((1,5)) #inicializamos nuestra matriz de tiempo de prendida de obj (cada archivo puede tener maximo 5 ons, por eso las dimensiones)\n",
    "    l = 0\n",
    "    for i in files.iloc[:,k]: \n",
    "           if not np.isnan(i):\n",
    "                s = abs(midnight - on_off.iloc[int(i),0]).total_seconds() #calculamos el inicio del on\n",
    "                time_obj[0,l] = s\n",
    "                time_obj_all.append(s) #guardamos el tiempo de este on en nuestra lista de tiempos de objeto\n",
    "                time_EOD_all.append(time_EOD) #guardamos una copia de time_EOD para cada on \n",
    "                l += 1\n",
    "\n",
    "    #Pre-procesamiento para centrar en 0 los registros de cada canal\n",
    "    for i in range(n_channels):\n",
    "        medianCh = np.median(EOD_ch[:,i])        \n",
    "        EOD_ch[:,i] -= int(medianCh)\n",
    "\n",
    "    # Combinamos la señal en cada canal para calcular la FB-DOE\n",
    "    EOD = np.square(EOD_ch[:,0], dtype=np.int32) + np.square(EOD_ch[:,1], dtype=np.int32) #agregar termino si se tiene mas de dos canales\n",
    "\n",
    "    # calculate the z-score \n",
    "    z_score = zscore(EOD)\n",
    "\n",
    "        # threshold for finding EOD peaks    \n",
    "    threshold = 1\n",
    "\n",
    "    EOD_peaks, _ = find_peaks(z_score, height = threshold, distance=150)\n",
    "        \n",
    "    EOD_peaks_f = [] #inicializamos lista para guardar los peaks durante el on del objeto en cada archivo\n",
    "    for i in range(len(EOD_peaks)):\n",
    "        for j in range(time_obj.shape[1]):\n",
    "            range_on = [time_obj[0,j]-.5, time_obj[0,j]+2] #definimos el rango de interes: 1/2 segundo antes que sea el on y 2 segundos despues\n",
    "            if time_EOD[EOD_peaks[i]] > range_on[0] and time_EOD[EOD_peaks[i]] < range_on[1]:\n",
    "                EOD_peaks_f.append(EOD_peaks[i])\n",
    "\n",
    "    #como guardamos todo en una lista de forma lineal, a continuacion buscamos los saltos que nos indiquen que pasamos a otro on \n",
    "    EOD_peaks_f = np.array(EOD_peaks_f)\n",
    "    diferencia = EOD_peaks_f[1:] - EOD_peaks_f[:-1] #calculamos la diferencia entre un pico y el siguiente\n",
    "    saltos = []\n",
    "    for i in range(len(diferencia)):\n",
    "        if diferencia[i] > 10000:\n",
    "            saltos.append(i+1)\n",
    "    #guardamos en cada elemento de EOD_peaks_on los picos correspondientes a cada prendida del objeto\n",
    "    EOD_peaks_on.append(EOD_peaks_f[:saltos[0]])\n",
    "    for i in range(1,len(saltos)):\n",
    "        EOD_peaks_on.append(EOD_peaks_f[saltos[i-1]:saltos[i]])\n",
    "    EOD_peaks_on.append(EOD_peaks_f[saltos[-1]:])"
   ]
  },
  {
   "cell_type": "markdown",
   "metadata": {},
   "source": [
    "En la siguiente celda graficamos el raster plot "
   ]
  },
  {
   "cell_type": "code",
   "execution_count": 186,
   "metadata": {},
   "outputs": [
    {
     "data": {
      "text/plain": [
       "<matplotlib.lines.Line2D at 0x28a746910>"
      ]
     },
     "execution_count": 186,
     "metadata": {},
     "output_type": "execute_result"
    },
    {
     "data": {
      "application/vnd.jupyter.widget-view+json": {
       "model_id": "c73141f379564863b0a88b1eff569aa5",
       "version_major": 2,
       "version_minor": 0
      },
      "image/png": "[encoded data removed]",
      "text/html": [
       "\n",
       "            <div style=\"display: inline-block;\">\n",
       "                <div class=\"jupyter-widgets widget-label\" style=\"text-align: center;\">\n",
       "                    Figure\n",
       "                </div>\n",
       "                <img src='data:image/png;base64,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' width=640.0/>\n",
       "            </div>\n",
       "        "
      ],
      "text/plain": [
       "Canvas(toolbar=Toolbar(toolitems=[('Home', 'Reset original view', 'home', 'home'), ('Back', 'Back to previous …"
      ]
     },
     "metadata": {},
     "output_type": "display_data"
    }
   ],
   "source": [
    "%matplotlib widget\n",
    "plt.figure()\n",
    "k=0\n",
    "for j in range(len(EOD_peaks_on)):\n",
    "    time_EOD = time_EOD_all[j]\n",
    "    time_obj = time_obj_all[j]\n",
    "    EOD_p = EOD_peaks_on[j]\n",
    "    x = time_EOD[EOD_p] - time_obj\n",
    "    plt.scatter(x, np.ones(len(x))*k, s=.5, color='k')\n",
    "    k += 0.01\n",
    "\n",
    "plt.axvline(x=0, color='red', linestyle='-', label='Vertical Line')\n"
   ]
  }
 ],
 "metadata": {
  "kernelspec": {
   "display_name": "base",
   "language": "python",
   "name": "python3"
  },
  "language_info": {
   "codemirror_mode": {
    "name": "ipython",
    "version": 3
   },
   "file_extension": ".py",
   "mimetype": "text/x-python",
   "name": "python",
   "nbconvert_exporter": "python",
   "pygments_lexer": "ipython3",
   "version": "3.11.7"
  }
 },
 "nbformat": 4,
 "nbformat_minor": 2
}
