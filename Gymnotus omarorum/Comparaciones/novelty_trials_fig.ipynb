{
 "cells": [
  {
   "cell_type": "code",
   "execution_count": 139,
   "metadata": {},
   "outputs": [
    {
     "data": {
      "text/html": [
       "<div>\n",
       "<style scoped>\n",
       "    .dataframe tbody tr th:only-of-type {\n",
       "        vertical-align: middle;\n",
       "    }\n",
       "\n",
       "    .dataframe tbody tr th {\n",
       "        vertical-align: top;\n",
       "    }\n",
       "\n",
       "    .dataframe thead th {\n",
       "        text-align: right;\n",
       "    }\n",
       "</style>\n",
       "<table border=\"1\" class=\"dataframe\">\n",
       "  <thead>\n",
       "    <tr style=\"text-align: right;\">\n",
       "      <th></th>\n",
       "      <th>GP total</th>\n",
       "      <th>GO total</th>\n",
       "    </tr>\n",
       "  </thead>\n",
       "  <tbody>\n",
       "    <tr>\n",
       "      <th>0</th>\n",
       "      <td>17.891624</td>\n",
       "      <td>0.911530</td>\n",
       "    </tr>\n",
       "    <tr>\n",
       "      <th>1</th>\n",
       "      <td>27.133374</td>\n",
       "      <td>0.016449</td>\n",
       "    </tr>\n",
       "    <tr>\n",
       "      <th>2</th>\n",
       "      <td>14.470341</td>\n",
       "      <td>0.418890</td>\n",
       "    </tr>\n",
       "    <tr>\n",
       "      <th>3</th>\n",
       "      <td>9.931514</td>\n",
       "      <td>0.459366</td>\n",
       "    </tr>\n",
       "    <tr>\n",
       "      <th>4</th>\n",
       "      <td>7.033075</td>\n",
       "      <td>0.013542</td>\n",
       "    </tr>\n",
       "  </tbody>\n",
       "</table>\n",
       "</div>"
      ],
      "text/plain": [
       "    GP total  GO total\n",
       "0  17.891624  0.911530\n",
       "1  27.133374  0.016449\n",
       "2  14.470341  0.418890\n",
       "3   9.931514  0.459366\n",
       "4   7.033075  0.013542"
      ]
     },
     "execution_count": 139,
     "metadata": {},
     "output_type": "execute_result"
    }
   ],
   "source": [
    "import pandas as pd\n",
    "import numpy as np\n",
    "import matplotlib.pyplot as plt\n",
    "import seaborn as sns\n",
    "\n",
    "file = r\"D:\\moving_time_light.csv\"\n",
    "cols = [ 'Objeto L', 'Objeto NL', 'Basal NL', 'Basal L ']\n",
    "novelty_GP = pd.read_csv(file, header=1, delimiter=';').iloc[:,2:6]\n",
    "novelty_GP.columns = cols\n",
    "cols = ['Objeto L (1)', 'Objeto NL (1)', 'Basal NL', 'Objeto NL (2)', 'Objeto L (2)', 'Basal L']\n",
    "novelty_GO = pd.read_csv(file, header=1, delimiter=';').iloc[:,7:]\n",
    "novelty_GO.columns = cols\n",
    "compare = pd.read_csv(file, header=1, delimiter=';')[['GP total', 'GO total']]\n",
    "\n",
    "compare.head()\n"
   ]
  },
  {
   "cell_type": "code",
   "execution_count": 140,
   "metadata": {},
   "outputs": [
    {
     "ename": "NameError",
     "evalue": "name 'n_per_on' is not defined",
     "output_type": "error",
     "traceback": [
      "\u001b[1;31m---------------------------------------------------------------------------\u001b[0m",
      "\u001b[1;31mNameError\u001b[0m                                 Traceback (most recent call last)",
      "Cell \u001b[1;32mIn[140], line 1\u001b[0m\n\u001b[1;32m----> 1\u001b[0m \u001b[38;5;28mlen\u001b[39m(n_per_on)\n",
      "\u001b[1;31mNameError\u001b[0m: name 'n_per_on' is not defined"
     ]
    }
   ],
   "source": [
    "len(n_per_on)"
   ]
  },
  {
   "cell_type": "code",
   "execution_count": 141,
   "metadata": {},
   "outputs": [
    {
     "name": "stderr",
     "output_type": "stream",
     "text": [
      "c:\\Users\\Compras\\anaconda3\\Lib\\site-packages\\seaborn\\_oldcore.py:1119: FutureWarning: use_inf_as_na option is deprecated and will be removed in a future version. Convert inf values to NaN before operating instead.\n",
      "  with pd.option_context('mode.use_inf_as_na', True):\n",
      "c:\\Users\\Compras\\anaconda3\\Lib\\site-packages\\seaborn\\_oldcore.py:1119: FutureWarning: use_inf_as_na option is deprecated and will be removed in a future version. Convert inf values to NaN before operating instead.\n",
      "  with pd.option_context('mode.use_inf_as_na', True):\n",
      "c:\\Users\\Compras\\anaconda3\\Lib\\site-packages\\seaborn\\_oldcore.py:1075: FutureWarning: When grouping with a length-1 list-like, you will need to pass a length-1 tuple to get_group in a future version of pandas. Pass `(name,)` instead of `name` to silence this warning.\n",
      "  data_subset = grouped_data.get_group(pd_key)\n"
     ]
    },
    {
     "data": {
      "image/png": "[encoded data removed]",
      "text/plain": [
       "<Figure size 500x500 with 1 Axes>"
      ]
     },
     "metadata": {},
     "output_type": "display_data"
    }
   ],
   "source": [
    "box = sns.catplot(data=compare.melt(), \n",
    "            x = 'variable',\n",
    "            y = 'value',\n",
    "            kind='bar',\n",
    "            errorbar='sd',\n",
    "            estimator='median',\n",
    "            color='.9'\n",
    "            )\n",
    "points = sns.swarmplot(data=compare.melt(), x='variable', y='value', size=5, color='#9B96E1')\n",
    "box.set(ylim=[0,100], ylabel='Tiempo en movimiento (%)')\n",
    "box.tick_params('x', rotation=45)\n",
    "box.figure.savefig('mov_time_GP_GO.svg', format='svg')\n"
   ]
  },
  {
   "cell_type": "code",
   "execution_count": 142,
   "metadata": {},
   "outputs": [
    {
     "name": "stdout",
     "output_type": "stream",
     "text": [
      "Requirement already satisfied: scikit_posthocs in c:\\users\\compras\\anaconda3\\lib\\site-packages (0.9.0)\n",
      "Requirement already satisfied: numpy in c:\\users\\compras\\anaconda3\\lib\\site-packages (from scikit_posthocs) (1.26.4)\n",
      "Requirement already satisfied: scipy>=1.9.0 in c:\\users\\compras\\anaconda3\\lib\\site-packages (from scikit_posthocs) (1.13.0)\n",
      "Requirement already satisfied: statsmodels in c:\\users\\compras\\anaconda3\\lib\\site-packages (from scikit_posthocs) (0.14.0)\n",
      "Requirement already satisfied: pandas>=0.20.0 in c:\\users\\compras\\anaconda3\\lib\\site-packages (from scikit_posthocs) (2.2.1)\n",
      "Requirement already satisfied: seaborn in c:\\users\\compras\\anaconda3\\lib\\site-packages (from scikit_posthocs) (0.12.2)\n",
      "Requirement already satisfied: matplotlib in c:\\users\\compras\\anaconda3\\lib\\site-packages (from scikit_posthocs) (3.8.4)\n",
      "Requirement already satisfied: python-dateutil>=2.8.2 in c:\\users\\compras\\anaconda3\\lib\\site-packages (from pandas>=0.20.0->scikit_posthocs) (2.8.2)\n",
      "Requirement already satisfied: pytz>=2020.1 in c:\\users\\compras\\anaconda3\\lib\\site-packages (from pandas>=0.20.0->scikit_posthocs) (2024.1)\n",
      "Requirement already satisfied: tzdata>=2022.7 in c:\\users\\compras\\anaconda3\\lib\\site-packages (from pandas>=0.20.0->scikit_posthocs) (2023.3)\n",
      "Requirement already satisfied: contourpy>=1.0.1 in c:\\users\\compras\\anaconda3\\lib\\site-packages (from matplotlib->scikit_posthocs) (1.2.0)\n",
      "Requirement already satisfied: cycler>=0.10 in c:\\users\\compras\\anaconda3\\lib\\site-packages (from matplotlib->scikit_posthocs) (0.11.0)\n",
      "Requirement already satisfied: fonttools>=4.22.0 in c:\\users\\compras\\anaconda3\\lib\\site-packages (from matplotlib->scikit_posthocs) (4.51.0)\n",
      "Requirement already satisfied: kiwisolver>=1.3.1 in c:\\users\\compras\\anaconda3\\lib\\site-packages (from matplotlib->scikit_posthocs) (1.4.4)\n",
      "Requirement already satisfied: packaging>=20.0 in c:\\users\\compras\\anaconda3\\lib\\site-packages (from matplotlib->scikit_posthocs) (23.2)\n",
      "Requirement already satisfied: pillow>=8 in c:\\users\\compras\\anaconda3\\lib\\site-packages (from matplotlib->scikit_posthocs) (10.3.0)\n",
      "Requirement already satisfied: pyparsing>=2.3.1 in c:\\users\\compras\\anaconda3\\lib\\site-packages (from matplotlib->scikit_posthocs) (3.0.9)\n",
      "Requirement already satisfied: patsy>=0.5.2 in c:\\users\\compras\\anaconda3\\lib\\site-packages (from statsmodels->scikit_posthocs) (0.5.3)\n",
      "Requirement already satisfied: six in c:\\users\\compras\\anaconda3\\lib\\site-packages (from patsy>=0.5.2->statsmodels->scikit_posthocs) (1.16.0)\n"
     ]
    }
   ],
   "source": [
    "!pip install scikit_posthocs"
   ]
  },
  {
   "cell_type": "code",
   "execution_count": 164,
   "metadata": {},
   "outputs": [
    {
     "name": "stdout",
     "output_type": "stream",
     "text": [
      "          1         2         3         4         5         6\n",
      "1  1.000000  0.246592  0.813074  0.523181  0.924644  0.155964\n",
      "2  0.246592  1.000000  0.356422  0.602911  0.287291  0.009953\n",
      "3  0.813074  0.356422  1.000000  0.687694  0.887177  0.097876\n",
      "4  0.523181  0.602911  0.687694  1.000000  0.586535  0.039664\n",
      "5  0.924644  0.287291  0.887177  0.586535  1.000000  0.130188\n",
      "6  0.155964  0.009953  0.097876  0.039664  0.130188  1.000000\n"
     ]
    }
   ],
   "source": [
    "import scikit_posthocs as sp\n",
    "data = [novelty_GO[i] for i in novelty_GO.columns]\n",
    "p_values = sp.posthoc_dunn(data)\n",
    "\n",
    "print(p_values)"
   ]
  },
  {
   "cell_type": "code",
   "execution_count": 144,
   "metadata": {},
   "outputs": [
    {
     "data": {
      "text/plain": [
       "Index(['GP total', 'GP objeto L', 'GP objeto NL', 'GP basal NL', 'GP Basal L',\n",
       "       'GO total', 'GO objeto (L)', 'GO objeto (NL)', 'GO basal NL',\n",
       "       'GO objeto (mañana, NL)', 'GO objeto (mañana, L)', 'GO basal L'],\n",
       "      dtype='object')"
      ]
     },
     "execution_count": 144,
     "metadata": {},
     "output_type": "execute_result"
    }
   ],
   "source": [
    "novelty.columns"
   ]
  },
  {
   "cell_type": "code",
   "execution_count": 156,
   "metadata": {},
   "outputs": [
    {
     "data": {
      "text/plain": [
       "MannwhitneyuResult(statistic=0.0, pvalue=0.0011655011655011655)"
      ]
     },
     "execution_count": 156,
     "metadata": {},
     "output_type": "execute_result"
    }
   ],
   "source": [
    "from scipy.stats import mannwhitneyu\n",
    "res = mannwhitneyu(compare['GO total'][:-1], compare['GP total'])\n",
    "res"
   ]
  },
  {
   "cell_type": "code",
   "execution_count": 154,
   "metadata": {},
   "outputs": [],
   "source": [
    "compare.iloc[-1,-1] =0"
   ]
  },
  {
   "cell_type": "code",
   "execution_count": 162,
   "metadata": {},
   "outputs": [
    {
     "data": {
      "text/plain": [
       "0.33009058230168764"
      ]
     },
     "execution_count": 162,
     "metadata": {},
     "output_type": "execute_result"
    }
   ],
   "source": [
    "np.nanstd(compare['GO total'])"
   ]
  },
  {
   "cell_type": "code",
   "execution_count": null,
   "metadata": {},
   "outputs": [],
   "source": []
  }
 ],
 "metadata": {
  "kernelspec": {
   "display_name": "base",
   "language": "python",
   "name": "python3"
  },
  "language_info": {
   "codemirror_mode": {
    "name": "ipython",
    "version": 3
   },
   "file_extension": ".py",
   "mimetype": "text/x-python",
   "name": "python",
   "nbconvert_exporter": "python",
   "pygments_lexer": "ipython3",
   "version": "3.11.9"
  }
 },
 "nbformat": 4,
 "nbformat_minor": 2
}
