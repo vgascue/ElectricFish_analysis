{
 "cells": [
  {
   "cell_type": "markdown",
   "metadata": {},
   "source": [
    "Este script genera graficos de frecuencia instantanea de la DOE vs. tiempo durante el estimulo. Superpone cada estimulacion y las separa en sub-plots por hora consecutiva de estimulacion. Tiene la opcion de separar entre el trial de la mañana y la tarde.\n",
    "\n",
    "Toma los archivos .pkl obtenidos de 'EOD_analysis.py' y los .csv registrados con bonsai con los timestamps de los on y off del objeto. Puede ser adaptado para graficar raster-plot, graficar todas las horas de estimulacion en uno y cambiar los rangos de tiempo de interes para plotear. "
   ]
  },
  {
   "cell_type": "code",
   "execution_count": 140,
   "metadata": {},
   "outputs": [],
   "source": [
    "#importamos los paquetes\n",
    "import pandas as pd\n",
    "import numpy as np\n",
    "import matplotlib.pyplot as plt\n",
    "import glob\n",
    "import os\n",
    "import pickle\n",
    "from datetime import datetime, timedelta\n",
    "from scipy.stats import zscore\n",
    "\n",
    "#cambiamos la carpeta de trabajo y cargamos los archivos\n",
    "data_folder = '/Volumes/Expansion/Datos G. omarorum/Fish3/Objeto/Trial 1 y 2/raw' #cambiar a ruta con archivos .bin\n",
    "os.chdir(data_folder)\n",
    "\n",
    "files_vid = sorted(glob.glob('*.h5'))\n",
    "files_EOD = sorted(glob.glob('*.bin'))\n",
    "#definimos parametros\n",
    "sf = 10000\n"
   ]
  },
  {
   "cell_type": "code",
   "execution_count": 141,
   "metadata": {},
   "outputs": [],
   "source": [
    "#cargamos el archivo de FB-DOE\n",
    "with open('fish3_FB-DOE.pkl', 'rb') as file:   #cambiar al nombre apropiado de archivo\n",
    "        FB_doe = pickle.load(file)\n",
    "\n",
    "files_start = [datetime.strptime(key[:-1], '%Y-%m-%dT%H_%M_%S') for key in FB_doe['FB-DOE'].keys()]"
   ]
  },
  {
   "cell_type": "code",
   "execution_count": 142,
   "metadata": {},
   "outputs": [],
   "source": [
    "#inicializamos las listas\n",
    "EOD_zscore = {}\n",
    "EOD_freq = FB_doe['FB-DOE']\n",
    "EOD_t = FB_doe['Peak-time']\n",
    "hist_bins = []\n",
    "bin_t = []"
   ]
  },
  {
   "cell_type": "code",
   "execution_count": 143,
   "metadata": {},
   "outputs": [],
   "source": [
    "for i,key in enumerate(EOD_freq.keys(), start=1):\n",
    "    freq = EOD_freq[key]\n",
    "    peak = EOD_t[key]\n",
    "    EOD_zscore[key] = zscore(freq)\n",
    "    \n",
    "    ##creamos el vector t en totalseconds del dia\n",
    "    midnight = files_start[i-1].replace(hour=0, minute=0, second=0, microsecond=0) #definimos la media noche para el dia donde se registro ese archivo\n",
    "    start = abs(midnight - files_start[i-1]).total_seconds() # calculamos el tiempo de inicio del archivo en segundos totales respecto de las 00 para poder compararla\n",
    "    EOD = np.fromfile(files_EOD[i-1],dtype=np.int16)\n",
    "    time_EOD = np.linspace(start=start, stop=start+20*60, num=len(EOD))\n",
    "    del EOD\n",
    "\n",
    "    bin_edges = np.arange(time_EOD[0], time_EOD[-1], 30)\n",
    "    for j, e in enumerate(bin_edges, start=1):\n",
    "        if j < len(bin_edges):\n",
    "            range_bin = [e, bin_edges[j]]\n",
    "            zscore_bin = [x for x,y in zip(EOD_zscore[key], time_EOD[peak]) if y > range_bin[0] and y < range_bin[1]]\n",
    "            events_bin = [x for x in zscore_bin if x > 1.2]\n",
    "            bin_t.append(range_bin[0])\n",
    "            hist_bins.append(len(events_bin))\n",
    "    "
   ]
  },
  {
   "cell_type": "code",
   "execution_count": 144,
   "metadata": {},
   "outputs": [
    {
     "data": {
      "text/html": [
       "<div>\n",
       "<style scoped>\n",
       "    .dataframe tbody tr th:only-of-type {\n",
       "        vertical-align: middle;\n",
       "    }\n",
       "\n",
       "    .dataframe tbody tr th {\n",
       "        vertical-align: top;\n",
       "    }\n",
       "\n",
       "    .dataframe thead th {\n",
       "        text-align: right;\n",
       "    }\n",
       "</style>\n",
       "<table border=\"1\" class=\"dataframe\">\n",
       "  <thead>\n",
       "    <tr style=\"text-align: right;\">\n",
       "      <th></th>\n",
       "      <th>Tiempo</th>\n",
       "      <th>Eventos</th>\n",
       "      <th>objeto</th>\n",
       "      <th>color</th>\n",
       "    </tr>\n",
       "  </thead>\n",
       "  <tbody>\n",
       "    <tr>\n",
       "      <th>0</th>\n",
       "      <td>61371.0</td>\n",
       "      <td>2</td>\n",
       "      <td>Objeto</td>\n",
       "      <td>violet</td>\n",
       "    </tr>\n",
       "    <tr>\n",
       "      <th>1</th>\n",
       "      <td>61401.0</td>\n",
       "      <td>26</td>\n",
       "      <td>Objeto</td>\n",
       "      <td>violet</td>\n",
       "    </tr>\n",
       "    <tr>\n",
       "      <th>2</th>\n",
       "      <td>61431.0</td>\n",
       "      <td>179</td>\n",
       "      <td>Objeto</td>\n",
       "      <td>violet</td>\n",
       "    </tr>\n",
       "    <tr>\n",
       "      <th>3</th>\n",
       "      <td>61461.0</td>\n",
       "      <td>364</td>\n",
       "      <td>Objeto</td>\n",
       "      <td>violet</td>\n",
       "    </tr>\n",
       "    <tr>\n",
       "      <th>4</th>\n",
       "      <td>61491.0</td>\n",
       "      <td>924</td>\n",
       "      <td>Objeto</td>\n",
       "      <td>violet</td>\n",
       "    </tr>\n",
       "  </tbody>\n",
       "</table>\n",
       "</div>"
      ],
      "text/plain": [
       "    Tiempo  Eventos  objeto   color\n",
       "0  61371.0        2  Objeto  violet\n",
       "1  61401.0       26  Objeto  violet\n",
       "2  61431.0      179  Objeto  violet\n",
       "3  61461.0      364  Objeto  violet\n",
       "4  61491.0      924  Objeto  violet"
      ]
     },
     "execution_count": 144,
     "metadata": {},
     "output_type": "execute_result"
    }
   ],
   "source": [
    "histograma = pd.DataFrame(zip(bin_t, hist_bins), columns=['Tiempo', 'Eventos'])\n",
    "histograma['objeto'] = ['Objeto' if 61200 < x < 75600 else 'Basal' for x in bin_t]\n",
    "histograma['objeto'] = ['Objeto' if 18000 < x < 32400  else y for x,y in zip(histograma['Tiempo'], histograma['objeto'])]\n",
    "histograma['color'] = ['violet' if x == 'Objeto' else 'k' for x in histograma['objeto']]\n",
    "histograma.head()"
   ]
  },
  {
   "cell_type": "code",
   "execution_count": 145,
   "metadata": {},
   "outputs": [
    {
     "name": "stdout",
     "output_type": "stream",
     "text": [
      "objeto\n",
      "Basal     267.987627\n",
      "Objeto    340.894846\n",
      "Name: Eventos, dtype: float64\n"
     ]
    }
   ],
   "source": [
    "condicion = histograma.groupby('objeto')\n",
    "print(condicion['Eventos'].std())"
   ]
  },
  {
   "cell_type": "code",
   "execution_count": 146,
   "metadata": {},
   "outputs": [],
   "source": [
    "xtickslab = ['17', '21', '1 am', '5 am', '9 am']\n",
    "xticks = [0, 480,960,1440,1920]\n"
   ]
  },
  {
   "cell_type": "code",
   "execution_count": 147,
   "metadata": {},
   "outputs": [
    {
     "name": "stderr",
     "output_type": "stream",
     "text": [
      "/var/folders/dk/0fvz37fn27l9149spycxsyf80000gp/T/ipykernel_79178/2386548385.py:10: UserWarning: set_ticklabels() should only be used with a fixed number of ticks, i.e. after set_ticks() or using a FixedLocator.\n",
      "  fig.set_xticklabels(xtickslab)\n"
     ]
    },
    {
     "data": {
      "application/vnd.jupyter.widget-view+json": {
       "model_id": "742e71f3bce646969def3b57145b85d6",
       "version_major": 2,
       "version_minor": 0
      },
      "image/png": "[encoded data removed]",
      "text/html": [
       "\n",
       "            <div style=\"display: inline-block;\">\n",
       "                <div class=\"jupyter-widgets widget-label\" style=\"text-align: center;\">\n",
       "                    Figure\n",
       "                </div>\n",
       "                <img src='data:image/png;base64,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' width=640.0/>\n",
       "            </div>\n",
       "        "
      ],
      "text/plain": [
       "Canvas(toolbar=Toolbar(toolitems=[('Home', 'Reset original view', 'home', 'home'), ('Back', 'Back to previous …"
      ]
     },
     "metadata": {},
     "output_type": "display_data"
    }
   ],
   "source": [
    "%matplotlib widget\n",
    "ax1, fig = plt.subplots()\n",
    "plt.bar(\n",
    "    x=range(len(histograma)),\n",
    "    height=[x/30 for x in histograma['Eventos']],\n",
    "    color=histograma['color']\n",
    ")\n",
    "fig.set_ylabel('Eventos por segundo')\n",
    "fig.set_xlabel('Tiempo en horas (1 bin = 30s)')\n",
    "fig.set_xticklabels(xtickslab)\n",
    "fig.set_xticks(xticks)\n",
    "plt.show()     "
   ]
  },
  {
   "cell_type": "code",
   "execution_count": 148,
   "metadata": {},
   "outputs": [
    {
     "data": {
      "text/plain": [
       "2145"
      ]
     },
     "execution_count": 148,
     "metadata": {},
     "output_type": "execute_result"
    }
   ],
   "source": [
    "len(histograma)"
   ]
  }
 ],
 "metadata": {
  "kernelspec": {
   "display_name": "base",
   "language": "python",
   "name": "python3"
  },
  "language_info": {
   "codemirror_mode": {
    "name": "ipython",
    "version": 3
   },
   "file_extension": ".py",
   "mimetype": "text/x-python",
   "name": "python",
   "nbconvert_exporter": "python",
   "pygments_lexer": "ipython3",
   "version": "3.11.7"
  }
 },
 "nbformat": 4,
 "nbformat_minor": 2
}
